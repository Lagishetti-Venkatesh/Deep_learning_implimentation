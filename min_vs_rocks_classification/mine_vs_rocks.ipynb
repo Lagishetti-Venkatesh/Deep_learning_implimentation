{
  "nbformat": 4,
  "nbformat_minor": 0,
  "metadata": {
    "colab": {
      "name": "mine_vs_rocks.ipynb",
      "provenance": [],
      "collapsed_sections": []
    },
    "kernelspec": {
      "name": "python3",
      "display_name": "Python 3"
    },
    "accelerator": "TPU"
  },
  "cells": [
    {
      "cell_type": "code",
      "metadata": {
        "id": "296cvKT8mxI9",
        "colab_type": "code",
        "colab": {
          "base_uri": "https://localhost:8080/",
          "height": 738
        },
        "outputId": "01bf9292-0bb3-415f-cf3b-b8c312b0a7a9"
      },
      "source": [
        "%tensorflow_version 2.x\n",
        "import tensorflow as tf\n",
        "print(\"Tensorflow version \" + tf.__version__)\n",
        "\n",
        "try:\n",
        "  tpu = tf.distribute.cluster_resolver.TPUClusterResolver()  # TPU detection\n",
        "  print('Running on TPU ', tpu.cluster_spec().as_dict()['worker'])\n",
        "except ValueError:\n",
        "  raise BaseException('ERROR: Not connected to a TPU runtime; please see the previous cell in this notebook for instructions!')\n",
        "tf.config.experimental_connect_to_cluster(tpu)\n",
        "tf.tpu.experimental.initialize_tpu_system(tpu)\n",
        "tpu_strategy = tf.distribute.experimental.TPUStrategy(tpu)\n"
      ],
      "execution_count": 1,
      "outputs": [
        {
          "output_type": "stream",
          "text": [
            "Tensorflow version 2.2.0\n",
            "Running on TPU  ['10.115.145.66:8470']\n",
            "INFO:tensorflow:Initializing the TPU system: grpc://10.115.145.66:8470\n"
          ],
          "name": "stdout"
        },
        {
          "output_type": "stream",
          "text": [
            "INFO:tensorflow:Initializing the TPU system: grpc://10.115.145.66:8470\n"
          ],
          "name": "stderr"
        },
        {
          "output_type": "stream",
          "text": [
            "INFO:tensorflow:Clearing out eager caches\n"
          ],
          "name": "stdout"
        },
        {
          "output_type": "stream",
          "text": [
            "INFO:tensorflow:Clearing out eager caches\n"
          ],
          "name": "stderr"
        },
        {
          "output_type": "stream",
          "text": [
            "INFO:tensorflow:Finished initializing TPU system.\n"
          ],
          "name": "stdout"
        },
        {
          "output_type": "stream",
          "text": [
            "INFO:tensorflow:Finished initializing TPU system.\n"
          ],
          "name": "stderr"
        },
        {
          "output_type": "stream",
          "text": [
            "INFO:tensorflow:Found TPU system:\n"
          ],
          "name": "stdout"
        },
        {
          "output_type": "stream",
          "text": [
            "INFO:tensorflow:Found TPU system:\n"
          ],
          "name": "stderr"
        },
        {
          "output_type": "stream",
          "text": [
            "INFO:tensorflow:*** Num TPU Cores: 8\n"
          ],
          "name": "stdout"
        },
        {
          "output_type": "stream",
          "text": [
            "INFO:tensorflow:*** Num TPU Cores: 8\n"
          ],
          "name": "stderr"
        },
        {
          "output_type": "stream",
          "text": [
            "INFO:tensorflow:*** Num TPU Workers: 1\n"
          ],
          "name": "stdout"
        },
        {
          "output_type": "stream",
          "text": [
            "INFO:tensorflow:*** Num TPU Workers: 1\n"
          ],
          "name": "stderr"
        },
        {
          "output_type": "stream",
          "text": [
            "INFO:tensorflow:*** Num TPU Cores Per Worker: 8\n"
          ],
          "name": "stdout"
        },
        {
          "output_type": "stream",
          "text": [
            "INFO:tensorflow:*** Num TPU Cores Per Worker: 8\n"
          ],
          "name": "stderr"
        },
        {
          "output_type": "stream",
          "text": [
            "INFO:tensorflow:*** Available Device: _DeviceAttributes(/job:localhost/replica:0/task:0/device:CPU:0, CPU, 0, 0)\n"
          ],
          "name": "stdout"
        },
        {
          "output_type": "stream",
          "text": [
            "INFO:tensorflow:*** Available Device: _DeviceAttributes(/job:localhost/replica:0/task:0/device:CPU:0, CPU, 0, 0)\n"
          ],
          "name": "stderr"
        },
        {
          "output_type": "stream",
          "text": [
            "INFO:tensorflow:*** Available Device: _DeviceAttributes(/job:localhost/replica:0/task:0/device:XLA_CPU:0, XLA_CPU, 0, 0)\n"
          ],
          "name": "stdout"
        },
        {
          "output_type": "stream",
          "text": [
            "INFO:tensorflow:*** Available Device: _DeviceAttributes(/job:localhost/replica:0/task:0/device:XLA_CPU:0, XLA_CPU, 0, 0)\n"
          ],
          "name": "stderr"
        },
        {
          "output_type": "stream",
          "text": [
            "INFO:tensorflow:*** Available Device: _DeviceAttributes(/job:worker/replica:0/task:0/device:CPU:0, CPU, 0, 0)\n"
          ],
          "name": "stdout"
        },
        {
          "output_type": "stream",
          "text": [
            "INFO:tensorflow:*** Available Device: _DeviceAttributes(/job:worker/replica:0/task:0/device:CPU:0, CPU, 0, 0)\n"
          ],
          "name": "stderr"
        },
        {
          "output_type": "stream",
          "text": [
            "INFO:tensorflow:*** Available Device: _DeviceAttributes(/job:worker/replica:0/task:0/device:TPU:0, TPU, 0, 0)\n"
          ],
          "name": "stdout"
        },
        {
          "output_type": "stream",
          "text": [
            "INFO:tensorflow:*** Available Device: _DeviceAttributes(/job:worker/replica:0/task:0/device:TPU:0, TPU, 0, 0)\n"
          ],
          "name": "stderr"
        },
        {
          "output_type": "stream",
          "text": [
            "INFO:tensorflow:*** Available Device: _DeviceAttributes(/job:worker/replica:0/task:0/device:TPU:1, TPU, 0, 0)\n"
          ],
          "name": "stdout"
        },
        {
          "output_type": "stream",
          "text": [
            "INFO:tensorflow:*** Available Device: _DeviceAttributes(/job:worker/replica:0/task:0/device:TPU:1, TPU, 0, 0)\n"
          ],
          "name": "stderr"
        },
        {
          "output_type": "stream",
          "text": [
            "INFO:tensorflow:*** Available Device: _DeviceAttributes(/job:worker/replica:0/task:0/device:TPU:2, TPU, 0, 0)\n"
          ],
          "name": "stdout"
        },
        {
          "output_type": "stream",
          "text": [
            "INFO:tensorflow:*** Available Device: _DeviceAttributes(/job:worker/replica:0/task:0/device:TPU:2, TPU, 0, 0)\n"
          ],
          "name": "stderr"
        },
        {
          "output_type": "stream",
          "text": [
            "INFO:tensorflow:*** Available Device: _DeviceAttributes(/job:worker/replica:0/task:0/device:TPU:3, TPU, 0, 0)\n"
          ],
          "name": "stdout"
        },
        {
          "output_type": "stream",
          "text": [
            "INFO:tensorflow:*** Available Device: _DeviceAttributes(/job:worker/replica:0/task:0/device:TPU:3, TPU, 0, 0)\n"
          ],
          "name": "stderr"
        },
        {
          "output_type": "stream",
          "text": [
            "INFO:tensorflow:*** Available Device: _DeviceAttributes(/job:worker/replica:0/task:0/device:TPU:4, TPU, 0, 0)\n"
          ],
          "name": "stdout"
        },
        {
          "output_type": "stream",
          "text": [
            "INFO:tensorflow:*** Available Device: _DeviceAttributes(/job:worker/replica:0/task:0/device:TPU:4, TPU, 0, 0)\n"
          ],
          "name": "stderr"
        },
        {
          "output_type": "stream",
          "text": [
            "INFO:tensorflow:*** Available Device: _DeviceAttributes(/job:worker/replica:0/task:0/device:TPU:5, TPU, 0, 0)\n"
          ],
          "name": "stdout"
        },
        {
          "output_type": "stream",
          "text": [
            "INFO:tensorflow:*** Available Device: _DeviceAttributes(/job:worker/replica:0/task:0/device:TPU:5, TPU, 0, 0)\n"
          ],
          "name": "stderr"
        },
        {
          "output_type": "stream",
          "text": [
            "INFO:tensorflow:*** Available Device: _DeviceAttributes(/job:worker/replica:0/task:0/device:TPU:6, TPU, 0, 0)\n"
          ],
          "name": "stdout"
        },
        {
          "output_type": "stream",
          "text": [
            "INFO:tensorflow:*** Available Device: _DeviceAttributes(/job:worker/replica:0/task:0/device:TPU:6, TPU, 0, 0)\n"
          ],
          "name": "stderr"
        },
        {
          "output_type": "stream",
          "text": [
            "INFO:tensorflow:*** Available Device: _DeviceAttributes(/job:worker/replica:0/task:0/device:TPU:7, TPU, 0, 0)\n"
          ],
          "name": "stdout"
        },
        {
          "output_type": "stream",
          "text": [
            "INFO:tensorflow:*** Available Device: _DeviceAttributes(/job:worker/replica:0/task:0/device:TPU:7, TPU, 0, 0)\n"
          ],
          "name": "stderr"
        },
        {
          "output_type": "stream",
          "text": [
            "INFO:tensorflow:*** Available Device: _DeviceAttributes(/job:worker/replica:0/task:0/device:TPU_SYSTEM:0, TPU_SYSTEM, 0, 0)\n"
          ],
          "name": "stdout"
        },
        {
          "output_type": "stream",
          "text": [
            "INFO:tensorflow:*** Available Device: _DeviceAttributes(/job:worker/replica:0/task:0/device:TPU_SYSTEM:0, TPU_SYSTEM, 0, 0)\n"
          ],
          "name": "stderr"
        },
        {
          "output_type": "stream",
          "text": [
            "INFO:tensorflow:*** Available Device: _DeviceAttributes(/job:worker/replica:0/task:0/device:XLA_CPU:0, XLA_CPU, 0, 0)\n"
          ],
          "name": "stdout"
        },
        {
          "output_type": "stream",
          "text": [
            "INFO:tensorflow:*** Available Device: _DeviceAttributes(/job:worker/replica:0/task:0/device:XLA_CPU:0, XLA_CPU, 0, 0)\n"
          ],
          "name": "stderr"
        }
      ]
    },
    {
      "cell_type": "code",
      "metadata": {
        "id": "sl2a5EAaGXIs",
        "colab_type": "code",
        "colab": {
          "base_uri": "https://localhost:8080/",
          "height": 34
        },
        "outputId": "ddee522b-db69-4eb4-dc87-4951db93b810"
      },
      "source": [
        "#creating Laels for columns. \n",
        "names = ['col'+str(i+1) for i in range(60)]\n",
        "names +=['label']\n",
        "print(len(names))"
      ],
      "execution_count": 2,
      "outputs": [
        {
          "output_type": "stream",
          "text": [
            "61\n"
          ],
          "name": "stdout"
        }
      ]
    },
    {
      "cell_type": "code",
      "metadata": {
        "id": "ZOanDsSlFFFy",
        "colab_type": "code",
        "colab": {
          "base_uri": "https://localhost:8080/",
          "height": 223
        },
        "outputId": "41526366-78e4-4e58-cd38-1a9c68887f0f"
      },
      "source": [
        "#Reading the data.  \n",
        "import pandas as pd\n",
        "\n",
        "df = pd.read_csv(\"/content/drive/My Drive/Colab Notebooks/min_vs_rocks/sonar.all-data.csv\", names=names)\n",
        "df.head()\n"
      ],
      "execution_count": 3,
      "outputs": [
        {
          "output_type": "execute_result",
          "data": {
            "text/html": [
              "<div>\n",
              "<style scoped>\n",
              "    .dataframe tbody tr th:only-of-type {\n",
              "        vertical-align: middle;\n",
              "    }\n",
              "\n",
              "    .dataframe tbody tr th {\n",
              "        vertical-align: top;\n",
              "    }\n",
              "\n",
              "    .dataframe thead th {\n",
              "        text-align: right;\n",
              "    }\n",
              "</style>\n",
              "<table border=\"1\" class=\"dataframe\">\n",
              "  <thead>\n",
              "    <tr style=\"text-align: right;\">\n",
              "      <th></th>\n",
              "      <th>col1</th>\n",
              "      <th>col2</th>\n",
              "      <th>col3</th>\n",
              "      <th>col4</th>\n",
              "      <th>col5</th>\n",
              "      <th>col6</th>\n",
              "      <th>col7</th>\n",
              "      <th>col8</th>\n",
              "      <th>col9</th>\n",
              "      <th>col10</th>\n",
              "      <th>col11</th>\n",
              "      <th>col12</th>\n",
              "      <th>col13</th>\n",
              "      <th>col14</th>\n",
              "      <th>col15</th>\n",
              "      <th>col16</th>\n",
              "      <th>col17</th>\n",
              "      <th>col18</th>\n",
              "      <th>col19</th>\n",
              "      <th>col20</th>\n",
              "      <th>col21</th>\n",
              "      <th>col22</th>\n",
              "      <th>col23</th>\n",
              "      <th>col24</th>\n",
              "      <th>col25</th>\n",
              "      <th>col26</th>\n",
              "      <th>col27</th>\n",
              "      <th>col28</th>\n",
              "      <th>col29</th>\n",
              "      <th>col30</th>\n",
              "      <th>col31</th>\n",
              "      <th>col32</th>\n",
              "      <th>col33</th>\n",
              "      <th>col34</th>\n",
              "      <th>col35</th>\n",
              "      <th>col36</th>\n",
              "      <th>col37</th>\n",
              "      <th>col38</th>\n",
              "      <th>col39</th>\n",
              "      <th>col40</th>\n",
              "      <th>col41</th>\n",
              "      <th>col42</th>\n",
              "      <th>col43</th>\n",
              "      <th>col44</th>\n",
              "      <th>col45</th>\n",
              "      <th>col46</th>\n",
              "      <th>col47</th>\n",
              "      <th>col48</th>\n",
              "      <th>col49</th>\n",
              "      <th>col50</th>\n",
              "      <th>col51</th>\n",
              "      <th>col52</th>\n",
              "      <th>col53</th>\n",
              "      <th>col54</th>\n",
              "      <th>col55</th>\n",
              "      <th>col56</th>\n",
              "      <th>col57</th>\n",
              "      <th>col58</th>\n",
              "      <th>col59</th>\n",
              "      <th>col60</th>\n",
              "      <th>label</th>\n",
              "    </tr>\n",
              "  </thead>\n",
              "  <tbody>\n",
              "    <tr>\n",
              "      <th>0</th>\n",
              "      <td>0.0200</td>\n",
              "      <td>0.0371</td>\n",
              "      <td>0.0428</td>\n",
              "      <td>0.0207</td>\n",
              "      <td>0.0954</td>\n",
              "      <td>0.0986</td>\n",
              "      <td>0.1539</td>\n",
              "      <td>0.1601</td>\n",
              "      <td>0.3109</td>\n",
              "      <td>0.2111</td>\n",
              "      <td>0.1609</td>\n",
              "      <td>0.1582</td>\n",
              "      <td>0.2238</td>\n",
              "      <td>0.0645</td>\n",
              "      <td>0.0660</td>\n",
              "      <td>0.2273</td>\n",
              "      <td>0.3100</td>\n",
              "      <td>0.2999</td>\n",
              "      <td>0.5078</td>\n",
              "      <td>0.4797</td>\n",
              "      <td>0.5783</td>\n",
              "      <td>0.5071</td>\n",
              "      <td>0.4328</td>\n",
              "      <td>0.5550</td>\n",
              "      <td>0.6711</td>\n",
              "      <td>0.6415</td>\n",
              "      <td>0.7104</td>\n",
              "      <td>0.8080</td>\n",
              "      <td>0.6791</td>\n",
              "      <td>0.3857</td>\n",
              "      <td>0.1307</td>\n",
              "      <td>0.2604</td>\n",
              "      <td>0.5121</td>\n",
              "      <td>0.7547</td>\n",
              "      <td>0.8537</td>\n",
              "      <td>0.8507</td>\n",
              "      <td>0.6692</td>\n",
              "      <td>0.6097</td>\n",
              "      <td>0.4943</td>\n",
              "      <td>0.2744</td>\n",
              "      <td>0.0510</td>\n",
              "      <td>0.2834</td>\n",
              "      <td>0.2825</td>\n",
              "      <td>0.4256</td>\n",
              "      <td>0.2641</td>\n",
              "      <td>0.1386</td>\n",
              "      <td>0.1051</td>\n",
              "      <td>0.1343</td>\n",
              "      <td>0.0383</td>\n",
              "      <td>0.0324</td>\n",
              "      <td>0.0232</td>\n",
              "      <td>0.0027</td>\n",
              "      <td>0.0065</td>\n",
              "      <td>0.0159</td>\n",
              "      <td>0.0072</td>\n",
              "      <td>0.0167</td>\n",
              "      <td>0.0180</td>\n",
              "      <td>0.0084</td>\n",
              "      <td>0.0090</td>\n",
              "      <td>0.0032</td>\n",
              "      <td>R</td>\n",
              "    </tr>\n",
              "    <tr>\n",
              "      <th>1</th>\n",
              "      <td>0.0453</td>\n",
              "      <td>0.0523</td>\n",
              "      <td>0.0843</td>\n",
              "      <td>0.0689</td>\n",
              "      <td>0.1183</td>\n",
              "      <td>0.2583</td>\n",
              "      <td>0.2156</td>\n",
              "      <td>0.3481</td>\n",
              "      <td>0.3337</td>\n",
              "      <td>0.2872</td>\n",
              "      <td>0.4918</td>\n",
              "      <td>0.6552</td>\n",
              "      <td>0.6919</td>\n",
              "      <td>0.7797</td>\n",
              "      <td>0.7464</td>\n",
              "      <td>0.9444</td>\n",
              "      <td>1.0000</td>\n",
              "      <td>0.8874</td>\n",
              "      <td>0.8024</td>\n",
              "      <td>0.7818</td>\n",
              "      <td>0.5212</td>\n",
              "      <td>0.4052</td>\n",
              "      <td>0.3957</td>\n",
              "      <td>0.3914</td>\n",
              "      <td>0.3250</td>\n",
              "      <td>0.3200</td>\n",
              "      <td>0.3271</td>\n",
              "      <td>0.2767</td>\n",
              "      <td>0.4423</td>\n",
              "      <td>0.2028</td>\n",
              "      <td>0.3788</td>\n",
              "      <td>0.2947</td>\n",
              "      <td>0.1984</td>\n",
              "      <td>0.2341</td>\n",
              "      <td>0.1306</td>\n",
              "      <td>0.4182</td>\n",
              "      <td>0.3835</td>\n",
              "      <td>0.1057</td>\n",
              "      <td>0.1840</td>\n",
              "      <td>0.1970</td>\n",
              "      <td>0.1674</td>\n",
              "      <td>0.0583</td>\n",
              "      <td>0.1401</td>\n",
              "      <td>0.1628</td>\n",
              "      <td>0.0621</td>\n",
              "      <td>0.0203</td>\n",
              "      <td>0.0530</td>\n",
              "      <td>0.0742</td>\n",
              "      <td>0.0409</td>\n",
              "      <td>0.0061</td>\n",
              "      <td>0.0125</td>\n",
              "      <td>0.0084</td>\n",
              "      <td>0.0089</td>\n",
              "      <td>0.0048</td>\n",
              "      <td>0.0094</td>\n",
              "      <td>0.0191</td>\n",
              "      <td>0.0140</td>\n",
              "      <td>0.0049</td>\n",
              "      <td>0.0052</td>\n",
              "      <td>0.0044</td>\n",
              "      <td>R</td>\n",
              "    </tr>\n",
              "    <tr>\n",
              "      <th>2</th>\n",
              "      <td>0.0262</td>\n",
              "      <td>0.0582</td>\n",
              "      <td>0.1099</td>\n",
              "      <td>0.1083</td>\n",
              "      <td>0.0974</td>\n",
              "      <td>0.2280</td>\n",
              "      <td>0.2431</td>\n",
              "      <td>0.3771</td>\n",
              "      <td>0.5598</td>\n",
              "      <td>0.6194</td>\n",
              "      <td>0.6333</td>\n",
              "      <td>0.7060</td>\n",
              "      <td>0.5544</td>\n",
              "      <td>0.5320</td>\n",
              "      <td>0.6479</td>\n",
              "      <td>0.6931</td>\n",
              "      <td>0.6759</td>\n",
              "      <td>0.7551</td>\n",
              "      <td>0.8929</td>\n",
              "      <td>0.8619</td>\n",
              "      <td>0.7974</td>\n",
              "      <td>0.6737</td>\n",
              "      <td>0.4293</td>\n",
              "      <td>0.3648</td>\n",
              "      <td>0.5331</td>\n",
              "      <td>0.2413</td>\n",
              "      <td>0.5070</td>\n",
              "      <td>0.8533</td>\n",
              "      <td>0.6036</td>\n",
              "      <td>0.8514</td>\n",
              "      <td>0.8512</td>\n",
              "      <td>0.5045</td>\n",
              "      <td>0.1862</td>\n",
              "      <td>0.2709</td>\n",
              "      <td>0.4232</td>\n",
              "      <td>0.3043</td>\n",
              "      <td>0.6116</td>\n",
              "      <td>0.6756</td>\n",
              "      <td>0.5375</td>\n",
              "      <td>0.4719</td>\n",
              "      <td>0.4647</td>\n",
              "      <td>0.2587</td>\n",
              "      <td>0.2129</td>\n",
              "      <td>0.2222</td>\n",
              "      <td>0.2111</td>\n",
              "      <td>0.0176</td>\n",
              "      <td>0.1348</td>\n",
              "      <td>0.0744</td>\n",
              "      <td>0.0130</td>\n",
              "      <td>0.0106</td>\n",
              "      <td>0.0033</td>\n",
              "      <td>0.0232</td>\n",
              "      <td>0.0166</td>\n",
              "      <td>0.0095</td>\n",
              "      <td>0.0180</td>\n",
              "      <td>0.0244</td>\n",
              "      <td>0.0316</td>\n",
              "      <td>0.0164</td>\n",
              "      <td>0.0095</td>\n",
              "      <td>0.0078</td>\n",
              "      <td>R</td>\n",
              "    </tr>\n",
              "    <tr>\n",
              "      <th>3</th>\n",
              "      <td>0.0100</td>\n",
              "      <td>0.0171</td>\n",
              "      <td>0.0623</td>\n",
              "      <td>0.0205</td>\n",
              "      <td>0.0205</td>\n",
              "      <td>0.0368</td>\n",
              "      <td>0.1098</td>\n",
              "      <td>0.1276</td>\n",
              "      <td>0.0598</td>\n",
              "      <td>0.1264</td>\n",
              "      <td>0.0881</td>\n",
              "      <td>0.1992</td>\n",
              "      <td>0.0184</td>\n",
              "      <td>0.2261</td>\n",
              "      <td>0.1729</td>\n",
              "      <td>0.2131</td>\n",
              "      <td>0.0693</td>\n",
              "      <td>0.2281</td>\n",
              "      <td>0.4060</td>\n",
              "      <td>0.3973</td>\n",
              "      <td>0.2741</td>\n",
              "      <td>0.3690</td>\n",
              "      <td>0.5556</td>\n",
              "      <td>0.4846</td>\n",
              "      <td>0.3140</td>\n",
              "      <td>0.5334</td>\n",
              "      <td>0.5256</td>\n",
              "      <td>0.2520</td>\n",
              "      <td>0.2090</td>\n",
              "      <td>0.3559</td>\n",
              "      <td>0.6260</td>\n",
              "      <td>0.7340</td>\n",
              "      <td>0.6120</td>\n",
              "      <td>0.3497</td>\n",
              "      <td>0.3953</td>\n",
              "      <td>0.3012</td>\n",
              "      <td>0.5408</td>\n",
              "      <td>0.8814</td>\n",
              "      <td>0.9857</td>\n",
              "      <td>0.9167</td>\n",
              "      <td>0.6121</td>\n",
              "      <td>0.5006</td>\n",
              "      <td>0.3210</td>\n",
              "      <td>0.3202</td>\n",
              "      <td>0.4295</td>\n",
              "      <td>0.3654</td>\n",
              "      <td>0.2655</td>\n",
              "      <td>0.1576</td>\n",
              "      <td>0.0681</td>\n",
              "      <td>0.0294</td>\n",
              "      <td>0.0241</td>\n",
              "      <td>0.0121</td>\n",
              "      <td>0.0036</td>\n",
              "      <td>0.0150</td>\n",
              "      <td>0.0085</td>\n",
              "      <td>0.0073</td>\n",
              "      <td>0.0050</td>\n",
              "      <td>0.0044</td>\n",
              "      <td>0.0040</td>\n",
              "      <td>0.0117</td>\n",
              "      <td>R</td>\n",
              "    </tr>\n",
              "    <tr>\n",
              "      <th>4</th>\n",
              "      <td>0.0762</td>\n",
              "      <td>0.0666</td>\n",
              "      <td>0.0481</td>\n",
              "      <td>0.0394</td>\n",
              "      <td>0.0590</td>\n",
              "      <td>0.0649</td>\n",
              "      <td>0.1209</td>\n",
              "      <td>0.2467</td>\n",
              "      <td>0.3564</td>\n",
              "      <td>0.4459</td>\n",
              "      <td>0.4152</td>\n",
              "      <td>0.3952</td>\n",
              "      <td>0.4256</td>\n",
              "      <td>0.4135</td>\n",
              "      <td>0.4528</td>\n",
              "      <td>0.5326</td>\n",
              "      <td>0.7306</td>\n",
              "      <td>0.6193</td>\n",
              "      <td>0.2032</td>\n",
              "      <td>0.4636</td>\n",
              "      <td>0.4148</td>\n",
              "      <td>0.4292</td>\n",
              "      <td>0.5730</td>\n",
              "      <td>0.5399</td>\n",
              "      <td>0.3161</td>\n",
              "      <td>0.2285</td>\n",
              "      <td>0.6995</td>\n",
              "      <td>1.0000</td>\n",
              "      <td>0.7262</td>\n",
              "      <td>0.4724</td>\n",
              "      <td>0.5103</td>\n",
              "      <td>0.5459</td>\n",
              "      <td>0.2881</td>\n",
              "      <td>0.0981</td>\n",
              "      <td>0.1951</td>\n",
              "      <td>0.4181</td>\n",
              "      <td>0.4604</td>\n",
              "      <td>0.3217</td>\n",
              "      <td>0.2828</td>\n",
              "      <td>0.2430</td>\n",
              "      <td>0.1979</td>\n",
              "      <td>0.2444</td>\n",
              "      <td>0.1847</td>\n",
              "      <td>0.0841</td>\n",
              "      <td>0.0692</td>\n",
              "      <td>0.0528</td>\n",
              "      <td>0.0357</td>\n",
              "      <td>0.0085</td>\n",
              "      <td>0.0230</td>\n",
              "      <td>0.0046</td>\n",
              "      <td>0.0156</td>\n",
              "      <td>0.0031</td>\n",
              "      <td>0.0054</td>\n",
              "      <td>0.0105</td>\n",
              "      <td>0.0110</td>\n",
              "      <td>0.0015</td>\n",
              "      <td>0.0072</td>\n",
              "      <td>0.0048</td>\n",
              "      <td>0.0107</td>\n",
              "      <td>0.0094</td>\n",
              "      <td>R</td>\n",
              "    </tr>\n",
              "  </tbody>\n",
              "</table>\n",
              "</div>"
            ],
            "text/plain": [
              "     col1    col2    col3    col4    col5  ...   col57   col58   col59   col60  label\n",
              "0  0.0200  0.0371  0.0428  0.0207  0.0954  ...  0.0180  0.0084  0.0090  0.0032      R\n",
              "1  0.0453  0.0523  0.0843  0.0689  0.1183  ...  0.0140  0.0049  0.0052  0.0044      R\n",
              "2  0.0262  0.0582  0.1099  0.1083  0.0974  ...  0.0316  0.0164  0.0095  0.0078      R\n",
              "3  0.0100  0.0171  0.0623  0.0205  0.0205  ...  0.0050  0.0044  0.0040  0.0117      R\n",
              "4  0.0762  0.0666  0.0481  0.0394  0.0590  ...  0.0072  0.0048  0.0107  0.0094      R\n",
              "\n",
              "[5 rows x 61 columns]"
            ]
          },
          "metadata": {
            "tags": []
          },
          "execution_count": 3
        }
      ]
    },
    {
      "cell_type": "code",
      "metadata": {
        "id": "TFGAaPV7F4bC",
        "colab_type": "code",
        "colab": {
          "base_uri": "https://localhost:8080/",
          "height": 172
        },
        "outputId": "4006e41d-36ad-408f-fc1f-7bf540bf0279"
      },
      "source": [
        "#dropping the target label. \n",
        "y = df.label\n",
        "df.drop(labels=['label'],axis=1, inplace=True)\n",
        "print(df.head())\n",
        "y[0]\n",
        "\n"
      ],
      "execution_count": 4,
      "outputs": [
        {
          "output_type": "stream",
          "text": [
            "     col1    col2    col3    col4  ...   col57   col58   col59   col60\n",
            "0  0.0200  0.0371  0.0428  0.0207  ...  0.0180  0.0084  0.0090  0.0032\n",
            "1  0.0453  0.0523  0.0843  0.0689  ...  0.0140  0.0049  0.0052  0.0044\n",
            "2  0.0262  0.0582  0.1099  0.1083  ...  0.0316  0.0164  0.0095  0.0078\n",
            "3  0.0100  0.0171  0.0623  0.0205  ...  0.0050  0.0044  0.0040  0.0117\n",
            "4  0.0762  0.0666  0.0481  0.0394  ...  0.0072  0.0048  0.0107  0.0094\n",
            "\n",
            "[5 rows x 60 columns]\n"
          ],
          "name": "stdout"
        },
        {
          "output_type": "execute_result",
          "data": {
            "application/vnd.google.colaboratory.intrinsic+json": {
              "type": "string"
            },
            "text/plain": [
              "'R'"
            ]
          },
          "metadata": {
            "tags": []
          },
          "execution_count": 4
        }
      ]
    },
    {
      "cell_type": "code",
      "metadata": {
        "id": "1Q_0C5gCK8RD",
        "colab_type": "code",
        "colab": {}
      },
      "source": [
        "#Applying the standardization. \n",
        "from sklearn.preprocessing import StandardScaler\n",
        "\n",
        "sc = StandardScaler()\n",
        "df = sc.fit_transform(df)"
      ],
      "execution_count": 5,
      "outputs": []
    },
    {
      "cell_type": "code",
      "metadata": {
        "id": "-lE5puMHFuc1",
        "colab_type": "code",
        "colab": {
          "base_uri": "https://localhost:8080/",
          "height": 71
        },
        "outputId": "79f01146-608c-4ed2-f269-264059b874ed"
      },
      "source": [
        "#Reducing the 61 Dimensional Data into 3 dimensional using TSNE. \n",
        "\n",
        "from sklearn.manifold import TSNE\n",
        "import numpy as np\n",
        "import seaborn as sns\n",
        "import matplotlib.pyplot as plt\n",
        "import warnings as wg\n",
        "\n",
        "#Creating Tsne model\n",
        "model = TSNE(n_components = 3, random_state= 10, perplexity= 50, n_iter = 3000)\n",
        "\n",
        "#Transformation of the Data.\n",
        "tsne_data = model.fit_transform(df)\n",
        "tsne_data = np.vstack((tsne_data.T, y)).T\n",
        "\n",
        "wg.filterwarnings('ignore')"
      ],
      "execution_count": 6,
      "outputs": [
        {
          "output_type": "stream",
          "text": [
            "/usr/local/lib/python3.6/dist-packages/statsmodels/tools/_testing.py:19: FutureWarning: pandas.util.testing is deprecated. Use the functions in the public API at pandas.testing instead.\n",
            "  import pandas.util.testing as tm\n"
          ],
          "name": "stderr"
        }
      ]
    },
    {
      "cell_type": "code",
      "metadata": {
        "id": "ScEkx5AaWaeG",
        "colab_type": "code",
        "colab": {
          "base_uri": "https://localhost:8080/",
          "height": 272
        },
        "outputId": "e6608225-39c0-44ef-c2ab-8d3f861ea289"
      },
      "source": [
        "#conversion of numpy array of dimensionally reduced Data into DataFrame. \n",
        "X = pd.DataFrame(tsne_data, columns=['col1', 'col2','col3', 'label'])\n",
        "print(X.head(2))\n",
        "\n",
        "# Extracting the dropping the Target labels. \n",
        "y = X['label'].values\n",
        "X.drop(['label'], axis = 1, inplace=True)\n",
        "print(y[0])\n",
        "X.head()\n"
      ],
      "execution_count": 7,
      "outputs": [
        {
          "output_type": "stream",
          "text": [
            "      col1     col2     col3 label\n",
            "0  -32.258 -213.887 -100.743     R\n",
            "1 -21.5675 -348.702 -257.258     R\n",
            "R\n"
          ],
          "name": "stdout"
        },
        {
          "output_type": "execute_result",
          "data": {
            "text/html": [
              "<div>\n",
              "<style scoped>\n",
              "    .dataframe tbody tr th:only-of-type {\n",
              "        vertical-align: middle;\n",
              "    }\n",
              "\n",
              "    .dataframe tbody tr th {\n",
              "        vertical-align: top;\n",
              "    }\n",
              "\n",
              "    .dataframe thead th {\n",
              "        text-align: right;\n",
              "    }\n",
              "</style>\n",
              "<table border=\"1\" class=\"dataframe\">\n",
              "  <thead>\n",
              "    <tr style=\"text-align: right;\">\n",
              "      <th></th>\n",
              "      <th>col1</th>\n",
              "      <th>col2</th>\n",
              "      <th>col3</th>\n",
              "    </tr>\n",
              "  </thead>\n",
              "  <tbody>\n",
              "    <tr>\n",
              "      <th>0</th>\n",
              "      <td>-32.258</td>\n",
              "      <td>-213.887</td>\n",
              "      <td>-100.743</td>\n",
              "    </tr>\n",
              "    <tr>\n",
              "      <th>1</th>\n",
              "      <td>-21.5675</td>\n",
              "      <td>-348.702</td>\n",
              "      <td>-257.258</td>\n",
              "    </tr>\n",
              "    <tr>\n",
              "      <th>2</th>\n",
              "      <td>-251.166</td>\n",
              "      <td>-60.2217</td>\n",
              "      <td>333.328</td>\n",
              "    </tr>\n",
              "    <tr>\n",
              "      <th>3</th>\n",
              "      <td>-221.834</td>\n",
              "      <td>-132.777</td>\n",
              "      <td>-301.872</td>\n",
              "    </tr>\n",
              "    <tr>\n",
              "      <th>4</th>\n",
              "      <td>22.1838</td>\n",
              "      <td>127.962</td>\n",
              "      <td>238.13</td>\n",
              "    </tr>\n",
              "  </tbody>\n",
              "</table>\n",
              "</div>"
            ],
            "text/plain": [
              "      col1     col2     col3\n",
              "0  -32.258 -213.887 -100.743\n",
              "1 -21.5675 -348.702 -257.258\n",
              "2 -251.166 -60.2217  333.328\n",
              "3 -221.834 -132.777 -301.872\n",
              "4  22.1838  127.962   238.13"
            ]
          },
          "metadata": {
            "tags": []
          },
          "execution_count": 7
        }
      ]
    },
    {
      "cell_type": "code",
      "metadata": {
        "id": "SJmIUHLqWEg-",
        "colab_type": "code",
        "colab": {
          "base_uri": "https://localhost:8080/",
          "height": 69
        },
        "outputId": "ce8af982-a266-488c-a166-6b80ad45cfee"
      },
      "source": [
        "#Labelling and Oe-Hot encoding of the Target Label.\n",
        "import pandas as pd\n",
        "from keras.utils import to_categorical\n",
        "from sklearn.preprocessing import LabelEncoder\n",
        "\n",
        "le = LabelEncoder()\n",
        "\n",
        "y = le.fit_transform(y)\n",
        "print(y[0])\n",
        "y = to_categorical(y)\n",
        "print(y[0])"
      ],
      "execution_count": 8,
      "outputs": [
        {
          "output_type": "stream",
          "text": [
            "1\n",
            "[0. 1.]\n"
          ],
          "name": "stdout"
        },
        {
          "output_type": "stream",
          "text": [
            "Using TensorFlow backend.\n"
          ],
          "name": "stderr"
        }
      ]
    },
    {
      "cell_type": "code",
      "metadata": {
        "id": "0_R7mxMiLTxB",
        "colab_type": "code",
        "colab": {}
      },
      "source": [
        "import matplotlib.pyplot as plt\n",
        "\n",
        "#plotting function for analysing the accuracy levels in both training and testing phase.\n",
        "\n",
        "plt.style.use('seaborn')\n",
        "def plt_dynamic(x, va, tra, ax):\n",
        "  '''\n",
        "  Used to plot the Validation and Training Accuracy.\n",
        "  \n",
        "  Arguments:\n",
        "    x(list):Number of Epochs.\n",
        "    va(list): Values of Validation Accuracy.\n",
        "    tra(list):Values of Training Accuracy.\n",
        "    ax(object)\n",
        "  \n",
        "  Returns:\n",
        "    plotting of the given Data. \n",
        "  '''\n",
        "  ax.plot(x, va, 'r--', label=\"Validation Accuracy\")\n",
        "  ax.plot(x, tra, 'b*-', label=\"Training Accuracy\")\n",
        "  plt.legend()\n",
        "  plt.show()\n"
      ],
      "execution_count": 9,
      "outputs": []
    },
    {
      "cell_type": "code",
      "metadata": {
        "id": "27lD3QdeLZFn",
        "colab_type": "code",
        "colab": {
          "base_uri": "https://localhost:8080/",
          "height": 34
        },
        "outputId": "a102c2fc-a876-49c8-8f2a-7d9f10129f74"
      },
      "source": [
        "#splitting the dataset into training and testing Dataset.\n",
        "from sklearn.model_selection import train_test_split\n",
        "\n",
        "X_train, X_test, y_train, y_test = train_test_split(X, y, random_state=42, test_size=0.2)\n",
        "print(X_train.shape, X_test.shape, y_train.shape, y_test.shape, sep = '\\t')"
      ],
      "execution_count": 10,
      "outputs": [
        {
          "output_type": "stream",
          "text": [
            "(166, 3)\t(42, 3)\t(166, 2)\t(42, 2)\n"
          ],
          "name": "stdout"
        }
      ]
    },
    {
      "cell_type": "code",
      "metadata": {
        "id": "5zCGeiJdZPZ0",
        "colab_type": "code",
        "colab": {}
      },
      "source": [
        "#conversion of the Data into numpy array. \n",
        "X_train = np.array(X_train)\n",
        "y_train = np.array(y_train)\n",
        "X_test = np.array(X_test)\n",
        "y_test = np.array(y_test)"
      ],
      "execution_count": 11,
      "outputs": []
    },
    {
      "cell_type": "code",
      "metadata": {
        "id": "_rwZl5ZOJWJw",
        "colab_type": "code",
        "colab": {
          "base_uri": "https://localhost:8080/",
          "height": 1000
        },
        "outputId": "b30a3297-c04d-4a3b-c9c3-597ebaf3cf52"
      },
      "source": [
        "Epochs = 200\n",
        "from keras.models import Sequential\n",
        "from keras.layers import Dense, Dropout, Flatten,BatchNormalization\n",
        "import keras\n",
        "\n",
        "model = Sequential()\n",
        "model.add(Dense(3, activation = 'relu',kernel_initializer='he_uniform' , \n",
        "                kernel_regularizer=tf.keras.regularizers.l2(0.04)))\n",
        "\n",
        "\n",
        "model.add(Dense(4, activation = 'relu',kernel_initializer='he_uniform',\n",
        "                kernel_regularizer=tf.keras.regularizers.l2(0.04)))\n",
        "model.add(BatchNormalization())\n",
        "model.add(Dropout(0.4))\n",
        "\n",
        "\n",
        "\n",
        "model.add(Dense(2, activation = 'sigmoid' , kernel_initializer='uniform'))\n",
        "\n",
        "model.compile(loss='binary_crossentropy',\n",
        "              optimizer='adam',\n",
        "              metrics=['accuracy'])\n",
        "history = model.fit(X_train, y_train, batch_size =60, epochs=Epochs, \n",
        "                    validation_data=(X_test, y_test), verbose = True)\n",
        "\n",
        "#printing the Validation accuracy and validation loss. \n",
        "score = model.evaluate(X_test, y_test)\n",
        "print(\"Test loss: \", score[0])\n",
        "print(\"Test Accuracy: \", score[1])\n",
        "\n",
        "#plotting the validation accuracy and training Accuracy.\n",
        "fig, ax = plt.subplots(figsize = (10,5))\n",
        "x = list(range(1, Epochs+1))\n",
        "\n",
        "va = history.history['val_accuracy'] \n",
        "tra = history.history['accuracy']\n",
        "plt_dynamic(x, va, tra, ax)\n",
        "plt.show()\n",
        "\n",
        "\n"
      ],
      "execution_count": 12,
      "outputs": [
        {
          "output_type": "stream",
          "text": [
            "Train on 166 samples, validate on 42 samples\n",
            "Epoch 1/200\n",
            "166/166 [==============================] - 0s 2ms/step - loss: 1.1744 - accuracy: 0.5060 - val_loss: 1.1853 - val_accuracy: 0.5238\n",
            "Epoch 2/200\n",
            "166/166 [==============================] - 0s 163us/step - loss: 1.1721 - accuracy: 0.5120 - val_loss: 1.1812 - val_accuracy: 0.5357\n",
            "Epoch 3/200\n",
            "166/166 [==============================] - 0s 169us/step - loss: 1.1692 - accuracy: 0.4639 - val_loss: 1.1775 - val_accuracy: 0.5833\n",
            "Epoch 4/200\n",
            "166/166 [==============================] - 0s 184us/step - loss: 1.1640 - accuracy: 0.5693 - val_loss: 1.1751 - val_accuracy: 0.6071\n",
            "Epoch 5/200\n",
            "166/166 [==============================] - 0s 165us/step - loss: 1.1624 - accuracy: 0.5151 - val_loss: 1.1725 - val_accuracy: 0.5833\n",
            "Epoch 6/200\n",
            "166/166 [==============================] - 0s 171us/step - loss: 1.1590 - accuracy: 0.5060 - val_loss: 1.1701 - val_accuracy: 0.5952\n",
            "Epoch 7/200\n",
            "166/166 [==============================] - 0s 173us/step - loss: 1.1555 - accuracy: 0.5271 - val_loss: 1.1674 - val_accuracy: 0.5119\n",
            "Epoch 8/200\n",
            "166/166 [==============================] - 0s 171us/step - loss: 1.1520 - accuracy: 0.5030 - val_loss: 1.1647 - val_accuracy: 0.5119\n",
            "Epoch 9/200\n",
            "166/166 [==============================] - 0s 166us/step - loss: 1.1496 - accuracy: 0.5271 - val_loss: 1.1622 - val_accuracy: 0.5119\n",
            "Epoch 10/200\n",
            "166/166 [==============================] - 0s 158us/step - loss: 1.1465 - accuracy: 0.4940 - val_loss: 1.1599 - val_accuracy: 0.5238\n",
            "Epoch 11/200\n",
            "166/166 [==============================] - 0s 163us/step - loss: 1.1433 - accuracy: 0.5301 - val_loss: 1.1572 - val_accuracy: 0.5238\n",
            "Epoch 12/200\n",
            "166/166 [==============================] - 0s 176us/step - loss: 1.1374 - accuracy: 0.5633 - val_loss: 1.1546 - val_accuracy: 0.5119\n",
            "Epoch 13/200\n",
            "166/166 [==============================] - 0s 153us/step - loss: 1.1367 - accuracy: 0.5331 - val_loss: 1.1519 - val_accuracy: 0.5119\n",
            "Epoch 14/200\n",
            "166/166 [==============================] - 0s 165us/step - loss: 1.1330 - accuracy: 0.5120 - val_loss: 1.1491 - val_accuracy: 0.5238\n",
            "Epoch 15/200\n",
            "166/166 [==============================] - 0s 166us/step - loss: 1.1314 - accuracy: 0.5241 - val_loss: 1.1465 - val_accuracy: 0.5000\n",
            "Epoch 16/200\n",
            "166/166 [==============================] - 0s 158us/step - loss: 1.1262 - accuracy: 0.5482 - val_loss: 1.1439 - val_accuracy: 0.5000\n",
            "Epoch 17/200\n",
            "166/166 [==============================] - 0s 174us/step - loss: 1.1257 - accuracy: 0.5482 - val_loss: 1.1412 - val_accuracy: 0.5119\n",
            "Epoch 18/200\n",
            "166/166 [==============================] - 0s 165us/step - loss: 1.1210 - accuracy: 0.5633 - val_loss: 1.1385 - val_accuracy: 0.5000\n",
            "Epoch 19/200\n",
            "166/166 [==============================] - 0s 166us/step - loss: 1.1195 - accuracy: 0.5392 - val_loss: 1.1359 - val_accuracy: 0.5000\n",
            "Epoch 20/200\n",
            "166/166 [==============================] - 0s 158us/step - loss: 1.1146 - accuracy: 0.5663 - val_loss: 1.1331 - val_accuracy: 0.4881\n",
            "Epoch 21/200\n",
            "166/166 [==============================] - 0s 190us/step - loss: 1.1130 - accuracy: 0.5602 - val_loss: 1.1303 - val_accuracy: 0.5000\n",
            "Epoch 22/200\n",
            "166/166 [==============================] - 0s 178us/step - loss: 1.1107 - accuracy: 0.5151 - val_loss: 1.1273 - val_accuracy: 0.5000\n",
            "Epoch 23/200\n",
            "166/166 [==============================] - 0s 193us/step - loss: 1.1089 - accuracy: 0.5422 - val_loss: 1.1241 - val_accuracy: 0.5000\n",
            "Epoch 24/200\n",
            "166/166 [==============================] - 0s 161us/step - loss: 1.1083 - accuracy: 0.5060 - val_loss: 1.1207 - val_accuracy: 0.5119\n",
            "Epoch 25/200\n",
            "166/166 [==============================] - 0s 167us/step - loss: 1.1020 - accuracy: 0.5211 - val_loss: 1.1174 - val_accuracy: 0.5119\n",
            "Epoch 26/200\n",
            "166/166 [==============================] - 0s 168us/step - loss: 1.0987 - accuracy: 0.5301 - val_loss: 1.1142 - val_accuracy: 0.5119\n",
            "Epoch 27/200\n",
            "166/166 [==============================] - 0s 185us/step - loss: 1.0979 - accuracy: 0.5361 - val_loss: 1.1110 - val_accuracy: 0.5119\n",
            "Epoch 28/200\n",
            "166/166 [==============================] - 0s 169us/step - loss: 1.0950 - accuracy: 0.4970 - val_loss: 1.1079 - val_accuracy: 0.4881\n",
            "Epoch 29/200\n",
            "166/166 [==============================] - 0s 168us/step - loss: 1.0881 - accuracy: 0.5633 - val_loss: 1.1048 - val_accuracy: 0.4762\n",
            "Epoch 30/200\n",
            "166/166 [==============================] - 0s 182us/step - loss: 1.0871 - accuracy: 0.5151 - val_loss: 1.1019 - val_accuracy: 0.4762\n",
            "Epoch 31/200\n",
            "166/166 [==============================] - 0s 185us/step - loss: 1.0838 - accuracy: 0.5482 - val_loss: 1.0989 - val_accuracy: 0.4762\n",
            "Epoch 32/200\n",
            "166/166 [==============================] - 0s 147us/step - loss: 1.0814 - accuracy: 0.5331 - val_loss: 1.0959 - val_accuracy: 0.4881\n",
            "Epoch 33/200\n",
            "166/166 [==============================] - 0s 168us/step - loss: 1.0790 - accuracy: 0.5633 - val_loss: 1.0931 - val_accuracy: 0.4881\n",
            "Epoch 34/200\n",
            "166/166 [==============================] - 0s 156us/step - loss: 1.0793 - accuracy: 0.5211 - val_loss: 1.0901 - val_accuracy: 0.4762\n",
            "Epoch 35/200\n",
            "166/166 [==============================] - 0s 166us/step - loss: 1.0702 - accuracy: 0.5843 - val_loss: 1.0872 - val_accuracy: 0.4762\n",
            "Epoch 36/200\n",
            "166/166 [==============================] - 0s 163us/step - loss: 1.0666 - accuracy: 0.5542 - val_loss: 1.0846 - val_accuracy: 0.4762\n",
            "Epoch 37/200\n",
            "166/166 [==============================] - 0s 156us/step - loss: 1.0670 - accuracy: 0.5482 - val_loss: 1.0819 - val_accuracy: 0.4643\n",
            "Epoch 38/200\n",
            "166/166 [==============================] - 0s 160us/step - loss: 1.0675 - accuracy: 0.5241 - val_loss: 1.0793 - val_accuracy: 0.4643\n",
            "Epoch 39/200\n",
            "166/166 [==============================] - 0s 165us/step - loss: 1.0649 - accuracy: 0.5542 - val_loss: 1.0765 - val_accuracy: 0.4524\n",
            "Epoch 40/200\n",
            "166/166 [==============================] - 0s 165us/step - loss: 1.0627 - accuracy: 0.5542 - val_loss: 1.0737 - val_accuracy: 0.4643\n",
            "Epoch 41/200\n",
            "166/166 [==============================] - 0s 160us/step - loss: 1.0536 - accuracy: 0.5633 - val_loss: 1.0709 - val_accuracy: 0.4762\n",
            "Epoch 42/200\n",
            "166/166 [==============================] - 0s 158us/step - loss: 1.0594 - accuracy: 0.5120 - val_loss: 1.0683 - val_accuracy: 0.4643\n",
            "Epoch 43/200\n",
            "166/166 [==============================] - 0s 162us/step - loss: 1.0573 - accuracy: 0.5422 - val_loss: 1.0657 - val_accuracy: 0.4643\n",
            "Epoch 44/200\n",
            "166/166 [==============================] - 0s 150us/step - loss: 1.0496 - accuracy: 0.5542 - val_loss: 1.0629 - val_accuracy: 0.4643\n",
            "Epoch 45/200\n",
            "166/166 [==============================] - 0s 172us/step - loss: 1.0447 - accuracy: 0.5994 - val_loss: 1.0601 - val_accuracy: 0.4643\n",
            "Epoch 46/200\n",
            "166/166 [==============================] - 0s 166us/step - loss: 1.0474 - accuracy: 0.5392 - val_loss: 1.0575 - val_accuracy: 0.4643\n",
            "Epoch 47/200\n",
            "166/166 [==============================] - 0s 157us/step - loss: 1.0396 - accuracy: 0.5452 - val_loss: 1.0548 - val_accuracy: 0.4643\n",
            "Epoch 48/200\n",
            "166/166 [==============================] - 0s 144us/step - loss: 1.0433 - accuracy: 0.5271 - val_loss: 1.0524 - val_accuracy: 0.4643\n",
            "Epoch 49/200\n",
            "166/166 [==============================] - 0s 146us/step - loss: 1.0388 - accuracy: 0.5181 - val_loss: 1.0497 - val_accuracy: 0.4643\n",
            "Epoch 50/200\n",
            "166/166 [==============================] - 0s 193us/step - loss: 1.0334 - accuracy: 0.5693 - val_loss: 1.0469 - val_accuracy: 0.4643\n",
            "Epoch 51/200\n",
            "166/166 [==============================] - 0s 164us/step - loss: 1.0288 - accuracy: 0.5392 - val_loss: 1.0443 - val_accuracy: 0.4643\n",
            "Epoch 52/200\n",
            "166/166 [==============================] - 0s 178us/step - loss: 1.0352 - accuracy: 0.5753 - val_loss: 1.0417 - val_accuracy: 0.4643\n",
            "Epoch 53/200\n",
            "166/166 [==============================] - 0s 154us/step - loss: 1.0228 - accuracy: 0.5663 - val_loss: 1.0390 - val_accuracy: 0.4762\n",
            "Epoch 54/200\n",
            "166/166 [==============================] - 0s 140us/step - loss: 1.0248 - accuracy: 0.5843 - val_loss: 1.0361 - val_accuracy: 0.4762\n",
            "Epoch 55/200\n",
            "166/166 [==============================] - 0s 140us/step - loss: 1.0190 - accuracy: 0.5572 - val_loss: 1.0334 - val_accuracy: 0.4762\n",
            "Epoch 56/200\n",
            "166/166 [==============================] - 0s 144us/step - loss: 1.0260 - accuracy: 0.5452 - val_loss: 1.0307 - val_accuracy: 0.4762\n",
            "Epoch 57/200\n",
            "166/166 [==============================] - 0s 164us/step - loss: 1.0122 - accuracy: 0.5482 - val_loss: 1.0279 - val_accuracy: 0.4881\n",
            "Epoch 58/200\n",
            "166/166 [==============================] - 0s 138us/step - loss: 1.0082 - accuracy: 0.5542 - val_loss: 1.0250 - val_accuracy: 0.5000\n",
            "Epoch 59/200\n",
            "166/166 [==============================] - 0s 176us/step - loss: 1.0120 - accuracy: 0.5392 - val_loss: 1.0220 - val_accuracy: 0.5000\n",
            "Epoch 60/200\n",
            "166/166 [==============================] - 0s 168us/step - loss: 1.0163 - accuracy: 0.5633 - val_loss: 1.0189 - val_accuracy: 0.5119\n",
            "Epoch 61/200\n",
            "166/166 [==============================] - 0s 153us/step - loss: 1.0064 - accuracy: 0.5813 - val_loss: 1.0159 - val_accuracy: 0.5000\n",
            "Epoch 62/200\n",
            "166/166 [==============================] - 0s 169us/step - loss: 1.0013 - accuracy: 0.5572 - val_loss: 1.0130 - val_accuracy: 0.5119\n",
            "Epoch 63/200\n",
            "166/166 [==============================] - 0s 172us/step - loss: 0.9964 - accuracy: 0.5813 - val_loss: 1.0102 - val_accuracy: 0.5119\n",
            "Epoch 64/200\n",
            "166/166 [==============================] - 0s 161us/step - loss: 1.0019 - accuracy: 0.5693 - val_loss: 1.0072 - val_accuracy: 0.5119\n",
            "Epoch 65/200\n",
            "166/166 [==============================] - 0s 160us/step - loss: 1.0028 - accuracy: 0.5392 - val_loss: 1.0042 - val_accuracy: 0.5119\n",
            "Epoch 66/200\n",
            "166/166 [==============================] - 0s 148us/step - loss: 0.9874 - accuracy: 0.5633 - val_loss: 1.0011 - val_accuracy: 0.5238\n",
            "Epoch 67/200\n",
            "166/166 [==============================] - 0s 167us/step - loss: 0.9908 - accuracy: 0.5964 - val_loss: 0.9979 - val_accuracy: 0.5476\n",
            "Epoch 68/200\n",
            "166/166 [==============================] - 0s 151us/step - loss: 0.9875 - accuracy: 0.5361 - val_loss: 0.9945 - val_accuracy: 0.5595\n",
            "Epoch 69/200\n",
            "166/166 [==============================] - 0s 169us/step - loss: 0.9871 - accuracy: 0.5663 - val_loss: 0.9914 - val_accuracy: 0.5952\n",
            "Epoch 70/200\n",
            "166/166 [==============================] - 0s 150us/step - loss: 0.9833 - accuracy: 0.5994 - val_loss: 0.9885 - val_accuracy: 0.5952\n",
            "Epoch 71/200\n",
            "166/166 [==============================] - 0s 150us/step - loss: 0.9737 - accuracy: 0.6235 - val_loss: 0.9856 - val_accuracy: 0.6071\n",
            "Epoch 72/200\n",
            "166/166 [==============================] - 0s 153us/step - loss: 0.9792 - accuracy: 0.6054 - val_loss: 0.9826 - val_accuracy: 0.6071\n",
            "Epoch 73/200\n",
            "166/166 [==============================] - 0s 172us/step - loss: 0.9774 - accuracy: 0.5783 - val_loss: 0.9798 - val_accuracy: 0.5952\n",
            "Epoch 74/200\n",
            "166/166 [==============================] - 0s 147us/step - loss: 0.9649 - accuracy: 0.6054 - val_loss: 0.9768 - val_accuracy: 0.5952\n",
            "Epoch 75/200\n",
            "166/166 [==============================] - 0s 170us/step - loss: 0.9753 - accuracy: 0.5633 - val_loss: 0.9738 - val_accuracy: 0.5952\n",
            "Epoch 76/200\n",
            "166/166 [==============================] - 0s 162us/step - loss: 0.9637 - accuracy: 0.5783 - val_loss: 0.9708 - val_accuracy: 0.5952\n",
            "Epoch 77/200\n",
            "166/166 [==============================] - 0s 169us/step - loss: 0.9730 - accuracy: 0.5783 - val_loss: 0.9677 - val_accuracy: 0.6071\n",
            "Epoch 78/200\n",
            "166/166 [==============================] - 0s 175us/step - loss: 0.9721 - accuracy: 0.5482 - val_loss: 0.9647 - val_accuracy: 0.6071\n",
            "Epoch 79/200\n",
            "166/166 [==============================] - 0s 181us/step - loss: 0.9555 - accuracy: 0.6024 - val_loss: 0.9618 - val_accuracy: 0.6190\n",
            "Epoch 80/200\n",
            "166/166 [==============================] - 0s 172us/step - loss: 0.9633 - accuracy: 0.5753 - val_loss: 0.9595 - val_accuracy: 0.6310\n",
            "Epoch 81/200\n",
            "166/166 [==============================] - 0s 160us/step - loss: 0.9591 - accuracy: 0.5723 - val_loss: 0.9574 - val_accuracy: 0.6310\n",
            "Epoch 82/200\n",
            "166/166 [==============================] - 0s 169us/step - loss: 0.9535 - accuracy: 0.5723 - val_loss: 0.9552 - val_accuracy: 0.6310\n",
            "Epoch 83/200\n",
            "166/166 [==============================] - 0s 176us/step - loss: 0.9533 - accuracy: 0.5964 - val_loss: 0.9532 - val_accuracy: 0.6310\n",
            "Epoch 84/200\n",
            "166/166 [==============================] - 0s 183us/step - loss: 0.9536 - accuracy: 0.5663 - val_loss: 0.9514 - val_accuracy: 0.6310\n",
            "Epoch 85/200\n",
            "166/166 [==============================] - 0s 148us/step - loss: 0.9558 - accuracy: 0.5633 - val_loss: 0.9495 - val_accuracy: 0.6190\n",
            "Epoch 86/200\n",
            "166/166 [==============================] - 0s 143us/step - loss: 0.9421 - accuracy: 0.6084 - val_loss: 0.9477 - val_accuracy: 0.6190\n",
            "Epoch 87/200\n",
            "166/166 [==============================] - 0s 164us/step - loss: 0.9344 - accuracy: 0.6295 - val_loss: 0.9458 - val_accuracy: 0.6190\n",
            "Epoch 88/200\n",
            "166/166 [==============================] - 0s 142us/step - loss: 0.9531 - accuracy: 0.5843 - val_loss: 0.9437 - val_accuracy: 0.6190\n",
            "Epoch 89/200\n",
            "166/166 [==============================] - 0s 150us/step - loss: 0.9405 - accuracy: 0.6054 - val_loss: 0.9418 - val_accuracy: 0.6190\n",
            "Epoch 90/200\n",
            "166/166 [==============================] - 0s 162us/step - loss: 0.9396 - accuracy: 0.5843 - val_loss: 0.9399 - val_accuracy: 0.6190\n",
            "Epoch 91/200\n",
            "166/166 [==============================] - 0s 151us/step - loss: 0.9449 - accuracy: 0.5512 - val_loss: 0.9376 - val_accuracy: 0.6310\n",
            "Epoch 92/200\n",
            "166/166 [==============================] - 0s 152us/step - loss: 0.9374 - accuracy: 0.5964 - val_loss: 0.9350 - val_accuracy: 0.6310\n",
            "Epoch 93/200\n",
            "166/166 [==============================] - 0s 147us/step - loss: 0.9312 - accuracy: 0.5813 - val_loss: 0.9329 - val_accuracy: 0.6310\n",
            "Epoch 94/200\n",
            "166/166 [==============================] - 0s 152us/step - loss: 0.9284 - accuracy: 0.6446 - val_loss: 0.9307 - val_accuracy: 0.6310\n",
            "Epoch 95/200\n",
            "166/166 [==============================] - 0s 157us/step - loss: 0.9133 - accuracy: 0.6054 - val_loss: 0.9285 - val_accuracy: 0.6310\n",
            "Epoch 96/200\n",
            "166/166 [==============================] - 0s 164us/step - loss: 0.9073 - accuracy: 0.6777 - val_loss: 0.9265 - val_accuracy: 0.6310\n",
            "Epoch 97/200\n",
            "166/166 [==============================] - 0s 152us/step - loss: 0.9295 - accuracy: 0.5663 - val_loss: 0.9244 - val_accuracy: 0.6310\n",
            "Epoch 98/200\n",
            "166/166 [==============================] - 0s 144us/step - loss: 0.9036 - accuracy: 0.6687 - val_loss: 0.9224 - val_accuracy: 0.6310\n",
            "Epoch 99/200\n",
            "166/166 [==============================] - 0s 160us/step - loss: 0.9285 - accuracy: 0.5482 - val_loss: 0.9200 - val_accuracy: 0.6310\n",
            "Epoch 100/200\n",
            "166/166 [==============================] - 0s 157us/step - loss: 0.9195 - accuracy: 0.5994 - val_loss: 0.9175 - val_accuracy: 0.6429\n",
            "Epoch 101/200\n",
            "166/166 [==============================] - 0s 180us/step - loss: 0.9255 - accuracy: 0.5542 - val_loss: 0.9154 - val_accuracy: 0.6548\n",
            "Epoch 102/200\n",
            "166/166 [==============================] - 0s 167us/step - loss: 0.9106 - accuracy: 0.5633 - val_loss: 0.9136 - val_accuracy: 0.6548\n",
            "Epoch 103/200\n",
            "166/166 [==============================] - 0s 150us/step - loss: 0.9075 - accuracy: 0.5904 - val_loss: 0.9121 - val_accuracy: 0.6548\n",
            "Epoch 104/200\n",
            "166/166 [==============================] - 0s 162us/step - loss: 0.9096 - accuracy: 0.5602 - val_loss: 0.9111 - val_accuracy: 0.6310\n",
            "Epoch 105/200\n",
            "166/166 [==============================] - 0s 140us/step - loss: 0.9028 - accuracy: 0.6145 - val_loss: 0.9094 - val_accuracy: 0.6310\n",
            "Epoch 106/200\n",
            "166/166 [==============================] - 0s 168us/step - loss: 0.9013 - accuracy: 0.5843 - val_loss: 0.9079 - val_accuracy: 0.6310\n",
            "Epoch 107/200\n",
            "166/166 [==============================] - 0s 185us/step - loss: 0.9020 - accuracy: 0.5934 - val_loss: 0.9064 - val_accuracy: 0.6190\n",
            "Epoch 108/200\n",
            "166/166 [==============================] - 0s 159us/step - loss: 0.9078 - accuracy: 0.5873 - val_loss: 0.9042 - val_accuracy: 0.6310\n",
            "Epoch 109/200\n",
            "166/166 [==============================] - 0s 168us/step - loss: 0.9079 - accuracy: 0.5783 - val_loss: 0.9021 - val_accuracy: 0.6310\n",
            "Epoch 110/200\n",
            "166/166 [==============================] - 0s 139us/step - loss: 0.9063 - accuracy: 0.5753 - val_loss: 0.9009 - val_accuracy: 0.6190\n",
            "Epoch 111/200\n",
            "166/166 [==============================] - 0s 161us/step - loss: 0.9116 - accuracy: 0.5392 - val_loss: 0.8990 - val_accuracy: 0.6190\n",
            "Epoch 112/200\n",
            "166/166 [==============================] - 0s 181us/step - loss: 0.9022 - accuracy: 0.5572 - val_loss: 0.8966 - val_accuracy: 0.6190\n",
            "Epoch 113/200\n",
            "166/166 [==============================] - 0s 162us/step - loss: 0.8826 - accuracy: 0.5783 - val_loss: 0.8943 - val_accuracy: 0.6310\n",
            "Epoch 114/200\n",
            "166/166 [==============================] - 0s 179us/step - loss: 0.8804 - accuracy: 0.6355 - val_loss: 0.8918 - val_accuracy: 0.6310\n",
            "Epoch 115/200\n",
            "166/166 [==============================] - 0s 147us/step - loss: 0.8795 - accuracy: 0.6114 - val_loss: 0.8893 - val_accuracy: 0.6429\n",
            "Epoch 116/200\n",
            "166/166 [==============================] - 0s 163us/step - loss: 0.8873 - accuracy: 0.5693 - val_loss: 0.8871 - val_accuracy: 0.6548\n",
            "Epoch 117/200\n",
            "166/166 [==============================] - 0s 152us/step - loss: 0.8810 - accuracy: 0.5904 - val_loss: 0.8848 - val_accuracy: 0.6548\n",
            "Epoch 118/200\n",
            "166/166 [==============================] - 0s 169us/step - loss: 0.8929 - accuracy: 0.5693 - val_loss: 0.8829 - val_accuracy: 0.6548\n",
            "Epoch 119/200\n",
            "166/166 [==============================] - 0s 145us/step - loss: 0.8944 - accuracy: 0.5301 - val_loss: 0.8814 - val_accuracy: 0.6548\n",
            "Epoch 120/200\n",
            "166/166 [==============================] - 0s 163us/step - loss: 0.8865 - accuracy: 0.5964 - val_loss: 0.8803 - val_accuracy: 0.6548\n",
            "Epoch 121/200\n",
            "166/166 [==============================] - 0s 154us/step - loss: 0.8776 - accuracy: 0.6265 - val_loss: 0.8790 - val_accuracy: 0.6429\n",
            "Epoch 122/200\n",
            "166/166 [==============================] - 0s 168us/step - loss: 0.8665 - accuracy: 0.5663 - val_loss: 0.8777 - val_accuracy: 0.6429\n",
            "Epoch 123/200\n",
            "166/166 [==============================] - 0s 154us/step - loss: 0.8808 - accuracy: 0.6175 - val_loss: 0.8762 - val_accuracy: 0.6429\n",
            "Epoch 124/200\n",
            "166/166 [==============================] - 0s 148us/step - loss: 0.8669 - accuracy: 0.5783 - val_loss: 0.8747 - val_accuracy: 0.6429\n",
            "Epoch 125/200\n",
            "166/166 [==============================] - 0s 177us/step - loss: 0.8796 - accuracy: 0.5934 - val_loss: 0.8729 - val_accuracy: 0.6429\n",
            "Epoch 126/200\n",
            "166/166 [==============================] - 0s 147us/step - loss: 0.8834 - accuracy: 0.5843 - val_loss: 0.8713 - val_accuracy: 0.6429\n",
            "Epoch 127/200\n",
            "166/166 [==============================] - 0s 163us/step - loss: 0.8825 - accuracy: 0.5843 - val_loss: 0.8710 - val_accuracy: 0.6310\n",
            "Epoch 128/200\n",
            "166/166 [==============================] - 0s 156us/step - loss: 0.8474 - accuracy: 0.5753 - val_loss: 0.8700 - val_accuracy: 0.6190\n",
            "Epoch 129/200\n",
            "166/166 [==============================] - 0s 149us/step - loss: 0.8617 - accuracy: 0.5422 - val_loss: 0.8690 - val_accuracy: 0.6190\n",
            "Epoch 130/200\n",
            "166/166 [==============================] - 0s 138us/step - loss: 0.8622 - accuracy: 0.6235 - val_loss: 0.8683 - val_accuracy: 0.6190\n",
            "Epoch 131/200\n",
            "166/166 [==============================] - 0s 154us/step - loss: 0.8568 - accuracy: 0.5663 - val_loss: 0.8674 - val_accuracy: 0.6190\n",
            "Epoch 132/200\n",
            "166/166 [==============================] - 0s 151us/step - loss: 0.8773 - accuracy: 0.5873 - val_loss: 0.8671 - val_accuracy: 0.6190\n",
            "Epoch 133/200\n",
            "166/166 [==============================] - 0s 174us/step - loss: 0.8534 - accuracy: 0.6024 - val_loss: 0.8663 - val_accuracy: 0.6190\n",
            "Epoch 134/200\n",
            "166/166 [==============================] - 0s 139us/step - loss: 0.8494 - accuracy: 0.6084 - val_loss: 0.8656 - val_accuracy: 0.6190\n",
            "Epoch 135/200\n",
            "166/166 [==============================] - 0s 155us/step - loss: 0.8668 - accuracy: 0.5361 - val_loss: 0.8651 - val_accuracy: 0.6190\n",
            "Epoch 136/200\n",
            "166/166 [==============================] - 0s 160us/step - loss: 0.8565 - accuracy: 0.5994 - val_loss: 0.8649 - val_accuracy: 0.6071\n",
            "Epoch 137/200\n",
            "166/166 [==============================] - 0s 162us/step - loss: 0.8442 - accuracy: 0.5723 - val_loss: 0.8632 - val_accuracy: 0.5952\n",
            "Epoch 138/200\n",
            "166/166 [==============================] - 0s 141us/step - loss: 0.8615 - accuracy: 0.5934 - val_loss: 0.8609 - val_accuracy: 0.5952\n",
            "Epoch 139/200\n",
            "166/166 [==============================] - 0s 144us/step - loss: 0.8573 - accuracy: 0.5693 - val_loss: 0.8578 - val_accuracy: 0.5952\n",
            "Epoch 140/200\n",
            "166/166 [==============================] - 0s 171us/step - loss: 0.8473 - accuracy: 0.6054 - val_loss: 0.8546 - val_accuracy: 0.6071\n",
            "Epoch 141/200\n",
            "166/166 [==============================] - 0s 164us/step - loss: 0.8608 - accuracy: 0.5783 - val_loss: 0.8526 - val_accuracy: 0.5952\n",
            "Epoch 142/200\n",
            "166/166 [==============================] - 0s 155us/step - loss: 0.8453 - accuracy: 0.5843 - val_loss: 0.8502 - val_accuracy: 0.6071\n",
            "Epoch 143/200\n",
            "166/166 [==============================] - 0s 145us/step - loss: 0.8619 - accuracy: 0.5482 - val_loss: 0.8475 - val_accuracy: 0.6310\n",
            "Epoch 144/200\n",
            "166/166 [==============================] - 0s 168us/step - loss: 0.8488 - accuracy: 0.5663 - val_loss: 0.8458 - val_accuracy: 0.6310\n",
            "Epoch 145/200\n",
            "166/166 [==============================] - 0s 156us/step - loss: 0.8651 - accuracy: 0.5211 - val_loss: 0.8447 - val_accuracy: 0.6190\n",
            "Epoch 146/200\n",
            "166/166 [==============================] - 0s 162us/step - loss: 0.8395 - accuracy: 0.5482 - val_loss: 0.8427 - val_accuracy: 0.6190\n",
            "Epoch 147/200\n",
            "166/166 [==============================] - 0s 157us/step - loss: 0.8387 - accuracy: 0.5753 - val_loss: 0.8418 - val_accuracy: 0.6190\n",
            "Epoch 148/200\n",
            "166/166 [==============================] - 0s 171us/step - loss: 0.8545 - accuracy: 0.5211 - val_loss: 0.8403 - val_accuracy: 0.6190\n",
            "Epoch 149/200\n",
            "166/166 [==============================] - 0s 156us/step - loss: 0.8410 - accuracy: 0.5873 - val_loss: 0.8386 - val_accuracy: 0.6190\n",
            "Epoch 150/200\n",
            "166/166 [==============================] - 0s 147us/step - loss: 0.8363 - accuracy: 0.6325 - val_loss: 0.8379 - val_accuracy: 0.6190\n",
            "Epoch 151/200\n",
            "166/166 [==============================] - 0s 152us/step - loss: 0.8446 - accuracy: 0.5843 - val_loss: 0.8373 - val_accuracy: 0.6190\n",
            "Epoch 152/200\n",
            "166/166 [==============================] - 0s 169us/step - loss: 0.8279 - accuracy: 0.5693 - val_loss: 0.8348 - val_accuracy: 0.6190\n",
            "Epoch 153/200\n",
            "166/166 [==============================] - 0s 160us/step - loss: 0.8295 - accuracy: 0.5633 - val_loss: 0.8313 - val_accuracy: 0.6310\n",
            "Epoch 154/200\n",
            "166/166 [==============================] - 0s 138us/step - loss: 0.8308 - accuracy: 0.5964 - val_loss: 0.8288 - val_accuracy: 0.6429\n",
            "Epoch 155/200\n",
            "166/166 [==============================] - 0s 147us/step - loss: 0.8327 - accuracy: 0.5482 - val_loss: 0.8257 - val_accuracy: 0.6429\n",
            "Epoch 156/200\n",
            "166/166 [==============================] - 0s 162us/step - loss: 0.8256 - accuracy: 0.5723 - val_loss: 0.8226 - val_accuracy: 0.6667\n",
            "Epoch 157/200\n",
            "166/166 [==============================] - 0s 162us/step - loss: 0.8325 - accuracy: 0.6084 - val_loss: 0.8198 - val_accuracy: 0.6667\n",
            "Epoch 158/200\n",
            "166/166 [==============================] - 0s 162us/step - loss: 0.8408 - accuracy: 0.5331 - val_loss: 0.8175 - val_accuracy: 0.6667\n",
            "Epoch 159/200\n",
            "166/166 [==============================] - 0s 150us/step - loss: 0.8213 - accuracy: 0.5663 - val_loss: 0.8157 - val_accuracy: 0.6667\n",
            "Epoch 160/200\n",
            "166/166 [==============================] - 0s 129us/step - loss: 0.8405 - accuracy: 0.5843 - val_loss: 0.8142 - val_accuracy: 0.6667\n",
            "Epoch 161/200\n",
            "166/166 [==============================] - 0s 146us/step - loss: 0.8457 - accuracy: 0.5663 - val_loss: 0.8126 - val_accuracy: 0.6667\n",
            "Epoch 162/200\n",
            "166/166 [==============================] - 0s 144us/step - loss: 0.8191 - accuracy: 0.6114 - val_loss: 0.8115 - val_accuracy: 0.6667\n",
            "Epoch 163/200\n",
            "166/166 [==============================] - 0s 185us/step - loss: 0.8401 - accuracy: 0.5512 - val_loss: 0.8107 - val_accuracy: 0.6667\n",
            "Epoch 164/200\n",
            "166/166 [==============================] - 0s 148us/step - loss: 0.8251 - accuracy: 0.5873 - val_loss: 0.8107 - val_accuracy: 0.6667\n",
            "Epoch 165/200\n",
            "166/166 [==============================] - 0s 169us/step - loss: 0.8201 - accuracy: 0.5452 - val_loss: 0.8097 - val_accuracy: 0.6667\n",
            "Epoch 166/200\n",
            "166/166 [==============================] - 0s 147us/step - loss: 0.8391 - accuracy: 0.5572 - val_loss: 0.8086 - val_accuracy: 0.6667\n",
            "Epoch 167/200\n",
            "166/166 [==============================] - 0s 158us/step - loss: 0.8311 - accuracy: 0.5542 - val_loss: 0.8074 - val_accuracy: 0.6667\n",
            "Epoch 168/200\n",
            "166/166 [==============================] - 0s 160us/step - loss: 0.8199 - accuracy: 0.5271 - val_loss: 0.8065 - val_accuracy: 0.6667\n",
            "Epoch 169/200\n",
            "166/166 [==============================] - 0s 164us/step - loss: 0.8126 - accuracy: 0.5934 - val_loss: 0.8061 - val_accuracy: 0.6667\n",
            "Epoch 170/200\n",
            "166/166 [==============================] - 0s 146us/step - loss: 0.8284 - accuracy: 0.6175 - val_loss: 0.8057 - val_accuracy: 0.6429\n",
            "Epoch 171/200\n",
            "166/166 [==============================] - 0s 145us/step - loss: 0.8270 - accuracy: 0.5602 - val_loss: 0.8056 - val_accuracy: 0.6429\n",
            "Epoch 172/200\n",
            "166/166 [==============================] - 0s 163us/step - loss: 0.8004 - accuracy: 0.5452 - val_loss: 0.8059 - val_accuracy: 0.6429\n",
            "Epoch 173/200\n",
            "166/166 [==============================] - 0s 169us/step - loss: 0.8286 - accuracy: 0.5783 - val_loss: 0.8071 - val_accuracy: 0.6190\n",
            "Epoch 174/200\n",
            "166/166 [==============================] - 0s 145us/step - loss: 0.7982 - accuracy: 0.6205 - val_loss: 0.8067 - val_accuracy: 0.6190\n",
            "Epoch 175/200\n",
            "166/166 [==============================] - 0s 167us/step - loss: 0.8081 - accuracy: 0.5572 - val_loss: 0.8057 - val_accuracy: 0.6190\n",
            "Epoch 176/200\n",
            "166/166 [==============================] - 0s 153us/step - loss: 0.7956 - accuracy: 0.5934 - val_loss: 0.8048 - val_accuracy: 0.6190\n",
            "Epoch 177/200\n",
            "166/166 [==============================] - 0s 147us/step - loss: 0.8164 - accuracy: 0.6145 - val_loss: 0.8033 - val_accuracy: 0.6190\n",
            "Epoch 178/200\n",
            "166/166 [==============================] - 0s 162us/step - loss: 0.8022 - accuracy: 0.5934 - val_loss: 0.8019 - val_accuracy: 0.6190\n",
            "Epoch 179/200\n",
            "166/166 [==============================] - 0s 147us/step - loss: 0.8256 - accuracy: 0.5090 - val_loss: 0.8004 - val_accuracy: 0.6190\n",
            "Epoch 180/200\n",
            "166/166 [==============================] - 0s 148us/step - loss: 0.7926 - accuracy: 0.5723 - val_loss: 0.7990 - val_accuracy: 0.6190\n",
            "Epoch 181/200\n",
            "166/166 [==============================] - 0s 165us/step - loss: 0.8074 - accuracy: 0.5843 - val_loss: 0.7977 - val_accuracy: 0.6190\n",
            "Epoch 182/200\n",
            "166/166 [==============================] - 0s 148us/step - loss: 0.8167 - accuracy: 0.5572 - val_loss: 0.7965 - val_accuracy: 0.6190\n",
            "Epoch 183/200\n",
            "166/166 [==============================] - 0s 151us/step - loss: 0.8055 - accuracy: 0.5693 - val_loss: 0.7951 - val_accuracy: 0.6190\n",
            "Epoch 184/200\n",
            "166/166 [==============================] - 0s 153us/step - loss: 0.8021 - accuracy: 0.5783 - val_loss: 0.7949 - val_accuracy: 0.6190\n",
            "Epoch 185/200\n",
            "166/166 [==============================] - 0s 140us/step - loss: 0.7980 - accuracy: 0.6024 - val_loss: 0.7944 - val_accuracy: 0.6190\n",
            "Epoch 186/200\n",
            "166/166 [==============================] - 0s 156us/step - loss: 0.7905 - accuracy: 0.5813 - val_loss: 0.7933 - val_accuracy: 0.6190\n",
            "Epoch 187/200\n",
            "166/166 [==============================] - 0s 161us/step - loss: 0.7971 - accuracy: 0.6114 - val_loss: 0.7913 - val_accuracy: 0.6190\n",
            "Epoch 188/200\n",
            "166/166 [==============================] - 0s 168us/step - loss: 0.8088 - accuracy: 0.5693 - val_loss: 0.7897 - val_accuracy: 0.6190\n",
            "Epoch 189/200\n",
            "166/166 [==============================] - 0s 153us/step - loss: 0.8002 - accuracy: 0.5723 - val_loss: 0.7878 - val_accuracy: 0.6190\n",
            "Epoch 190/200\n",
            "166/166 [==============================] - 0s 134us/step - loss: 0.7802 - accuracy: 0.6054 - val_loss: 0.7868 - val_accuracy: 0.6190\n",
            "Epoch 191/200\n",
            "166/166 [==============================] - 0s 146us/step - loss: 0.7977 - accuracy: 0.5843 - val_loss: 0.7852 - val_accuracy: 0.6429\n",
            "Epoch 192/200\n",
            "166/166 [==============================] - 0s 161us/step - loss: 0.7851 - accuracy: 0.5452 - val_loss: 0.7843 - val_accuracy: 0.6429\n",
            "Epoch 193/200\n",
            "166/166 [==============================] - 0s 148us/step - loss: 0.8031 - accuracy: 0.6054 - val_loss: 0.7828 - val_accuracy: 0.6429\n",
            "Epoch 194/200\n",
            "166/166 [==============================] - 0s 145us/step - loss: 0.7837 - accuracy: 0.6084 - val_loss: 0.7818 - val_accuracy: 0.6429\n",
            "Epoch 195/200\n",
            "166/166 [==============================] - 0s 154us/step - loss: 0.7795 - accuracy: 0.5873 - val_loss: 0.7798 - val_accuracy: 0.6429\n",
            "Epoch 196/200\n",
            "166/166 [==============================] - 0s 177us/step - loss: 0.7688 - accuracy: 0.6084 - val_loss: 0.7770 - val_accuracy: 0.6429\n",
            "Epoch 197/200\n",
            "166/166 [==============================] - 0s 150us/step - loss: 0.7839 - accuracy: 0.6386 - val_loss: 0.7763 - val_accuracy: 0.6429\n",
            "Epoch 198/200\n",
            "166/166 [==============================] - 0s 173us/step - loss: 0.7734 - accuracy: 0.6235 - val_loss: 0.7753 - val_accuracy: 0.6429\n",
            "Epoch 199/200\n",
            "166/166 [==============================] - 0s 158us/step - loss: 0.7894 - accuracy: 0.5753 - val_loss: 0.7735 - val_accuracy: 0.6429\n",
            "Epoch 200/200\n",
            "166/166 [==============================] - 0s 140us/step - loss: 0.7906 - accuracy: 0.5422 - val_loss: 0.7730 - val_accuracy: 0.6429\n",
            "42/42 [==============================] - 0s 275us/step\n",
            "Test loss:  0.7730160156885783\n",
            "Test Accuracy:  0.6428571343421936\n"
          ],
          "name": "stdout"
        },
        {
          "output_type": "display_data",
          "data": {
            "image/png": "[encoded data removed]",
            "text/plain": [
              "<Figure size 720x360 with 1 Axes>"
            ]
          },
          "metadata": {
            "tags": []
          }
        }
      ]
    },
    {
      "cell_type": "markdown",
      "metadata": {
        "id": "1VPT_r0uoh-S",
        "colab_type": "text"
      },
      "source": [
        "# **Performing Dimensionality reduction technique PCA**"
      ]
    },
    {
      "cell_type": "code",
      "metadata": {
        "id": "UI3yVJGydZeA",
        "colab_type": "code",
        "colab": {
          "base_uri": "https://localhost:8080/",
          "height": 446
        },
        "outputId": "a1d5224e-add0-4309-86d0-4694d3ad647f"
      },
      "source": [
        "# Applying Principal component analysis to Reduce the number of dimensions.\n",
        "from sklearn.decomposition import PCA\n",
        "\n",
        "pca_2 = PCA()\n",
        "pca_2.n_components = 25\n",
        "\n",
        "data = pca_2.fit_transform(df)\n",
        "variance = list(pca_2.explained_variance_ratio_.cumsum())\n",
        "for i in range(len(variance)):\n",
        "  print('for ',i+1, ' Dimensions', round(variance[i]*100,2),'% of variance is retained')\n"
      ],
      "execution_count": 18,
      "outputs": [
        {
          "output_type": "stream",
          "text": [
            "for  1  Dimensions 20.35 % of variance is retained\n",
            "for  2  Dimensions 39.24 % of variance is retained\n",
            "for  3  Dimensions 47.79 % of variance is retained\n",
            "for  4  Dimensions 53.47 % of variance is retained\n",
            "for  5  Dimensions 58.48 % of variance is retained\n",
            "for  6  Dimensions 62.55 % of variance is retained\n",
            "for  7  Dimensions 65.82 % of variance is retained\n",
            "for  8  Dimensions 68.87 % of variance is retained\n",
            "for  9  Dimensions 71.44 % of variance is retained\n",
            "for  10  Dimensions 73.93 % of variance is retained\n",
            "for  11  Dimensions 76.0 % of variance is retained\n",
            "for  12  Dimensions 77.9 % of variance is retained\n",
            "for  13  Dimensions 79.65 % of variance is retained\n",
            "for  14  Dimensions 81.19 % of variance is retained\n",
            "for  15  Dimensions 82.62 % of variance is retained\n",
            "for  16  Dimensions 83.98 % of variance is retained\n",
            "for  17  Dimensions 85.21 % of variance is retained\n",
            "for  18  Dimensions 86.38 % of variance is retained\n",
            "for  19  Dimensions 87.41 % of variance is retained\n",
            "for  20  Dimensions 88.39 % of variance is retained\n",
            "for  21  Dimensions 89.34 % of variance is retained\n",
            "for  22  Dimensions 90.22 % of variance is retained\n",
            "for  23  Dimensions 91.06 % of variance is retained\n",
            "for  24  Dimensions 91.83 % of variance is retained\n",
            "for  25  Dimensions 92.56 % of variance is retained\n"
          ],
          "name": "stdout"
        }
      ]
    },
    {
      "cell_type": "markdown",
      "metadata": {
        "id": "WrRiP3F1emFR",
        "colab_type": "text"
      },
      "source": [
        "#observations:\n",
        "1. We observe that 90% of the data is retained when the number of dimensions are 22 hence we choose those number of dimensions and build model on top of it. "
      ]
    },
    {
      "cell_type": "code",
      "metadata": {
        "id": "Wrr2IDBMelsB",
        "colab_type": "code",
        "colab": {}
      },
      "source": [
        "pca_2 = PCA()\n",
        "pca_2.n_components = 22\n",
        "\n",
        "data = pca_2.fit_transform(df)\n",
        "\n",
        "dim = ['dim_'+str(i+1) for i in range(22)]\n",
        "\n"
      ],
      "execution_count": 31,
      "outputs": []
    },
    {
      "cell_type": "code",
      "metadata": {
        "id": "TH-39upui4We",
        "colab_type": "code",
        "colab": {
          "base_uri": "https://localhost:8080/",
          "height": 34
        },
        "outputId": "2c5d4031-71cf-4573-ecf4-248f83025fe7"
      },
      "source": [
        "data.shape"
      ],
      "execution_count": 34,
      "outputs": [
        {
          "output_type": "execute_result",
          "data": {
            "text/plain": [
              "(208, 22)"
            ]
          },
          "metadata": {
            "tags": []
          },
          "execution_count": 34
        }
      ]
    },
    {
      "cell_type": "code",
      "metadata": {
        "id": "2lU9v3Q5gYW-",
        "colab_type": "code",
        "colab": {
          "base_uri": "https://localhost:8080/",
          "height": 223
        },
        "outputId": "241238fa-8180-4861-d55b-f8b77de00389"
      },
      "source": [
        "X = pd.DataFrame(data= data, columns=dim)\n"
      ],
      "execution_count": 36,
      "outputs": [
        {
          "output_type": "execute_result",
          "data": {
            "text/html": [
              "<div>\n",
              "<style scoped>\n",
              "    .dataframe tbody tr th:only-of-type {\n",
              "        vertical-align: middle;\n",
              "    }\n",
              "\n",
              "    .dataframe tbody tr th {\n",
              "        vertical-align: top;\n",
              "    }\n",
              "\n",
              "    .dataframe thead th {\n",
              "        text-align: right;\n",
              "    }\n",
              "</style>\n",
              "<table border=\"1\" class=\"dataframe\">\n",
              "  <thead>\n",
              "    <tr style=\"text-align: right;\">\n",
              "      <th></th>\n",
              "      <th>dim_1</th>\n",
              "      <th>dim_2</th>\n",
              "      <th>dim_3</th>\n",
              "      <th>dim_4</th>\n",
              "      <th>dim_5</th>\n",
              "      <th>dim_6</th>\n",
              "      <th>dim_7</th>\n",
              "      <th>dim_8</th>\n",
              "      <th>dim_9</th>\n",
              "      <th>dim_10</th>\n",
              "      <th>dim_11</th>\n",
              "      <th>dim_12</th>\n",
              "      <th>dim_13</th>\n",
              "      <th>dim_14</th>\n",
              "      <th>dim_15</th>\n",
              "      <th>dim_16</th>\n",
              "      <th>dim_17</th>\n",
              "      <th>dim_18</th>\n",
              "      <th>dim_19</th>\n",
              "      <th>dim_20</th>\n",
              "      <th>dim_21</th>\n",
              "      <th>dim_22</th>\n",
              "    </tr>\n",
              "  </thead>\n",
              "  <tbody>\n",
              "    <tr>\n",
              "      <th>0</th>\n",
              "      <td>1.921168</td>\n",
              "      <td>-1.370893</td>\n",
              "      <td>-1.666476</td>\n",
              "      <td>0.837913</td>\n",
              "      <td>-1.057324</td>\n",
              "      <td>1.712504</td>\n",
              "      <td>1.785716</td>\n",
              "      <td>-1.581264</td>\n",
              "      <td>0.335418</td>\n",
              "      <td>-1.028065</td>\n",
              "      <td>-0.616252</td>\n",
              "      <td>0.322501</td>\n",
              "      <td>0.349711</td>\n",
              "      <td>-0.406204</td>\n",
              "      <td>0.588733</td>\n",
              "      <td>-1.513723</td>\n",
              "      <td>1.384272</td>\n",
              "      <td>2.623221</td>\n",
              "      <td>0.008724</td>\n",
              "      <td>0.866819</td>\n",
              "      <td>-1.208238</td>\n",
              "      <td>0.723202</td>\n",
              "    </tr>\n",
              "    <tr>\n",
              "      <th>1</th>\n",
              "      <td>-0.480125</td>\n",
              "      <td>7.586388</td>\n",
              "      <td>-1.275734</td>\n",
              "      <td>3.859346</td>\n",
              "      <td>2.121112</td>\n",
              "      <td>-2.186818</td>\n",
              "      <td>-1.742764</td>\n",
              "      <td>1.517061</td>\n",
              "      <td>0.307933</td>\n",
              "      <td>-1.341882</td>\n",
              "      <td>0.321504</td>\n",
              "      <td>-0.567755</td>\n",
              "      <td>0.268648</td>\n",
              "      <td>-0.926965</td>\n",
              "      <td>0.968446</td>\n",
              "      <td>-0.586619</td>\n",
              "      <td>-0.171371</td>\n",
              "      <td>1.403636</td>\n",
              "      <td>0.264560</td>\n",
              "      <td>-0.048882</td>\n",
              "      <td>-2.388110</td>\n",
              "      <td>0.021429</td>\n",
              "    </tr>\n",
              "    <tr>\n",
              "      <th>2</th>\n",
              "      <td>3.859228</td>\n",
              "      <td>6.439860</td>\n",
              "      <td>-0.030635</td>\n",
              "      <td>5.454599</td>\n",
              "      <td>1.552060</td>\n",
              "      <td>1.181619</td>\n",
              "      <td>-1.820138</td>\n",
              "      <td>-1.495929</td>\n",
              "      <td>-1.152459</td>\n",
              "      <td>-1.006030</td>\n",
              "      <td>-0.532271</td>\n",
              "      <td>0.309508</td>\n",
              "      <td>-1.932042</td>\n",
              "      <td>-1.441818</td>\n",
              "      <td>1.405234</td>\n",
              "      <td>2.025008</td>\n",
              "      <td>-1.024685</td>\n",
              "      <td>0.826105</td>\n",
              "      <td>0.468705</td>\n",
              "      <td>-1.841670</td>\n",
              "      <td>-1.740823</td>\n",
              "      <td>-2.000942</td>\n",
              "    </tr>\n",
              "    <tr>\n",
              "      <th>3</th>\n",
              "      <td>4.597419</td>\n",
              "      <td>-3.104089</td>\n",
              "      <td>-1.785344</td>\n",
              "      <td>-1.115908</td>\n",
              "      <td>-2.785528</td>\n",
              "      <td>-2.072673</td>\n",
              "      <td>2.084530</td>\n",
              "      <td>1.707289</td>\n",
              "      <td>0.452390</td>\n",
              "      <td>-1.117318</td>\n",
              "      <td>0.942629</td>\n",
              "      <td>0.024888</td>\n",
              "      <td>-1.451436</td>\n",
              "      <td>0.115763</td>\n",
              "      <td>-0.592267</td>\n",
              "      <td>0.124480</td>\n",
              "      <td>-0.496407</td>\n",
              "      <td>-2.464503</td>\n",
              "      <td>1.878381</td>\n",
              "      <td>-0.999830</td>\n",
              "      <td>-0.685825</td>\n",
              "      <td>1.307367</td>\n",
              "    </tr>\n",
              "    <tr>\n",
              "      <th>4</th>\n",
              "      <td>-0.533868</td>\n",
              "      <td>1.849847</td>\n",
              "      <td>-0.860097</td>\n",
              "      <td>3.302076</td>\n",
              "      <td>2.808954</td>\n",
              "      <td>-0.783945</td>\n",
              "      <td>0.362657</td>\n",
              "      <td>0.812621</td>\n",
              "      <td>0.184578</td>\n",
              "      <td>-0.023594</td>\n",
              "      <td>-1.305728</td>\n",
              "      <td>-1.651747</td>\n",
              "      <td>0.743218</td>\n",
              "      <td>1.247474</td>\n",
              "      <td>-0.776856</td>\n",
              "      <td>1.189454</td>\n",
              "      <td>-0.707854</td>\n",
              "      <td>-0.414109</td>\n",
              "      <td>-0.632443</td>\n",
              "      <td>-0.976459</td>\n",
              "      <td>0.503340</td>\n",
              "      <td>0.258970</td>\n",
              "    </tr>\n",
              "  </tbody>\n",
              "</table>\n",
              "</div>"
            ],
            "text/plain": [
              "      dim_1     dim_2     dim_3  ...    dim_20    dim_21    dim_22\n",
              "0  1.921168 -1.370893 -1.666476  ...  0.866819 -1.208238  0.723202\n",
              "1 -0.480125  7.586388 -1.275734  ... -0.048882 -2.388110  0.021429\n",
              "2  3.859228  6.439860 -0.030635  ... -1.841670 -1.740823 -2.000942\n",
              "3  4.597419 -3.104089 -1.785344  ... -0.999830 -0.685825  1.307367\n",
              "4 -0.533868  1.849847 -0.860097  ... -0.976459  0.503340  0.258970\n",
              "\n",
              "[5 rows x 22 columns]"
            ]
          },
          "metadata": {
            "tags": []
          },
          "execution_count": 36
        }
      ]
    },
    {
      "cell_type": "code",
      "metadata": {
        "id": "t1yJ91kzkU8t",
        "colab_type": "code",
        "colab": {
          "base_uri": "https://localhost:8080/",
          "height": 1000
        },
        "outputId": "9780f1e9-73d5-45f0-ff6c-62c0d5464534"
      },
      "source": [
        "#splitting the dataset into training and testing Dataset.\n",
        "from sklearn.model_selection import train_test_split\n",
        "\n",
        "X_train, X_test, y_train, y_test = train_test_split(X, y, random_state=42,\n",
        "                                                    test_size=0.2)\n",
        "print(X_train.shape, X_test.shape, y_train.shape, y_test.shape, sep = '\\t')\n",
        "\n",
        "#conversion of the Data into numpy array. \n",
        "X_train = np.array(X_train)\n",
        "y_train = np.array(y_train)\n",
        "X_test = np.array(X_test)\n",
        "y_test = np.array(y_test)\n",
        "\n",
        "Epochs = 75\n",
        "from keras.models import Sequential\n",
        "from keras.layers import Dense, Dropout, Flatten,BatchNormalization\n",
        "import keras\n",
        "\n",
        "model = Sequential()\n",
        "model.add(Dense(22, activation = 'relu',kernel_initializer='he_uniform' , \n",
        "                kernel_regularizer=tf.keras.regularizers.l2(0.4)))\n",
        "\n",
        "\n",
        "\n",
        "model.add(Dense(44, activation = 'relu',kernel_initializer='he_uniform',\n",
        "                kernel_regularizer=tf.keras.regularizers.l2(0.4)))\n",
        "\n",
        "model.add(Dropout(0.4))\n",
        "\n",
        "\n",
        "\n",
        "\n",
        "model.add(Dense(2, activation = 'sigmoid' , kernel_initializer='uniform'))\n",
        "\n",
        "model.compile(loss='binary_crossentropy',\n",
        "              optimizer='adam',\n",
        "              metrics=['accuracy'])\n",
        "history = model.fit(X_train, y_train, batch_size =60, epochs=Epochs, \n",
        "                    validation_data=(X_test, y_test), verbose = True)\n",
        "\n",
        "#printing the Validation accuracy and validation loss. \n",
        "score = model.evaluate(X_test, y_test)\n",
        "print(\"Test loss: \", score[0])\n",
        "print(\"Test Accuracy: \", score[1])\n",
        "\n",
        "#plotting the validation accuracy and training Accuracy.\n",
        "fig, ax = plt.subplots(figsize = (10,5))\n",
        "x = list(range(1, Epochs+1))\n",
        "\n",
        "va = history.history['val_accuracy'] \n",
        "tra = history.history['accuracy']\n",
        "plt_dynamic(x, va, tra, ax)\n",
        "plt.show()\n",
        "\n",
        "\n"
      ],
      "execution_count": 53,
      "outputs": [
        {
          "output_type": "stream",
          "text": [
            "(166, 22)\t(42, 22)\t(166, 2)\t(42, 2)\n",
            "Train on 166 samples, validate on 42 samples\n",
            "Epoch 1/75\n",
            "166/166 [==============================] - 0s 963us/step - loss: 54.4246 - accuracy: 0.5271 - val_loss: 53.8796 - val_accuracy: 0.5119\n",
            "Epoch 2/75\n",
            "166/166 [==============================] - 0s 176us/step - loss: 53.6221 - accuracy: 0.4880 - val_loss: 53.0107 - val_accuracy: 0.5119\n",
            "Epoch 3/75\n",
            "166/166 [==============================] - 0s 163us/step - loss: 52.7374 - accuracy: 0.5151 - val_loss: 52.1256 - val_accuracy: 0.5119\n",
            "Epoch 4/75\n",
            "166/166 [==============================] - 0s 166us/step - loss: 51.8562 - accuracy: 0.5693 - val_loss: 51.2404 - val_accuracy: 0.5357\n",
            "Epoch 5/75\n",
            "166/166 [==============================] - 0s 152us/step - loss: 50.9682 - accuracy: 0.5602 - val_loss: 50.3625 - val_accuracy: 0.5476\n",
            "Epoch 6/75\n",
            "166/166 [==============================] - 0s 146us/step - loss: 50.0947 - accuracy: 0.5813 - val_loss: 49.4952 - val_accuracy: 0.5952\n",
            "Epoch 7/75\n",
            "166/166 [==============================] - 0s 159us/step - loss: 49.2515 - accuracy: 0.5090 - val_loss: 48.6390 - val_accuracy: 0.6071\n",
            "Epoch 8/75\n",
            "166/166 [==============================] - 0s 152us/step - loss: 48.3867 - accuracy: 0.5512 - val_loss: 47.7941 - val_accuracy: 0.6071\n",
            "Epoch 9/75\n",
            "166/166 [==============================] - 0s 151us/step - loss: 47.5581 - accuracy: 0.5392 - val_loss: 46.9632 - val_accuracy: 0.6310\n",
            "Epoch 10/75\n",
            "166/166 [==============================] - 0s 177us/step - loss: 46.7140 - accuracy: 0.6114 - val_loss: 46.1447 - val_accuracy: 0.6429\n",
            "Epoch 11/75\n",
            "166/166 [==============================] - 0s 153us/step - loss: 45.9142 - accuracy: 0.5422 - val_loss: 45.3395 - val_accuracy: 0.6429\n",
            "Epoch 12/75\n",
            "166/166 [==============================] - 0s 157us/step - loss: 45.1086 - accuracy: 0.6175 - val_loss: 44.5479 - val_accuracy: 0.6429\n",
            "Epoch 13/75\n",
            "166/166 [==============================] - 0s 162us/step - loss: 44.3122 - accuracy: 0.6235 - val_loss: 43.7701 - val_accuracy: 0.6548\n",
            "Epoch 14/75\n",
            "166/166 [==============================] - 0s 167us/step - loss: 43.5530 - accuracy: 0.5994 - val_loss: 43.0048 - val_accuracy: 0.6905\n",
            "Epoch 15/75\n",
            "166/166 [==============================] - 0s 173us/step - loss: 42.8006 - accuracy: 0.5663 - val_loss: 42.2536 - val_accuracy: 0.7262\n",
            "Epoch 16/75\n",
            "166/166 [==============================] - 0s 176us/step - loss: 42.0337 - accuracy: 0.6355 - val_loss: 41.5150 - val_accuracy: 0.7262\n",
            "Epoch 17/75\n",
            "166/166 [==============================] - 0s 157us/step - loss: 41.3008 - accuracy: 0.6386 - val_loss: 40.7888 - val_accuracy: 0.7381\n",
            "Epoch 18/75\n",
            "166/166 [==============================] - 0s 162us/step - loss: 40.5842 - accuracy: 0.6506 - val_loss: 40.0769 - val_accuracy: 0.7381\n",
            "Epoch 19/75\n",
            "166/166 [==============================] - 0s 163us/step - loss: 39.8688 - accuracy: 0.6416 - val_loss: 39.3750 - val_accuracy: 0.7381\n",
            "Epoch 20/75\n",
            "166/166 [==============================] - 0s 173us/step - loss: 39.1706 - accuracy: 0.6476 - val_loss: 38.6847 - val_accuracy: 0.7619\n",
            "Epoch 21/75\n",
            "166/166 [==============================] - 0s 166us/step - loss: 38.4824 - accuracy: 0.6627 - val_loss: 38.0067 - val_accuracy: 0.7619\n",
            "Epoch 22/75\n",
            "166/166 [==============================] - 0s 161us/step - loss: 37.8192 - accuracy: 0.6235 - val_loss: 37.3394 - val_accuracy: 0.7857\n",
            "Epoch 23/75\n",
            "166/166 [==============================] - 0s 158us/step - loss: 37.1439 - accuracy: 0.6747 - val_loss: 36.6836 - val_accuracy: 0.7857\n",
            "Epoch 24/75\n",
            "166/166 [==============================] - 0s 166us/step - loss: 36.4966 - accuracy: 0.6386 - val_loss: 36.0403 - val_accuracy: 0.8095\n",
            "Epoch 25/75\n",
            "166/166 [==============================] - 0s 165us/step - loss: 35.8731 - accuracy: 0.5934 - val_loss: 35.4066 - val_accuracy: 0.8095\n",
            "Epoch 26/75\n",
            "166/166 [==============================] - 0s 162us/step - loss: 35.2380 - accuracy: 0.6265 - val_loss: 34.7842 - val_accuracy: 0.8095\n",
            "Epoch 27/75\n",
            "166/166 [==============================] - 0s 161us/step - loss: 34.6108 - accuracy: 0.6837 - val_loss: 34.1719 - val_accuracy: 0.7976\n",
            "Epoch 28/75\n",
            "166/166 [==============================] - 0s 151us/step - loss: 34.0026 - accuracy: 0.6506 - val_loss: 33.5706 - val_accuracy: 0.8095\n",
            "Epoch 29/75\n",
            "166/166 [==============================] - 0s 171us/step - loss: 33.4062 - accuracy: 0.6295 - val_loss: 32.9792 - val_accuracy: 0.8095\n",
            "Epoch 30/75\n",
            "166/166 [==============================] - 0s 166us/step - loss: 32.8208 - accuracy: 0.6627 - val_loss: 32.3976 - val_accuracy: 0.7976\n",
            "Epoch 31/75\n",
            "166/166 [==============================] - 0s 140us/step - loss: 32.2380 - accuracy: 0.6446 - val_loss: 31.8257 - val_accuracy: 0.7976\n",
            "Epoch 32/75\n",
            "166/166 [==============================] - 0s 136us/step - loss: 31.6667 - accuracy: 0.6627 - val_loss: 31.2639 - val_accuracy: 0.8095\n",
            "Epoch 33/75\n",
            "166/166 [==============================] - 0s 161us/step - loss: 31.1090 - accuracy: 0.6596 - val_loss: 30.7109 - val_accuracy: 0.8095\n",
            "Epoch 34/75\n",
            "166/166 [==============================] - 0s 161us/step - loss: 30.5520 - accuracy: 0.6747 - val_loss: 30.1680 - val_accuracy: 0.8095\n",
            "Epoch 35/75\n",
            "166/166 [==============================] - 0s 145us/step - loss: 30.0290 - accuracy: 0.6145 - val_loss: 29.6342 - val_accuracy: 0.8095\n",
            "Epoch 36/75\n",
            "166/166 [==============================] - 0s 168us/step - loss: 29.5006 - accuracy: 0.6295 - val_loss: 29.1085 - val_accuracy: 0.8095\n",
            "Epoch 37/75\n",
            "166/166 [==============================] - 0s 162us/step - loss: 28.9686 - accuracy: 0.6747 - val_loss: 28.5920 - val_accuracy: 0.8214\n",
            "Epoch 38/75\n",
            "166/166 [==============================] - 0s 175us/step - loss: 28.4543 - accuracy: 0.6898 - val_loss: 28.0854 - val_accuracy: 0.8333\n",
            "Epoch 39/75\n",
            "166/166 [==============================] - 0s 168us/step - loss: 27.9457 - accuracy: 0.6506 - val_loss: 27.5879 - val_accuracy: 0.8452\n",
            "Epoch 40/75\n",
            "166/166 [==============================] - 0s 157us/step - loss: 27.4528 - accuracy: 0.6657 - val_loss: 27.0979 - val_accuracy: 0.8452\n",
            "Epoch 41/75\n",
            "166/166 [==============================] - 0s 152us/step - loss: 26.9683 - accuracy: 0.6596 - val_loss: 26.6159 - val_accuracy: 0.8690\n",
            "Epoch 42/75\n",
            "166/166 [==============================] - 0s 150us/step - loss: 26.4971 - accuracy: 0.6114 - val_loss: 26.1423 - val_accuracy: 0.8690\n",
            "Epoch 43/75\n",
            "166/166 [==============================] - 0s 162us/step - loss: 26.0136 - accuracy: 0.6566 - val_loss: 25.6749 - val_accuracy: 0.8690\n",
            "Epoch 44/75\n",
            "166/166 [==============================] - 0s 157us/step - loss: 25.5591 - accuracy: 0.6536 - val_loss: 25.2150 - val_accuracy: 0.8690\n",
            "Epoch 45/75\n",
            "166/166 [==============================] - 0s 178us/step - loss: 25.0973 - accuracy: 0.6747 - val_loss: 24.7634 - val_accuracy: 0.8810\n",
            "Epoch 46/75\n",
            "166/166 [==============================] - 0s 162us/step - loss: 24.6509 - accuracy: 0.6295 - val_loss: 24.3201 - val_accuracy: 0.8810\n",
            "Epoch 47/75\n",
            "166/166 [==============================] - 0s 168us/step - loss: 24.2000 - accuracy: 0.7018 - val_loss: 23.8844 - val_accuracy: 0.8810\n",
            "Epoch 48/75\n",
            "166/166 [==============================] - 0s 153us/step - loss: 23.7783 - accuracy: 0.6446 - val_loss: 23.4549 - val_accuracy: 0.8810\n",
            "Epoch 49/75\n",
            "166/166 [==============================] - 0s 134us/step - loss: 23.3466 - accuracy: 0.7108 - val_loss: 23.0330 - val_accuracy: 0.8810\n",
            "Epoch 50/75\n",
            "166/166 [==============================] - 0s 130us/step - loss: 22.9295 - accuracy: 0.6506 - val_loss: 22.6188 - val_accuracy: 0.8810\n",
            "Epoch 51/75\n",
            "166/166 [==============================] - 0s 175us/step - loss: 22.5095 - accuracy: 0.7108 - val_loss: 22.2104 - val_accuracy: 0.8929\n",
            "Epoch 52/75\n",
            "166/166 [==============================] - 0s 159us/step - loss: 22.1102 - accuracy: 0.6627 - val_loss: 21.8087 - val_accuracy: 0.8929\n",
            "Epoch 53/75\n",
            "166/166 [==============================] - 0s 152us/step - loss: 21.7103 - accuracy: 0.6928 - val_loss: 21.4138 - val_accuracy: 0.8929\n",
            "Epoch 54/75\n",
            "166/166 [==============================] - 0s 161us/step - loss: 21.3360 - accuracy: 0.6446 - val_loss: 21.0259 - val_accuracy: 0.8929\n",
            "Epoch 55/75\n",
            "166/166 [==============================] - 0s 203us/step - loss: 20.9329 - accuracy: 0.6807 - val_loss: 20.6447 - val_accuracy: 0.8929\n",
            "Epoch 56/75\n",
            "166/166 [==============================] - 0s 142us/step - loss: 20.5594 - accuracy: 0.6536 - val_loss: 20.2697 - val_accuracy: 0.8929\n",
            "Epoch 57/75\n",
            "166/166 [==============================] - 0s 144us/step - loss: 20.1738 - accuracy: 0.6747 - val_loss: 19.9013 - val_accuracy: 0.9048\n",
            "Epoch 58/75\n",
            "166/166 [==============================] - 0s 181us/step - loss: 19.8194 - accuracy: 0.6596 - val_loss: 19.5390 - val_accuracy: 0.9048\n",
            "Epoch 59/75\n",
            "166/166 [==============================] - 0s 175us/step - loss: 19.4468 - accuracy: 0.6837 - val_loss: 19.1827 - val_accuracy: 0.9048\n",
            "Epoch 60/75\n",
            "166/166 [==============================] - 0s 161us/step - loss: 19.1159 - accuracy: 0.6265 - val_loss: 18.8324 - val_accuracy: 0.9048\n",
            "Epoch 61/75\n",
            "166/166 [==============================] - 0s 163us/step - loss: 18.7539 - accuracy: 0.6506 - val_loss: 18.4881 - val_accuracy: 0.9048\n",
            "Epoch 62/75\n",
            "166/166 [==============================] - 0s 145us/step - loss: 18.4000 - accuracy: 0.7380 - val_loss: 18.1496 - val_accuracy: 0.9048\n",
            "Epoch 63/75\n",
            "166/166 [==============================] - 0s 163us/step - loss: 18.0724 - accuracy: 0.6777 - val_loss: 17.8169 - val_accuracy: 0.9048\n",
            "Epoch 64/75\n",
            "166/166 [==============================] - 0s 149us/step - loss: 17.7412 - accuracy: 0.6867 - val_loss: 17.4901 - val_accuracy: 0.9048\n",
            "Epoch 65/75\n",
            "166/166 [==============================] - 0s 157us/step - loss: 17.4214 - accuracy: 0.6687 - val_loss: 17.1688 - val_accuracy: 0.9048\n",
            "Epoch 66/75\n",
            "166/166 [==============================] - 0s 144us/step - loss: 17.0994 - accuracy: 0.6596 - val_loss: 16.8530 - val_accuracy: 0.9048\n",
            "Epoch 67/75\n",
            "166/166 [==============================] - 0s 142us/step - loss: 16.7825 - accuracy: 0.6928 - val_loss: 16.5425 - val_accuracy: 0.9048\n",
            "Epoch 68/75\n",
            "166/166 [==============================] - 0s 158us/step - loss: 16.4754 - accuracy: 0.6687 - val_loss: 16.2374 - val_accuracy: 0.9048\n",
            "Epoch 69/75\n",
            "166/166 [==============================] - 0s 157us/step - loss: 16.1608 - accuracy: 0.6898 - val_loss: 15.9377 - val_accuracy: 0.9048\n",
            "Epoch 70/75\n",
            "166/166 [==============================] - 0s 171us/step - loss: 15.8767 - accuracy: 0.6476 - val_loss: 15.6430 - val_accuracy: 0.9048\n",
            "Epoch 71/75\n",
            "166/166 [==============================] - 0s 150us/step - loss: 15.5743 - accuracy: 0.6958 - val_loss: 15.3533 - val_accuracy: 0.9048\n",
            "Epoch 72/75\n",
            "166/166 [==============================] - 0s 165us/step - loss: 15.2965 - accuracy: 0.6777 - val_loss: 15.0688 - val_accuracy: 0.9048\n",
            "Epoch 73/75\n",
            "166/166 [==============================] - 0s 175us/step - loss: 15.0156 - accuracy: 0.6717 - val_loss: 14.7893 - val_accuracy: 0.9048\n",
            "Epoch 74/75\n",
            "166/166 [==============================] - 0s 134us/step - loss: 14.7214 - accuracy: 0.7048 - val_loss: 14.5143 - val_accuracy: 0.9048\n",
            "Epoch 75/75\n",
            "166/166 [==============================] - 0s 170us/step - loss: 14.4556 - accuracy: 0.6928 - val_loss: 14.2442 - val_accuracy: 0.9048\n",
            "42/42 [==============================] - 0s 318us/step\n",
            "Test loss:  14.24416514805385\n",
            "Test Accuracy:  0.9047619104385376\n"
          ],
          "name": "stdout"
        },
        {
          "output_type": "display_data",
          "data": {
            "image/png": "[encoded data removed]",
            "text/plain": [
              "<Figure size 720x360 with 1 Axes>"
            ]
          },
          "metadata": {
            "tags": []
          }
        }
      ]
    },
    {
      "cell_type": "markdown",
      "metadata": {
        "id": "qnlIT6qIosRd",
        "colab_type": "text"
      },
      "source": [
        "# **Observations:**\n",
        "1. With the PCA dimensionality reduction technique we obtained high accuracy than the Tsne. \n",
        "2. The accuracy obtained is 90.48.\n",
        "3. the model is not overfitting which is obeserved from the above plotting.  "
      ]
    }
  ]
}