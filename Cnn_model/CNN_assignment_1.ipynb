{
  "nbformat": 4,
  "nbformat_minor": 0,
  "metadata": {
    "colab": {
      "name": "CNN_assignment_1.ipynb",
      "provenance": [],
      "collapsed_sections": [],
      "toc_visible": true
    },
    "kernelspec": {
      "name": "python3",
      "display_name": "Python 3"
    },
    "accelerator": "TPU"
  },
  "cells": [
    {
      "cell_type": "code",
      "metadata": {
        "id": "RMHTzY8yp9QB",
        "colab_type": "code",
        "colab": {
          "base_uri": "https://localhost:8080/",
          "height": 738
        },
        "outputId": "30ef8d59-4dd2-40d4-ff85-0ba3b23cfdc9"
      },
      "source": [
        "%tensorflow_version 2.x\n",
        "import tensorflow as tf\n",
        "print(\"Tensorflow version \" + tf.__version__)\n",
        "\n",
        "try:\n",
        "  tpu = tf.distribute.cluster_resolver.TPUClusterResolver()  # TPU detection\n",
        "  print('Running on TPU ', tpu.cluster_spec().as_dict()['worker'])\n",
        "except ValueError:\n",
        "  raise BaseException('ERROR: Not connected to a TPU runtime; please see the previous cell in this notebook for instructions!')\n",
        "tf.config.experimental_connect_to_cluster(tpu)\n",
        "tf.tpu.experimental.initialize_tpu_system(tpu)\n",
        "tpu_strategy = tf.distribute.experimental.TPUStrategy(tpu)\n"
      ],
      "execution_count": 1,
      "outputs": [
        {
          "output_type": "stream",
          "text": [
            "Tensorflow version 2.2.0\n",
            "Running on TPU  ['10.98.94.10:8470']\n",
            "INFO:tensorflow:Initializing the TPU system: grpc://10.98.94.10:8470\n"
          ],
          "name": "stdout"
        },
        {
          "output_type": "stream",
          "text": [
            "INFO:tensorflow:Initializing the TPU system: grpc://10.98.94.10:8470\n"
          ],
          "name": "stderr"
        },
        {
          "output_type": "stream",
          "text": [
            "INFO:tensorflow:Clearing out eager caches\n"
          ],
          "name": "stdout"
        },
        {
          "output_type": "stream",
          "text": [
            "INFO:tensorflow:Clearing out eager caches\n"
          ],
          "name": "stderr"
        },
        {
          "output_type": "stream",
          "text": [
            "INFO:tensorflow:Finished initializing TPU system.\n"
          ],
          "name": "stdout"
        },
        {
          "output_type": "stream",
          "text": [
            "INFO:tensorflow:Finished initializing TPU system.\n"
          ],
          "name": "stderr"
        },
        {
          "output_type": "stream",
          "text": [
            "INFO:tensorflow:Found TPU system:\n"
          ],
          "name": "stdout"
        },
        {
          "output_type": "stream",
          "text": [
            "INFO:tensorflow:Found TPU system:\n"
          ],
          "name": "stderr"
        },
        {
          "output_type": "stream",
          "text": [
            "INFO:tensorflow:*** Num TPU Cores: 8\n"
          ],
          "name": "stdout"
        },
        {
          "output_type": "stream",
          "text": [
            "INFO:tensorflow:*** Num TPU Cores: 8\n"
          ],
          "name": "stderr"
        },
        {
          "output_type": "stream",
          "text": [
            "INFO:tensorflow:*** Num TPU Workers: 1\n"
          ],
          "name": "stdout"
        },
        {
          "output_type": "stream",
          "text": [
            "INFO:tensorflow:*** Num TPU Workers: 1\n"
          ],
          "name": "stderr"
        },
        {
          "output_type": "stream",
          "text": [
            "INFO:tensorflow:*** Num TPU Cores Per Worker: 8\n"
          ],
          "name": "stdout"
        },
        {
          "output_type": "stream",
          "text": [
            "INFO:tensorflow:*** Num TPU Cores Per Worker: 8\n"
          ],
          "name": "stderr"
        },
        {
          "output_type": "stream",
          "text": [
            "INFO:tensorflow:*** Available Device: _DeviceAttributes(/job:localhost/replica:0/task:0/device:CPU:0, CPU, 0, 0)\n"
          ],
          "name": "stdout"
        },
        {
          "output_type": "stream",
          "text": [
            "INFO:tensorflow:*** Available Device: _DeviceAttributes(/job:localhost/replica:0/task:0/device:CPU:0, CPU, 0, 0)\n"
          ],
          "name": "stderr"
        },
        {
          "output_type": "stream",
          "text": [
            "INFO:tensorflow:*** Available Device: _DeviceAttributes(/job:localhost/replica:0/task:0/device:XLA_CPU:0, XLA_CPU, 0, 0)\n"
          ],
          "name": "stdout"
        },
        {
          "output_type": "stream",
          "text": [
            "INFO:tensorflow:*** Available Device: _DeviceAttributes(/job:localhost/replica:0/task:0/device:XLA_CPU:0, XLA_CPU, 0, 0)\n"
          ],
          "name": "stderr"
        },
        {
          "output_type": "stream",
          "text": [
            "INFO:tensorflow:*** Available Device: _DeviceAttributes(/job:worker/replica:0/task:0/device:CPU:0, CPU, 0, 0)\n"
          ],
          "name": "stdout"
        },
        {
          "output_type": "stream",
          "text": [
            "INFO:tensorflow:*** Available Device: _DeviceAttributes(/job:worker/replica:0/task:0/device:CPU:0, CPU, 0, 0)\n"
          ],
          "name": "stderr"
        },
        {
          "output_type": "stream",
          "text": [
            "INFO:tensorflow:*** Available Device: _DeviceAttributes(/job:worker/replica:0/task:0/device:TPU:0, TPU, 0, 0)\n"
          ],
          "name": "stdout"
        },
        {
          "output_type": "stream",
          "text": [
            "INFO:tensorflow:*** Available Device: _DeviceAttributes(/job:worker/replica:0/task:0/device:TPU:0, TPU, 0, 0)\n"
          ],
          "name": "stderr"
        },
        {
          "output_type": "stream",
          "text": [
            "INFO:tensorflow:*** Available Device: _DeviceAttributes(/job:worker/replica:0/task:0/device:TPU:1, TPU, 0, 0)\n"
          ],
          "name": "stdout"
        },
        {
          "output_type": "stream",
          "text": [
            "INFO:tensorflow:*** Available Device: _DeviceAttributes(/job:worker/replica:0/task:0/device:TPU:1, TPU, 0, 0)\n"
          ],
          "name": "stderr"
        },
        {
          "output_type": "stream",
          "text": [
            "INFO:tensorflow:*** Available Device: _DeviceAttributes(/job:worker/replica:0/task:0/device:TPU:2, TPU, 0, 0)\n"
          ],
          "name": "stdout"
        },
        {
          "output_type": "stream",
          "text": [
            "INFO:tensorflow:*** Available Device: _DeviceAttributes(/job:worker/replica:0/task:0/device:TPU:2, TPU, 0, 0)\n"
          ],
          "name": "stderr"
        },
        {
          "output_type": "stream",
          "text": [
            "INFO:tensorflow:*** Available Device: _DeviceAttributes(/job:worker/replica:0/task:0/device:TPU:3, TPU, 0, 0)\n"
          ],
          "name": "stdout"
        },
        {
          "output_type": "stream",
          "text": [
            "INFO:tensorflow:*** Available Device: _DeviceAttributes(/job:worker/replica:0/task:0/device:TPU:3, TPU, 0, 0)\n"
          ],
          "name": "stderr"
        },
        {
          "output_type": "stream",
          "text": [
            "INFO:tensorflow:*** Available Device: _DeviceAttributes(/job:worker/replica:0/task:0/device:TPU:4, TPU, 0, 0)\n"
          ],
          "name": "stdout"
        },
        {
          "output_type": "stream",
          "text": [
            "INFO:tensorflow:*** Available Device: _DeviceAttributes(/job:worker/replica:0/task:0/device:TPU:4, TPU, 0, 0)\n"
          ],
          "name": "stderr"
        },
        {
          "output_type": "stream",
          "text": [
            "INFO:tensorflow:*** Available Device: _DeviceAttributes(/job:worker/replica:0/task:0/device:TPU:5, TPU, 0, 0)\n"
          ],
          "name": "stdout"
        },
        {
          "output_type": "stream",
          "text": [
            "INFO:tensorflow:*** Available Device: _DeviceAttributes(/job:worker/replica:0/task:0/device:TPU:5, TPU, 0, 0)\n"
          ],
          "name": "stderr"
        },
        {
          "output_type": "stream",
          "text": [
            "INFO:tensorflow:*** Available Device: _DeviceAttributes(/job:worker/replica:0/task:0/device:TPU:6, TPU, 0, 0)\n"
          ],
          "name": "stdout"
        },
        {
          "output_type": "stream",
          "text": [
            "INFO:tensorflow:*** Available Device: _DeviceAttributes(/job:worker/replica:0/task:0/device:TPU:6, TPU, 0, 0)\n"
          ],
          "name": "stderr"
        },
        {
          "output_type": "stream",
          "text": [
            "INFO:tensorflow:*** Available Device: _DeviceAttributes(/job:worker/replica:0/task:0/device:TPU:7, TPU, 0, 0)\n"
          ],
          "name": "stdout"
        },
        {
          "output_type": "stream",
          "text": [
            "INFO:tensorflow:*** Available Device: _DeviceAttributes(/job:worker/replica:0/task:0/device:TPU:7, TPU, 0, 0)\n"
          ],
          "name": "stderr"
        },
        {
          "output_type": "stream",
          "text": [
            "INFO:tensorflow:*** Available Device: _DeviceAttributes(/job:worker/replica:0/task:0/device:TPU_SYSTEM:0, TPU_SYSTEM, 0, 0)\n"
          ],
          "name": "stdout"
        },
        {
          "output_type": "stream",
          "text": [
            "INFO:tensorflow:*** Available Device: _DeviceAttributes(/job:worker/replica:0/task:0/device:TPU_SYSTEM:0, TPU_SYSTEM, 0, 0)\n"
          ],
          "name": "stderr"
        },
        {
          "output_type": "stream",
          "text": [
            "INFO:tensorflow:*** Available Device: _DeviceAttributes(/job:worker/replica:0/task:0/device:XLA_CPU:0, XLA_CPU, 0, 0)\n"
          ],
          "name": "stdout"
        },
        {
          "output_type": "stream",
          "text": [
            "INFO:tensorflow:*** Available Device: _DeviceAttributes(/job:worker/replica:0/task:0/device:XLA_CPU:0, XLA_CPU, 0, 0)\n"
          ],
          "name": "stderr"
        }
      ]
    },
    {
      "cell_type": "code",
      "metadata": {
        "id": "OjCQaDeqqwl9",
        "colab_type": "code",
        "colab": {
          "base_uri": "https://localhost:8080/",
          "height": 1000
        },
        "outputId": "f2907f81-d6e8-4d17-ce91-3c7a8c7d143a"
      },
      "source": [
        "#unzipping the images into local drive. \n",
        "!unzip '/content/drive/My Drive/Colab Notebooks/cnn_assignment_DL/Dataset.zip'\n"
      ],
      "execution_count": 2,
      "outputs": [
        {
          "output_type": "stream",
          "text": [
            "Archive:  /content/drive/My Drive/Colab Notebooks/cnn_assignment_DL/Dataset.zip\n",
            "replace Dataset/train/category 4_original_C030.png_8a5e02ba-8431-48e7-80d0-6aed73c26c3c.png? [y]es, [n]o, [A]ll, [N]one, [r]ename: A\n",
            "  inflating: Dataset/train/category 4_original_C030.png_8a5e02ba-8431-48e7-80d0-6aed73c26c3c.png  \n",
            "  inflating: Dataset/train/category 4_original_C040.png_46defe44-d6f3-4681-a224-3376990ce6ff.png  \n",
            "  inflating: Dataset/train/category 3_original_4041.png_8f585346-2cea-4cff-95fc-06d8c481ea2c.png  \n",
            "  inflating: Dataset/train/category 4_original_C024.png_e3fbf0ea-d214-4f5a-adae-6f033af06f0a.png  \n",
            "  inflating: Dataset/train/category 3_original_4013.png_7abf6582-116f-401b-8c1b-ff7e61c05c76.png  \n",
            "  inflating: Dataset/train/category 2_original_6011.png_ab406767-2e83-4f10-b113-e9b11f2fb6b1.png  \n",
            "  inflating: Dataset/train/category 4_original_C041.png_6dc9e80b-f6f3-437f-a4be-de58a36e755c.png  \n",
            "  inflating: Dataset/train/category 2_original_6031.png_b8e2d05b-08c7-4afa-8d21-b3b5b3b0fd62.png  \n",
            "  inflating: Dataset/train/category 3_original_4025.png_8c4af1dd-4542-4617-a6d3-d1919f1c88a2.png  \n",
            "  inflating: Dataset/train/category 4_original_C040.png_610b16db-f988-4634-863f-550ad0e39854.png  \n",
            "  inflating: Dataset/train/category 4_original_C023.png_9d4a9646-d29c-4cc6-b571-705511f2be2f.png  \n",
            "  inflating: Dataset/train/category 4_original_C025.png_ed5370a4-43b1-48e2-86a5-482ee5d631f2.png  \n",
            "  inflating: Dataset/train/category 3_original_4023.png_c527e335-6bc6-4825-96c4-1e70cdf00565.png  \n",
            "  inflating: Dataset/train/category 3_original_4020.png_5f1afb54-52c7-4165-bbe6-853e806dde70.png  \n",
            "  inflating: Dataset/train/category 3_original_4022.png_14e24c88-54ff-44d7-8648-3a8735960fe4.png  \n",
            "  inflating: Dataset/train/category 2_original_6021.png_94e6c619-e199-4fce-a61a-b7021dc8c6bb.png  \n",
            "  inflating: Dataset/train/category 2_original_6012.png_9535d23e-7a1a-4df3-b9a3-cfecd167d49a.png  \n",
            "  inflating: Dataset/train/category 2_original_6021.png_f67b0b76-6f09-4f5f-849c-859f186ac223.png  \n",
            "  inflating: Dataset/train/category 4_original_C041.png_67d87bb8-010b-493f-a281-0c02054b8e12.png  \n",
            "  inflating: Dataset/train/category 4_original_C000.png_b74393c1-1eb8-41d6-80da-3004927d5b03.png  \n",
            "  inflating: Dataset/train/category 4_original_C031.png_d95ed51c-217d-4223-a693-0d1fda5be7e3.png  \n",
            "  inflating: Dataset/train/category 2_original_6010.png_0295c89d-e461-403c-bdfa-f4f2d8582e24.png  \n",
            "  inflating: Dataset/train/category 4_original_C022.png_00f660f7-ff37-4e34-b54a-856f6ad3c118.png  \n",
            "  inflating: Dataset/train/category 3_original_4041.png_9a2afa3e-90fb-47e3-9abe-9ce93adee362.png  \n",
            "  inflating: Dataset/train/category 4_original_C050.png_3af88430-c4d3-48d4-8c39-6ed3d1126c1e.png  \n",
            "  inflating: Dataset/train/category 2_original_6010.png_817e7eed-7164-4952-896f-ffdc33d05526.png  \n",
            "  inflating: Dataset/train/category 2_original_6014.png_8a7bf5f3-3c1d-4fe4-97b8-4cd9604b6005.png  \n",
            "  inflating: Dataset/train/category 3_original_4014.png_c9310697-67a0-4555-9d58-52b8f18d1f65.png  \n",
            "  inflating: Dataset/train/category 3_original_4013.png_0db83055-1bce-4a3d-805b-b46fa3be2434.png  \n",
            "  inflating: Dataset/train/category 2_original_6011.png_4766b4a9-7097-4780-a76e-90ef3a719514.png  \n",
            "  inflating: Dataset/train/category 3_original_4012.png_f237b085-00a8-44a1-8ebc-23d592208ef2.png  \n",
            "  inflating: Dataset/train/category 4_original_C025.png_17ca8c72-9c24-4ca9-9467-c2ecf0c0a8b2.png  \n",
            "  inflating: Dataset/train/category 3_original_4024.png_ca68729a-258f-486d-8344-70b357e763a7.png  \n",
            "  inflating: Dataset/train/category 4_original_C032.png_76a9819a-7fb7-47de-a3df-f8f3338b0191.png  \n",
            "  inflating: Dataset/train/category 3_original_4032.png_4caa5721-7931-4c40-a1e0-972e52f4efa3.png  \n",
            "  inflating: Dataset/train/category 4_original_C041.png_3cfbf131-4641-42c8-ae0a-bf7c6ce24b26.png  \n",
            "  inflating: Dataset/train/category 4_original_C010.png_32cd6692-b6ee-4efb-9a37-1a27eba5b27a.png  \n",
            "  inflating: Dataset/train/category 3_original_4013.png_183b7c18-949f-451e-80e4-00e41cda107b.png  \n",
            "  inflating: Dataset/train/category 4_original_C050.png_d0ff4697-dc65-4bfe-9fd4-16c5492bc98c.png  \n",
            "  inflating: Dataset/train/category 4_original_C031.png_87b8d61b-9ebf-489d-94ad-db1ae50408de.png  \n",
            "  inflating: Dataset/train/category 3_original_4033.png_d6c10177-849e-4178-8630-a3a3e837591c.png  \n",
            "  inflating: Dataset/train/category 4_original_C025.png_2feb6b2f-4952-4700-bf2a-8af416ba1111.png  \n",
            "  inflating: Dataset/train/category 4_original_C012.png_54d65581-95dd-4869-87ec-c04d6136390e.png  \n",
            "  inflating: Dataset/train/category 2_original_6032.png_0e8fc26c-9c9f-4620-b84c-5ff04107177b.png  \n",
            "  inflating: Dataset/train/category 4_original_C021.png_3646d1f3-4d17-4d5a-9b3d-10c7898c5dc4.png  \n",
            "  inflating: Dataset/train/category 2_original_6041.png_0a7ede4d-0745-4dea-876e-b102734c893b.png  \n",
            "  inflating: Dataset/train/category 3_original_4042.png_d621b1c6-f292-4591-9aab-6f298404d8e5.png  \n",
            "  inflating: Dataset/train/category 3_original_4041.png_c710707c-8d0b-4a20-9a3e-d0a3c15fa26a.png  \n",
            "  inflating: Dataset/train/category 2_original_6040.png_f91a03bb-93ce-44ee-8bb1-8f57995a5e23.png  \n",
            "  inflating: Dataset/train/category 3_original_4012.png_df6be776-097a-4bb8-a2a6-215ac39d5109.png  \n",
            "  inflating: Dataset/train/category 4_original_C050.png_c3f0f50e-9e96-4409-993e-327e7a19c44f.png  \n",
            "  inflating: Dataset/train/category 2_original_6000.png_0fedf894-fc62-4e7b-b1ba-1752a2a246ae.png  \n",
            "  inflating: Dataset/train/category 2_original_6022.png_09aed0f5-9819-42e2-9a72-a8fe724d0a45.png  \n",
            "  inflating: Dataset/train/category 2_original_6012.png_64da26ea-f196-4458-a088-017567eff2bb.png  \n",
            "  inflating: Dataset/train/category 2_original_6000.png_f1cb5961-b306-48a7-9aaf-e47f3732fc58.png  \n",
            "  inflating: Dataset/train/category 2_original_6041.png_b690c579-2991-4032-9aa6-9b96ab39ad2f.png  \n",
            "  inflating: Dataset/train/category 2_original_6021.png_5f9a40ed-6ea5-43d3-a3d2-0a7d66b9e390.png  \n",
            "  inflating: Dataset/train/category 2_original_6012.png_31f01938-19a3-42c1-ab08-03edbc7a6dcc.png  \n",
            "  inflating: Dataset/train/category 2_original_6033.png_55bfcfc6-8f8b-4fe4-9084-2f0c1276ce8b.png  \n",
            "  inflating: Dataset/train/category 4_original_C050.png_b7561aeb-280d-4a30-8ef4-a1da4b421b88.png  \n",
            "  inflating: Dataset/train/category 4_original_C023.png_e1215936-def4-4f10-a618-eee8dbd0ad8c.png  \n",
            "  inflating: Dataset/train/category 4_original_C010.png_3f009d7c-e7d9-4531-a8f4-858867078640.png  \n",
            "  inflating: Dataset/train/category 4_original_C011.png_d1471034-ef6c-426d-8d9f-b496cf752963.png  \n",
            "  inflating: Dataset/train/category 3_original_4040.png_36ba8a7a-87da-47bf-95de-540b4d035130.png  \n",
            "  inflating: Dataset/train/category 4_original_C021.png_14d562a9-c9e6-495a-8cac-7b5cb258e990.png  \n",
            "  inflating: Dataset/train/category 4_original_C022.png_f509813e-91f8-4126-8714-67363550290e.png  \n",
            "  inflating: Dataset/train/category 2_original_6050.png_d1b40c72-f787-4619-b5ff-710fd0a5e023.png  \n",
            "  inflating: Dataset/train/category 2_original_6041.png_078886d3-5581-47a9-93e2-a9ab229f5551.png  \n",
            "  inflating: Dataset/train/category 3_original_4013.png_26c9733a-01cc-44d1-af02-228bea222afa.png  \n",
            "  inflating: Dataset/train/category 4_original_C041.png_26caff0b-bc18-43f1-bff2-08764c39da8c.png  \n",
            "  inflating: Dataset/train/category 4_original_C050.png_9ca6358a-c634-4614-a58d-4eac9f9ba8fe.png  \n",
            "  inflating: Dataset/train/category 3_original_4010.png_6f6f7ab1-a160-4efe-ae9e-e2a042935260.png  \n",
            "  inflating: Dataset/train/category 2_original_6014.png_73877e7a-458b-456b-8fc9-8e2dceb6576c.png  \n",
            "  inflating: Dataset/train/category 2_original_6024.png_6ef17657-f55a-4ed6-9868-d832c6ccc9db.png  \n",
            "  inflating: Dataset/train/category 4_original_C051.png_06e3884b-d97a-41d0-8da4-5b0017d1c6cf.png  \n",
            "  inflating: Dataset/train/category 2_original_6040.png_29425d21-2eec-4719-9566-302d23c806c7.png  \n",
            "  inflating: Dataset/train/category 3_original_4041.png_45765d80-bf0b-41d1-98a3-1a89bd91be1c.png  \n",
            "  inflating: Dataset/train/category 2_original_6013.png_6b0af73f-a4d3-409e-abc4-2a7ac6a16c4e.png  \n",
            "  inflating: Dataset/train/category 2_original_6000.png_7483dc02-19a8-47ef-b40d-22a54ebb9520.png  \n",
            "  inflating: Dataset/train/category 2_original_6041.png_0eb2bc9a-c1fc-4e69-9508-fe2bfefea57a.png  \n",
            "  inflating: Dataset/train/category 2_original_6024.png_80198cd1-db98-45e5-a8c9-8cf3199ff337.png  \n",
            "  inflating: Dataset/train/category 4_original_C050.png_b8a1fd35-3d32-4626-b7c7-9bd6c2089e66.png  \n",
            "  inflating: Dataset/train/category 4_original_C031.png_c4f78810-b018-4bd0-94cf-498a7bc5c701.png  \n",
            "  inflating: Dataset/train/category 3_original_4014.png_40a6f075-72f0-4ea8-95c9-d2717ea212f2.png  \n",
            "  inflating: Dataset/train/category 4_original_C021.png_8be9bdf8-e071-47e5-b177-ce5d79088dc7.png  \n",
            "  inflating: Dataset/train/category 4_original_C050.png_b174b976-dbcd-41c4-b574-b1a62559ca16.png  \n",
            "  inflating: Dataset/train/category 3_original_4024.png_de43e50b-8136-4f96-90a6-6a7cfeb2c880.png  \n",
            "  inflating: Dataset/train/category 4_original_C050.png_efe7fd32-8203-47df-8cff-99e47e60033c.png  \n",
            "  inflating: Dataset/train/category 3_original_4042.png_b0d5607b-3c50-48ca-8e3c-c8ddf372f47b.png  \n",
            "  inflating: Dataset/train/category 4_original_C043.png_52ad87db-37b1-42ac-adb6-57c1fe1dc13f.png  \n",
            "  inflating: Dataset/train/category 2_original_6025.png_11d8938c-302b-4995-a5c2-7fc6221902fa.png  \n",
            "  inflating: Dataset/train/category 3_original_4030.png_b158723f-80f3-4547-a079-16b9662be5f9.png  \n",
            "  inflating: Dataset/train/category 4_original_C012.png_c793d28c-b4e4-4639-afdd-538d1ce04acd.png  \n",
            "  inflating: Dataset/train/category 4_original_C021.png_f93d6442-fe8d-4ab3-8e7d-60530b37d1af.png  \n",
            "  inflating: Dataset/train/category 3_original_4024.png_d00ecc36-2a74-4e3c-97e4-da8c2325d1a1.png  \n",
            "  inflating: Dataset/train/category 4_original_C051.png_6751cb7d-caeb-4df8-b15d-938271aef106.png  \n",
            "  inflating: Dataset/train/category 4_original_C032.png_48c5d2c6-91a6-45b0-80b9-f3f0016d044e.png  \n",
            "  inflating: Dataset/train/category 4_original_C010.png_df29ca06-4aaa-455b-b4fb-7749a29efbfd.png  \n",
            "  inflating: Dataset/train/category 4_original_C021.png_10f8a01f-f4c5-4e84-9285-144df0eefff9.png  \n",
            "  inflating: Dataset/train/category 4_original_C013.png_5824fb0f-04de-49d9-a862-8e1a699b7cf5.png  \n",
            "  inflating: Dataset/train/category 4_original_C050.png_d8acc241-7fa3-4897-8925-9da98b26ae2b.png  \n",
            "  inflating: Dataset/train/category 2_original_6020.png_a264e31d-36c9-4122-857a-48c911adf7c8.png  \n",
            "  inflating: Dataset/train/category 4_original_C020.png_2519ae8d-0f26-47c3-a50e-a5534c0f2d9b.png  \n",
            "  inflating: Dataset/train/category 4_original_C012.png_43693439-b7bd-4e09-afdd-2e88edaa052e.png  \n",
            "  inflating: Dataset/train/category 2_original_6024.png_c74f0207-844e-4666-b3d2-8cb6482a30f5.png  \n",
            "  inflating: Dataset/train/category 3_original_4000.png_de80850b-acc7-4fe7-b804-607d66d5db86.png  \n",
            "  inflating: Dataset/train/category 4_original_C011.png_2514ce1d-28f4-425d-89d8-667257bbeff7.png  \n",
            "  inflating: Dataset/train/category 2_original_6012.png_af5cdb17-204c-4cb7-9852-152fb9799e88.png  \n",
            "  inflating: Dataset/train/category 3_original_4024.png_e76ddf35-f88e-4f7f-b75e-7eed720ee421.png  \n",
            "  inflating: Dataset/train/category 3_original_4033.png_df499d3e-a53b-4b79-9c2b-cb62e2e4c040.png  \n",
            "  inflating: Dataset/train/category 3_original_4040.png_fb0184a6-6d73-49f4-89fa-8f751c57109d.png  \n",
            "  inflating: Dataset/train/category 2_original_6030.png_a22e02c8-610a-4e97-95e5-fb011a8e367a.png  \n",
            "  inflating: Dataset/train/category 3_original_4012.png_af4599ab-93e1-4fe1-af2f-0f871d3e13fc.png  \n",
            "  inflating: Dataset/train/category 3_original_4013.png_4e2ffd2f-fb06-4d8a-a252-eceb749afa3c.png  \n",
            "  inflating: Dataset/train/category 4_original_C024.png_74c8adeb-d0a9-4055-8dc6-1670de43f69e.png  \n",
            "  inflating: Dataset/train/category 2_original_6042.png_fb077d6a-267e-4f60-aa18-67d2ab8fcfaa.png  \n",
            "  inflating: Dataset/train/category 2_original_6021.png_391e1a63-c3d3-48db-ae3c-e13fd509c795.png  \n",
            "  inflating: Dataset/train/category 2_original_6000.png_8b9bab98-f39d-4ef7-b662-b634f15873f4.png  \n",
            "  inflating: Dataset/train/category 3_original_4042.png_b85cc4f8-f113-4352-aba9-2668e3b2aac8.png  \n",
            "  inflating: Dataset/train/category 4_original_C000.png_0897dcc3-6dd3-4bb4-b559-56b9b2b2c588.png  \n",
            "  inflating: Dataset/train/category 3_original_4042.png_846fc5b4-a4a4-4dbb-bfdb-bdc01d4c03ea.png  \n",
            "  inflating: Dataset/train/category 4_original_C024.png_3547d340-aaec-4223-adfd-bbb7374f7be5.png  \n",
            "  inflating: Dataset/train/category 2_original_6043.png_371a7462-7e93-4a2c-83fc-6732349f1fde.png  \n",
            "  inflating: Dataset/train/category 4_original_C041.png_d3da78e8-9baa-47cd-9e00-e4f594c5c231.png  \n",
            "  inflating: Dataset/train/category 3_original_4013.png_d1cf566d-796b-4006-a825-310d6f89ec65.png  \n",
            "  inflating: Dataset/train/category 3_original_4014.png_b7c2f306-0554-402c-baad-d9e067365b1f.png  \n",
            "  inflating: Dataset/train/category 3_original_4021.png_2bc0b71d-b406-4915-9f77-da63efbf3032.png  \n",
            "  inflating: Dataset/train/category 4_original_C041.png_389813c1-aa0d-429c-8330-bad1080c03ff.png  \n",
            "  inflating: Dataset/train/category 4_original_C013.png_d4ea28dc-e959-4b85-a242-a69f8ef08014.png  \n",
            "  inflating: Dataset/train/category 2_original_6024.png_b05b362e-45b1-47b1-8528-aa684f199256.png  \n",
            "  inflating: Dataset/train/category 2_original_6030.png_c23db5c8-3d67-4813-81a4-ffdafa37bfd4.png  \n",
            "  inflating: Dataset/train/category 2_original_6012.png_9b73f44e-0843-4113-83ef-63c6adaec20d.png  \n",
            "  inflating: Dataset/train/category 3_original_4021.png_26ab644c-00ae-4f02-9a19-c47682fe08eb.png  \n",
            "  inflating: Dataset/train/category 4_original_C000.png_095a622d-9c87-4c43-9237-946d27c3e0cb.png  \n",
            "  inflating: Dataset/train/category 2_original_6033.png_b3428f42-fe1d-4229-8157-b29f7addb615.png  \n",
            "  inflating: Dataset/train/category 2_original_6043.png_6d1d04c5-146d-4afb-806a-cc10cab187d6.png  \n",
            "  inflating: Dataset/train/category 2_original_6031.png_e9a889c8-3e48-4d34-865f-acfe478a9746.png  \n",
            "  inflating: Dataset/train/category 2_original_6050.png_4d8863a9-4f90-41bc-977e-8ae177a11d44.png  \n",
            "  inflating: Dataset/train/category 3_original_4012.png_6eb16b4a-6b64-4b08-8210-539d7ea1837a.png  \n",
            "  inflating: Dataset/train/category 4_original_C043.png_53679dda-638b-4fbb-bbd5-7d3f0e4d0edc.png  \n",
            "  inflating: Dataset/train/category 2_original_6025.png_4c9a1790-6aac-4267-9c46-b55f956510bf.png  \n",
            "  inflating: Dataset/train/category 4_original_C022.png_d877d068-1e5f-4cd5-a2cf-11c3860fec4d.png  \n",
            "  inflating: Dataset/train/category 2_original_6021.png_8316d499-482b-4d41-be24-57e1885bc5d0.png  \n",
            "  inflating: Dataset/train/category 2_original_6041.png_1b94ae30-b5f4-4637-acdb-84a5370fa800.png  \n",
            "  inflating: Dataset/train/category 2_original_6013.png_3d32f9de-0c54-4dd6-b016-3dad12a7ebf9.png  \n",
            "  inflating: Dataset/train/category 3_original_4041.png_874fcabe-71b4-414a-b377-f4bf8784628a.png  \n",
            "  inflating: Dataset/train/category 4_original_C041.png_0cb8bb16-f6b7-4c79-b6ce-455bbce8bf6a.png  \n",
            "  inflating: Dataset/train/category 4_original_C013.png_89298418-a161-4739-b51f-ff806af0380b.png  \n",
            "  inflating: Dataset/train/category 3_original_4032.png_f3e71df5-1f8c-4e0c-a610-cb65f379645f.png  \n",
            "  inflating: Dataset/train/category 4_original_C010.png_c222e499-6762-4140-aa1f-b493c48df818.png  \n",
            "  inflating: Dataset/train/category 2_original_6042.png_ad930da3-6088-4975-a831-f5b25771c61a.png  \n",
            "  inflating: Dataset/train/category 3_original_4033.png_c9092278-9ec1-4355-8851-203bc5b995c7.png  \n",
            "  inflating: Dataset/train/category 3_original_4014.png_2479c4f4-fcab-46ec-9432-fd6447a86089.png  \n",
            "  inflating: Dataset/train/category 3_original_4012.png_ae3334d5-865d-41a4-bf54-5286fb1cbb80.png  \n",
            "  inflating: Dataset/train/category 2_original_6030.png_657bedb0-aa03-4ae4-b343-f854d62ec460.png  \n",
            "  inflating: Dataset/train/category 3_original_4014.png_47ebc669-55a7-41bb-97d3-c3c5b0e3110a.png  \n",
            "  inflating: Dataset/train/category 4_original_C010.png_f6a89e01-e821-4c4e-bd59-23231ef61fee.png  \n",
            "  inflating: Dataset/train/category 3_original_4041.png_e46a6122-95fe-4067-8f9a-66ebf0587390.png  \n",
            "  inflating: Dataset/train/category 2_original_6020.png_08017e46-b765-4b6d-aeb7-140398ca029f.png  \n",
            "  inflating: Dataset/train/category 3_original_4031.png_a3af8a46-6a1b-483b-b3cd-2dfb58f9377c.png  \n",
            "  inflating: Dataset/train/category 3_original_4000.png_359d29aa-93bb-454b-8ee2-f5d3e2f02c14.png  \n",
            "  inflating: Dataset/train/category 2_original_6000.png_8b9a98e7-f746-4751-b846-c8b3f164caf0.png  \n",
            "  inflating: Dataset/train/category 3_original_4010.png_e6a66fd5-1caf-4111-bbc3-4ad77e587a19.png  \n",
            "  inflating: Dataset/train/category 2_original_6013.png_514ece40-30dc-4ff4-9dc8-b7ed142872ac.png  \n",
            "  inflating: Dataset/train/category 4_original_C032.png_31153a8e-8198-4d73-8fda-14ef5a279d18.png  \n",
            "  inflating: Dataset/train/category 2_original_6033.png_3252d2e5-6ede-4de4-b420-882f02581f57.png  \n",
            "  inflating: Dataset/train/category 4_original_C040.png_933b0930-ac70-42c2-a4a5-d5110178744a.png  \n",
            "  inflating: Dataset/train/category 3_original_4030.png_490f1402-6857-4d6a-b49e-dedef1426ba0.png  \n",
            "  inflating: Dataset/train/category 3_original_4041.png_4417f495-aa37-47a8-83c5-de4e7729ab6a.png  \n",
            "  inflating: Dataset/train/category 4_original_C051.png_29e77e72-53a2-470c-9f29-cb15e94508d0.png  \n",
            "  inflating: Dataset/train/category 3_original_4033.png_e556e775-7ea1-4c4f-884c-eb4be6748397.png  \n",
            "  inflating: Dataset/train/category 4_original_C051.png_f6c9916c-a4a2-43cf-9499-903b29fd7978.png  \n",
            "  inflating: Dataset/train/category 2_original_6040.png_cc8893e8-50c0-4c96-9158-4dd351b9261c.png  \n",
            "  inflating: Dataset/train/category 4_original_C041.png_17d28b25-d03b-4259-bb42-88efbb54d980.png  \n",
            "  inflating: Dataset/train/category 3_original_4021.png_39ba6ef0-446d-44ef-b945-570562c67304.png  \n",
            "  inflating: Dataset/train/category 4_original_C040.png_8c31f4d9-afaf-412c-a68f-8ddfdd366f93.png  \n",
            "  inflating: Dataset/train/category 2_original_6042.png_9ac12dd6-9ade-4e93-a7b0-d21bb48ece22.png  \n",
            "  inflating: Dataset/train/category 3_original_4022.png_7a963930-ba6f-49b4-b29f-a1ff240017be.png  \n",
            "  inflating: Dataset/train/category 3_original_4025.png_780dd6be-d3ad-4139-86bf-a2af6eab058e.png  \n",
            "  inflating: Dataset/train/category 3_original_4012.png_3b7927a2-3ec8-4e1d-b95d-259248e22797.png  \n",
            "  inflating: Dataset/train/category 2_original_6033.png_4cdb70ec-9649-4857-b2de-975155a6bb3e.png  \n",
            "  inflating: Dataset/train/category 3_original_4032.png_d7e19c21-03fe-49bf-84f0-be90e741d979.png  \n",
            "  inflating: Dataset/train/category 3_original_4022.png_aaf4c841-25ee-4fe4-a692-5ac59eab13e9.png  \n",
            "  inflating: Dataset/train/category 2_original_6041.png_35eea8bb-75f9-4be6-a08b-a8c2aad9959f.png  \n",
            "  inflating: Dataset/train/category 2_original_6041.png_4bed7e0f-ea1c-4dbe-91ed-0e0c19bcc861.png  \n",
            "  inflating: Dataset/train/category 4_original_C012.png_166c7705-c065-4df4-948e-d39871409c95.png  \n",
            "  inflating: Dataset/train/category 2_original_6041.png_620d5b80-6830-42e2-9cfc-42e9e1e8e764.png  \n",
            "  inflating: Dataset/train/category 3_original_4021.png_7654b456-ffaf-4a1e-bd03-0103d847230e.png  \n",
            "  inflating: Dataset/train/category 3_original_4024.png_3486e764-1c69-492c-a3de-15239c65b818.png  \n",
            "  inflating: Dataset/train/category 4_original_C000.png_223f47aa-cc6d-42ff-9dd7-4ff83f5b4b95.png  \n",
            "  inflating: Dataset/train/category 4_original_C023.png_901740a2-f397-450c-bd7b-42779049e55e.png  \n",
            "  inflating: Dataset/train/category 4_original_C040.png_01919440-0b3e-441c-8436-c30e0cab32a8.png  \n",
            "  inflating: Dataset/train/category 3_original_4014.png_8da60b85-174d-4358-be29-a5d28ba20059.png  \n",
            "  inflating: Dataset/train/category 2_original_6025.png_e1ce5941-84dc-43b3-b201-7593a6d673af.png  \n",
            "  inflating: Dataset/train/category 3_original_4033.png_ab1e0572-926e-4436-ae06-44dc1d3f1ace.png  \n",
            "  inflating: Dataset/train/category 2_original_6020.png_dd9f2661-f293-444d-b9e1-ccaa3a9a7394.png  \n",
            "  inflating: Dataset/train/category 4_original_C041.png_0f68e400-04aa-4671-aa44-28f7c2ca0c53.png  \n",
            "  inflating: Dataset/train/category 4_original_C012.png_4c12b060-283c-4b76-a659-63aa219ca7df.png  \n",
            "  inflating: Dataset/train/category 3_original_4041.png_1d955ab4-61ed-4bf3-8602-e3a393cd73fe.png  \n",
            "  inflating: Dataset/train/category 3_original_4012.png_a5129102-fdbd-464a-aa7a-2b05d8873823.png  \n",
            "  inflating: Dataset/train/category 4_original_C030.png_5bacb6dd-a84f-4c49-aa55-7d8f37974827.png  \n",
            "  inflating: Dataset/train/category 3_original_4032.png_d4ac0dd1-b1a9-405a-996a-c8c264693526.png  \n",
            "  inflating: Dataset/train/category 2_original_6021.png_c6a73f9b-974f-4e8c-8445-ba45b1c935bb.png  \n",
            "  inflating: Dataset/train/category 2_original_6022.png_03b2d1ea-af80-4333-bcdb-17dea18b9a71.png  \n",
            "  inflating: Dataset/train/category 3_original_4022.png_2fa16f49-935e-43c2-b111-2efe738bf113.png  \n",
            "  inflating: Dataset/train/category 2_original_6024.png_e9ad400f-9a27-41a0-8e92-592fa266f2f5.png  \n",
            "  inflating: Dataset/train/category 2_original_6020.png_8eee8d28-6aa0-4361-9074-28837165b8ee.png  \n",
            "  inflating: Dataset/train/category 4_original_C010.png_fadebb9c-1435-476e-a434-7a3a1d9b41f2.png  \n",
            "  inflating: Dataset/train/category 4_original_C040.png_545e373a-5e97-4e6b-a3e6-7ca057bc1ac0.png  \n",
            "  inflating: Dataset/train/category 2_original_6014.png_e02c3803-8dba-4a71-8365-2f8d9b971904.png  \n",
            "  inflating: Dataset/train/category 2_original_6031.png_4b493e75-2f5d-4208-859d-dce159b7cb93.png  \n",
            "  inflating: Dataset/train/category 4_original_C024.png_9992dc9c-fe27-4d8c-ad71-5ec6c2f91789.png  \n",
            "  inflating: Dataset/train/category 4_original_C013.png_dfbd5662-d145-49d6-89bd-b17edcf7fec2.png  \n",
            "  inflating: Dataset/train/category 3_original_4030.png_77620930-31d0-49db-b6b7-c08e3163d994.png  \n",
            "  inflating: Dataset/train/category 2_original_6012.png_441b0eae-18db-4ac0-bf39-d8263e3e7c9e.png  \n",
            "  inflating: Dataset/train/category 3_original_4030.png_e2216f6e-eb5d-4bbf-8f3b-d0e163c32caf.png  \n",
            "  inflating: Dataset/train/category 3_original_4042.png_dbdabed4-644b-429e-9a94-5a40d79c2a2f.png  \n",
            "  inflating: Dataset/train/category 4_original_C024.png_8457dcbb-34c9-43a7-bf23-4cb4c3169095.png  \n",
            "  inflating: Dataset/train/category 3_original_4012.png_07306be9-ecce-4c14-9910-ea4862b38607.png  \n",
            "  inflating: Dataset/train/category 3_original_4032.png_810800f9-6cd3-4dee-9beb-b5942aa3ade4.png  \n",
            "  inflating: Dataset/train/category 4_original_C032.png_a88af67f-a9e5-4f7b-b474-bd48bce41516.png  \n",
            "  inflating: Dataset/train/category 2_original_6025.png_f3ff3a86-d870-4386-9344-6dc815ca06a7.png  \n",
            "  inflating: Dataset/train/category 3_original_4030.png_b3d14446-a488-4cd0-99fc-38291e199a67.png  \n",
            "  inflating: Dataset/train/category 3_original_4021.png_ddc28520-150a-4552-8047-8193dd5834ce.png  \n",
            "  inflating: Dataset/train/category 4_original_C032.png_c1329134-9ee9-4998-8c99-d6e4da6f7711.png  \n",
            "  inflating: Dataset/train/category 2_original_6042.png_7ba44608-cad8-48b4-8546-b13dd9d08aa4.png  \n",
            "  inflating: Dataset/train/category 3_original_4021.png_bfb90c8c-9fd4-46fd-9ed5-0e63db480cc3.png  \n",
            "  inflating: Dataset/train/category 3_original_4021.png_8ec3976e-b1c2-4ac0-b825-f08ed3c5116c.png  \n",
            "  inflating: Dataset/train/category 2_original_6021.png_6f9a7224-38ae-471f-8054-0dace06e1fe7.png  \n",
            "  inflating: Dataset/train/category 2_original_6013.png_e3704583-20cf-4985-b7be-4e5f4185da28.png  \n",
            "  inflating: Dataset/train/category 2_original_6011.png_38e5f4bd-7870-4fac-b8b2-19d580a14e62.png  \n",
            "  inflating: Dataset/train/category 2_original_6033.png_691c3bcb-2dbe-4688-aae0-707493645e1b.png  \n",
            "  inflating: Dataset/train/category 3_original_4041.png_b55452f4-8c9c-41a8-b023-048854fe05f4.png  \n",
            "  inflating: Dataset/train/category 3_original_4010.png_1c1f823a-d1a4-4487-8330-d1f6a23e41da.png  \n",
            "  inflating: Dataset/train/category 2_original_6033.png_ec631441-4d5f-4080-95e0-b604d3280216.png  \n",
            "  inflating: Dataset/train/category 4_original_C023.png_27133b03-927a-4cf5-bdae-d5301e26e4c0.png  \n",
            "  inflating: Dataset/train/category 4_original_C010.png_2c356427-d1b3-4ef8-b7fb-fdc707b88100.png  \n",
            "  inflating: Dataset/train/category 4_original_C024.png_4e7258de-04a6-40b5-8dd8-6297f7df5062.png  \n",
            "  inflating: Dataset/train/category 2_original_6031.png_204df9f1-4e7d-450c-b48c-18e319323a8d.png  \n",
            "  inflating: Dataset/train/category 2_original_6012.png_26a814c4-992d-4061-a813-d653db5444da.png  \n",
            "  inflating: Dataset/train/category 3_original_4000.png_e644cef7-524c-4694-957d-7e88320c11f6.png  \n",
            "  inflating: Dataset/train/category 2_original_6021.png_44c00ba8-6d43-4d5d-a790-a039cb408d5d.png  \n",
            "  inflating: Dataset/train/category 4_original_C000.png_ffdbf440-bd70-469f-a7eb-3aed46400edb.png  \n",
            "  inflating: Dataset/train/category 3_original_4020.png_f74620fd-1741-4f09-a5cd-49cb7dad27ce.png  \n",
            "  inflating: Dataset/train/category 4_original_C011.png_0bbace8e-7878-4b83-9573-17248e502c4e.png  \n",
            "  inflating: Dataset/train/category 3_original_4041.png_457fbd1f-c35d-4615-8299-481fba5d4fe0.png  \n",
            "  inflating: Dataset/train/category 2_original_6040.png_1f58714b-06be-4dc8-b071-93dd92870254.png  \n",
            "  inflating: Dataset/train/category 3_original_4023.png_cea04b52-54fc-45c8-b15a-4e267e534653.png  \n",
            "  inflating: Dataset/train/category 4_original_C024.png_d68602c4-9f35-4414-abcb-b6193036b3ff.png  \n",
            "  inflating: Dataset/train/category 3_original_4021.png_0541ca11-ed4b-4623-ba95-a6ff5b9b46fc.png  \n",
            "  inflating: Dataset/train/category 3_original_4042.png_44702489-e228-44f5-a584-42a5935bfba1.png  \n",
            "  inflating: Dataset/train/category 4_original_C050.png_776b6048-b4f1-46f6-8441-ac73355a231f.png  \n",
            "  inflating: Dataset/train/category 2_original_6013.png_04eaca06-6a22-4c4c-a895-572fba154737.png  \n",
            "  inflating: Dataset/train/category 2_original_6031.png_0eb3efda-ffec-404e-bf5f-dc7f0b17c956.png  \n",
            "  inflating: Dataset/train/category 2_original_6020.png_bd547b24-9927-486e-bc77-2a9317311a37.png  \n",
            "  inflating: Dataset/train/category 3_original_4032.png_e478f5a5-d44a-4ea0-b957-4d54997215d2.png  \n",
            "  inflating: Dataset/train/category 3_original_4022.png_b889b903-91ac-4f9f-b042-6366a565bf33.png  \n",
            "  inflating: Dataset/train/category 3_original_4024.png_a7d29121-7347-4c5e-be57-8627f21d8029.png  \n",
            "  inflating: Dataset/train/category 3_original_4024.png_cce52cfe-7a01-4ad9-bb93-c164f041462d.png  \n",
            "  inflating: Dataset/train/category 3_original_4012.png_a6777c1e-3f16-4ed7-b27f-7b74201d4e90.png  \n",
            "  inflating: Dataset/train/category 2_original_6042.png_6d3367e4-43e9-4e9d-a46d-eb96b16a21c2.png  \n",
            "  inflating: Dataset/train/category 2_original_6024.png_6bcee79c-91cf-4d7b-a23a-5816941647b9.png  \n",
            "  inflating: Dataset/train/category 3_original_4030.png_9b0201a9-b0f6-445e-811d-8c8102349347.png  \n",
            "  inflating: Dataset/train/category 4_original_C051.png_daef4898-6148-4b7f-93d4-35effcb6f170.png  \n",
            "  inflating: Dataset/train/category 3_original_4012.png_93061635-8a0b-4d7f-a7c8-dada6ce33734.png  \n",
            "  inflating: Dataset/train/category 3_original_4040.png_89428bec-9f3a-4998-83ef-a1d7e7082bc9.png  \n",
            "  inflating: Dataset/train/category 4_original_C043.png_2b8ead70-7a97-44be-a376-682b15906e38.png  \n",
            "  inflating: Dataset/train/category 4_original_C051.png_8bf3566c-279b-4604-b3c8-042f7ac21578.png  \n",
            "  inflating: Dataset/train/category 4_original_C025.png_ef459b8a-ec7c-44f6-85d4-39f7550bbe69.png  \n",
            "  inflating: Dataset/train/category 2_original_6050.png_b67def76-d08d-445d-a2c0-42b879641e0c.png  \n",
            "  inflating: Dataset/train/category 2_original_6024.png_dd5a50ea-9c76-42bf-97c9-667524e52b7e.png  \n",
            "  inflating: Dataset/train/category 4_original_C025.png_0e6f56c8-d4ae-4e1c-9d4b-0bdccec4974e.png  \n",
            "  inflating: Dataset/train/category 3_original_4031.png_6387139e-5004-4e62-bd5e-4b723fc1bb81.png  \n",
            "  inflating: Dataset/train/category 2_original_6033.png_b432bae7-7995-4b4d-bf61-7d80324b319e.png  \n",
            "  inflating: Dataset/train/category 4_original_C010.png_97846c61-f484-461a-a9e9-fc70d7262ae8.png  \n",
            "  inflating: Dataset/train/category 3_original_4032.png_a4100676-08f8-468a-b74c-5f4ff7c634e7.png  \n",
            "  inflating: Dataset/train/category 2_original_6043.png_1f010b08-a6d9-41dd-8fcb-2b0902a63dec.png  \n",
            "  inflating: Dataset/train/category 2_original_6025.png_ad20bc5e-d157-492c-ba27-43123b28524a.png  \n",
            "  inflating: Dataset/train/category 3_original_4040.png_a517d6ce-b117-4cae-ac31-49eb358064fa.png  \n",
            "  inflating: Dataset/train/category 4_original_C050.png_4e0a8338-3280-4468-a46c-36ddabc4b767.png  \n",
            "  inflating: Dataset/train/category 2_original_6043.png_fef43a57-36ee-405d-bd28-c2734dd641be.png  \n",
            "  inflating: Dataset/train/category 2_original_6033.png_010c84e3-0067-4466-bd1b-dad44ac0079c.png  \n",
            "  inflating: Dataset/train/category 4_original_C024.png_337375e4-da62-41a5-a936-1807ae313e84.png  \n",
            "  inflating: Dataset/train/category 4_original_C012.png_da5b63a7-7b11-4a76-8bd9-dbc7b679876b.png  \n",
            "  inflating: Dataset/train/category 2_original_6040.png_9e6cca66-a1a9-4b63-b58b-0ca9cfdbc287.png  \n",
            "  inflating: Dataset/train/category 2_original_6041.png_b96b963b-d35c-4fdf-b8e6-6e9ec0cb5c81.png  \n",
            "  inflating: Dataset/train/category 3_original_4030.png_fc4c655c-dd91-4c39-9f6b-3af30af8c5c0.png  \n",
            "  inflating: Dataset/train/category 4_original_C030.png_5d605757-61ed-40e3-843e-4991c7a8f578.png  \n",
            "  inflating: Dataset/train/category 3_original_4022.png_0f613a90-3590-47e7-9e51-b3a8f29eb6d6.png  \n",
            "  inflating: Dataset/train/category 3_original_4022.png_9cad27b0-05d0-4b11-9147-da995ff59402.png  \n",
            "  inflating: Dataset/train/category 4_original_C022.png_9bb87c07-ca7c-4192-a66f-7a280d377980.png  \n",
            "  inflating: Dataset/train/category 2_original_6041.png_6c2e61f7-746e-4f05-b0d2-482211832923.png  \n",
            "  inflating: Dataset/train/category 4_original_C021.png_21c922d1-5b4d-4572-8c27-c57986803e4e.png  \n",
            "  inflating: Dataset/train/category 4_original_C024.png_68435f51-159b-4e1a-b7c4-ba542e96595a.png  \n",
            "  inflating: Dataset/train/category 3_original_4022.png_e0b3abac-7a75-461a-874c-069511de100e.png  \n",
            "  inflating: Dataset/train/category 4_original_C020.png_ce01fe67-b41f-4edd-9efa-3165270a59df.png  \n",
            "  inflating: Dataset/train/category 4_original_C050.png_e00361e6-bf79-441c-baf8-a423ea5a46ac.png  \n",
            "  inflating: Dataset/train/category 4_original_C051.png_0cab3270-d518-4be6-96ff-4c7b628e23d2.png  \n",
            "  inflating: Dataset/train/category 2_original_6032.png_96bb08c4-efbd-461d-8843-dc54696a1f6d.png  \n",
            "  inflating: Dataset/train/category 4_original_C000.png_5fde89c2-1349-424c-81a4-fa61909f8ef0.png  \n",
            "  inflating: Dataset/train/category 3_original_4032.png_722cfc40-49c7-4aa5-b2ae-212d4656d902.png  \n",
            "  inflating: Dataset/train/category 4_original_C042.png_bc0cdf09-4f6b-43cb-8786-5155e0088037.png  \n",
            "  inflating: Dataset/train/category 4_original_C032.png_245f3324-f0de-4875-9c87-e5e3a0f0927c.png  \n",
            "  inflating: Dataset/train/category 2_original_6041.png_d41d037a-5ff9-465a-a16f-80605081f19d.png  \n",
            "  inflating: Dataset/train/category 2_original_6042.png_dbc8c0a6-0bf7-4c29-bc07-d6e14d732f4d.png  \n",
            "  inflating: Dataset/train/category 4_original_C013.png_be415b3f-f3c6-48c7-baa4-4762e3fe3e81.png  \n",
            "  inflating: Dataset/train/category 4_original_C043.png_2460b276-bdd1-4d3f-a0da-e83d02451d26.png  \n",
            "  inflating: Dataset/train/category 4_original_C010.png_39635fee-a1e8-4b55-9695-cc0173425bee.png  \n",
            "  inflating: Dataset/train/category 3_original_4000.png_b86d6a8c-14da-4af8-861f-9cae6a870f03.png  \n",
            "  inflating: Dataset/train/category 3_original_4032.png_a38cbe4e-27ba-445f-a46e-049dc584cb6c.png  \n",
            "  inflating: Dataset/train/category 4_original_C051.png_f863a48d-ac11-4aea-a425-ea28a90132a2.png  \n",
            "  inflating: Dataset/train/category 4_original_C050.png_fe233ca9-50be-4dd9-8687-2020c5b02f03.png  \n",
            "  inflating: Dataset/train/category 2_original_6020.png_08c79930-ce80-44a1-a013-df9642ad55ee.png  \n",
            "  inflating: Dataset/train/category 3_original_4025.png_0d80dc19-eabb-4102-b403-7fdc115a499f.png  \n",
            "  inflating: Dataset/train/category 2_original_6022.png_4fbe7f69-8d55-48ab-8c79-5fc46eb60536.png  \n",
            "  inflating: Dataset/train/category 3_original_4020.png_6cd97cd8-eb00-463f-9f2e-95c838a271fb.png  \n",
            "  inflating: Dataset/train/category 3_original_4010.png_c8a5440a-716b-4cba-acad-c93b25ac235d.png  \n",
            "  inflating: Dataset/train/category 2_original_6030.png_0e8ef447-e02f-4b46-be9b-19b2e396f1d2.png  \n",
            "  inflating: Dataset/train/category 3_original_4040.png_b0e4eebe-5f26-47fb-a5c2-f19351335de7.png  \n",
            "  inflating: Dataset/train/category 3_original_4021.png_c34ae41b-610b-478d-b173-aeebeaf4afa6.png  \n",
            "  inflating: Dataset/train/category 4_original_C032.png_f7df8503-63e7-4d2f-ae75-c13e27661316.png  \n",
            "  inflating: Dataset/train/category 2_original_6040.png_4f65824d-50d6-4a2c-a26f-d8600824786c.png  \n",
            "  inflating: Dataset/train/category 3_original_4012.png_ddd19db4-608f-4d62-a781-a5058febaab6.png  \n",
            "  inflating: Dataset/train/category 3_original_4023.png_63441f56-729e-45f1-ae95-7df65c67d0df.png  \n",
            "  inflating: Dataset/train/category 2_original_6010.png_9e6f5caf-7f7c-4a15-9de2-7cb3aa860bad.png  \n",
            "  inflating: Dataset/train/category 2_original_6010.png_aeacf8a0-2f49-407f-83df-6d122e48adb8.png  \n",
            "  inflating: Dataset/train/category 2_original_6030.png_b975e82a-2ece-4ace-b8c7-618732602a1c.png  \n",
            "  inflating: Dataset/train/category 3_original_4021.png_7708512f-b2bb-4705-bc8b-c005799b4c0b.png  \n",
            "  inflating: Dataset/train/category 4_original_C042.png_53c67c08-5c94-4b08-89e9-e75597bd3921.png  \n",
            "  inflating: Dataset/train/category 4_original_C012.png_61da7f3e-d992-43c7-8652-352c1c4b170a.png  \n",
            "  inflating: Dataset/train/category 4_original_C051.png_5131fcde-9c25-4520-965f-65a412b50cc8.png  \n",
            "  inflating: Dataset/train/category 3_original_4010.png_95a8ac7a-75bf-4d50-8fcf-510eae39b110.png  \n",
            "  inflating: Dataset/train/category 3_original_4030.png_934e1c34-cacf-4170-97ce-803ad59c278d.png  \n",
            "  inflating: Dataset/train/category 4_original_C050.png_3fc3760f-d505-4fb5-8cd3-e3abfbd9709b.png  \n",
            "  inflating: Dataset/train/category 2_original_6012.png_521b127b-b207-4b97-8e97-9728cc29f4a8.png  \n",
            "  inflating: Dataset/train/category 3_original_4012.png_afb1436a-e7a8-4203-83e1-f1e435513791.png  \n",
            "  inflating: Dataset/train/category 4_original_C032.png_5e35e87f-2112-4cf3-b92c-008bf38ec268.png  \n",
            "  inflating: Dataset/train/category 4_original_C050.png_71ed653e-329c-47c0-bdf8-6297b195764f.png  \n",
            "  inflating: Dataset/train/category 1_original_1000.png_01b3b4fc-dabe-457d-9159-3c2e7eb77785.png  \n",
            "  inflating: Dataset/train/category 1_original_1000.png_3a0711db-3523-4e09-9df3-8c847410f703.png  \n",
            "  inflating: Dataset/train/category 1_original_1000.png_a8cd0fef-8f45-471b-b4e1-02f76729b6df.png  \n",
            "  inflating: Dataset/train/category 1_original_1000.png_c61d4db4-cff4-444a-bb16-4b562979675c.png  \n",
            "  inflating: Dataset/train/category 1_original_1000.png_c89211f0-607b-4454-9f0f-dc31584db133.png  \n",
            "  inflating: Dataset/train/category 1_original_1010.png_0a92c75d-e7bb-4973-9efd-8f0a297701fd.png  \n",
            "  inflating: Dataset/train/category 1_original_1010.png_4d56d3fe-2c2e-4b9c-abd4-3074c0381ea7.png  \n",
            "  inflating: Dataset/train/category 1_original_1011.png_02aa621b-3cde-4ff0-ab16-d80c9ed5226d.png  \n",
            "  inflating: Dataset/train/category 1_original_1011.png_5bf849dc-6638-41d1-923c-fb6192d0863e.png  \n",
            "  inflating: Dataset/train/category 1_original_1011.png_5c69e56b-77f8-4538-978e-c383ae6454c3.png  \n",
            "  inflating: Dataset/train/category 1_original_1011.png_09ee2c6b-6853-4938-ab95-760e6d137a77.png  \n",
            "  inflating: Dataset/train/category 1_original_1011.png_89e5e981-b425-48c9-bc86-2f643df44bae.png  \n",
            "  inflating: Dataset/train/category 1_original_1011.png_877f76ee-04f0-4a57-ab10-654870149261.png  \n",
            "  inflating: Dataset/train/category 1_original_1011.png_4172b2d5-adde-4f10-bcc3-93eb8779bd61.png  \n",
            "  inflating: Dataset/train/category 1_original_1011.png_a0c91a3e-1b9c-4f40-a4d1-4fed67ead2b6.png  \n",
            "  inflating: Dataset/train/category 1_original_1011.png_d92943f0-fd2f-49cd-b860-aaf589602131.png  \n",
            "  inflating: Dataset/train/category 1_original_1011.png_f6d62bbf-e554-494f-9d42-f52ebe61b384.png  \n",
            "  inflating: Dataset/train/category 1_original_1011.png_f12f99c1-3c33-45cc-ad87-65da0924e60a.png  \n",
            "  inflating: Dataset/train/category 1_original_1012.png_6ba21c39-58e4-4794-a744-efeaf7f6b921.png  \n",
            "  inflating: Dataset/train/category 1_original_1012.png_099ea3b4-e64a-4e4c-9b74-4ab336f82070.png  \n",
            "  inflating: Dataset/train/category 1_original_1012.png_e217e460-81e5-4083-a5de-6f1f1f9184b9.png  \n",
            "  inflating: Dataset/train/category 1_original_1013.png_0db68405-adf1-4056-82a8-00ba10cd1a74.png  \n",
            "  inflating: Dataset/train/category 1_original_1013.png_2d87c7f0-27cc-4dbf-a891-5b70dbfa8d66.png  \n",
            "  inflating: Dataset/train/category 1_original_1013.png_8f7e3555-2d36-4697-8e14-6303966ca0f4.png  \n",
            "  inflating: Dataset/train/category 1_original_1013.png_bb7b257a-cd09-4d23-86b6-9de65832f938.png  \n",
            "  inflating: Dataset/train/category 1_original_1013.png_bc4d56ae-3287-44e5-8e07-f227b0e11e4d.png  \n",
            "  inflating: Dataset/train/category 1_original_1014.png_8ed7447a-17e4-4671-bea2-4db751175277.png  \n",
            "  inflating: Dataset/train/category 1_original_1014.png_41d2b853-4ac2-4d66-8539-d6b00dbdd502.png  \n",
            "  inflating: Dataset/train/category 1_original_1014.png_b97f4b24-6098-4e12-9e5d-2a296c617317.png  \n",
            "  inflating: Dataset/train/category 1_original_1014.png_c0210010-8dcb-4b16-9a79-c233f102b697.png  \n",
            "  inflating: Dataset/train/category 1_original_1020.png_54ed60a4-8e56-4359-9411-5eaca47f4b3c.png  \n",
            "  inflating: Dataset/train/category 1_original_1020.png_410a6bea-447d-4ffe-b9ad-0cb7092b3d77.png  \n",
            "  inflating: Dataset/train/category 1_original_1020.png_835cf942-0c89-413d-95fe-14bd2b919586.png  \n",
            "  inflating: Dataset/train/category 1_original_1020.png_7344b337-4bd9-4325-a23d-2ba6de3669df.png  \n",
            "  inflating: Dataset/train/category 1_original_1021.png_79a6f8be-a39b-4a8d-aa78-df77b90d23d6.png  \n",
            "  inflating: Dataset/train/category 1_original_1021.png_1577d328-786d-45d3-b70b-48f06139d2d3.png  \n",
            "  inflating: Dataset/train/category 1_original_1021.png_de3f04ad-4e82-4da1-ac10-fc98f2fa4c36.png  \n",
            "  inflating: Dataset/train/category 1_original_1021.png_e199b799-9b28-42b8-b16c-3fd75ea723b6.png  \n",
            "  inflating: Dataset/train/category 1_original_1023.png_5c970e3a-708c-4ed7-aca9-6260104ff817.png  \n",
            "  inflating: Dataset/train/category 1_original_1023.png_7b40a727-5dd8-4368-bd74-d2b170c4a0c7.png  \n",
            "  inflating: Dataset/train/category 1_original_1023.png_68b7458b-6d2e-4aa1-b2b5-7964989347fd.png  \n",
            "  inflating: Dataset/train/category 1_original_1023.png_00856ddc-ce04-4b8f-a54c-8803dfd13f7f.png  \n",
            "  inflating: Dataset/train/category 1_original_1023.png_b6c0487b-176b-4f54-82aa-46eb2129c886.png  \n",
            "  inflating: Dataset/train/category 1_original_1024.png_1e41d8f1-4f24-4c6e-b6d0-6e57b9af050a.png  \n",
            "  inflating: Dataset/train/category 1_original_1024.png_52cf5989-c954-4c10-9621-81836988e465.png  \n",
            "  inflating: Dataset/train/category 1_original_1024.png_78366fe3-441b-4608-83e1-239b8b33f80e.png  \n",
            "  inflating: Dataset/train/category 1_original_1024.png_d8c80b75-4ecd-4ed9-ae85-43645f114818.png  \n",
            "  inflating: Dataset/train/category 1_original_1024.png_e29b84ea-7f9b-4b8e-bcce-a0a3cd2dee68.png  \n",
            "  inflating: Dataset/train/category 1_original_1025.png_2a68bc42-6530-4ad0-bd3c-0d62b9b2cf6b.png  \n",
            "  inflating: Dataset/train/category 1_original_1025.png_4e4a4166-0fba-42cd-af2c-d986dc85eee7.png  \n",
            "  inflating: Dataset/train/category 1_original_1025.png_9f6ed2d9-c04d-44a3-8aa7-560890901eee.png  \n",
            "  inflating: Dataset/train/category 1_original_1025.png_194aabbf-d34c-406c-9ddc-c857fa806557.png  \n",
            "  inflating: Dataset/train/category 1_original_1025.png_461227c7-13c8-4e54-a1b8-9753ee1a3e40.png  \n",
            "  inflating: Dataset/train/category 1_original_1030.png_334c4216-2784-431e-bab8-547f6f841cad.png  \n",
            "  inflating: Dataset/train/category 1_original_1030.png_822e1516-72a0-4b5d-a655-266d3f0ec56a.png  \n",
            "  inflating: Dataset/train/category 1_original_1030.png_0962f760-4b26-46d1-bf20-dfd0592fc3b7.png  \n",
            "  inflating: Dataset/train/category 1_original_1030.png_c6ea81e9-d184-4be6-9ff2-6b112811fdb3.png  \n",
            "  inflating: Dataset/train/category 1_original_1030.png_cfba2d70-7440-4829-8de7-98404141e697.png  \n",
            "  inflating: Dataset/train/category 1_original_1030.png_eba574e1-82e5-4ec1-a78f-4da0d55bd003.png  \n",
            "  inflating: Dataset/train/category 1_original_1031.png_1d048334-f4bb-4660-bd99-64df81f8d4aa.png  \n",
            "  inflating: Dataset/train/category 1_original_1031.png_9f5ab96e-e9f0-4c66-9b1c-2ec3831a10b3.png  \n",
            "  inflating: Dataset/train/category 1_original_1031.png_28cb7d80-9969-4b8e-b84a-150dbfa23c9a.png  \n",
            "  inflating: Dataset/train/category 1_original_1031.png_257d396c-0ea1-4e7f-b863-23d2653c231c.png  \n",
            "  inflating: Dataset/train/category 1_original_1031.png_921efb1a-23c6-44c0-9a7c-24b220551e5e.png  \n",
            "  inflating: Dataset/train/category 1_original_1031.png_7973318b-bdce-4cef-a43b-d5ce3d0e9ef7.png  \n",
            "  inflating: Dataset/train/category 1_original_1032.png_0566d1d1-03c4-451b-89a5-cfdef90d3e35.png  \n",
            "  inflating: Dataset/train/category 1_original_1032.png_106017a7-921d-44c8-961d-ade3f3fdfab7.png  \n",
            "  inflating: Dataset/train/category 1_original_1032.png_b49b9a11-e0c5-44d7-8d0c-b895704cc91d.png  \n",
            "  inflating: Dataset/train/category 1_original_1032.png_e7ed6bb7-7b57-4faf-abcc-6bc32ab414f9.png  \n",
            "  inflating: Dataset/train/category 1_original_1032.png_f71e3875-e4fb-4110-84f3-82d8c9f9166d.png  \n",
            "  inflating: Dataset/train/category 1_original_1033.png_05d94612-ee98-43fe-a623-9ce359956b05.png  \n",
            "  inflating: Dataset/train/category 1_original_1033.png_88dd1fd5-97e5-4b7f-8959-88f8d61411c1.png  \n",
            "  inflating: Dataset/train/category 1_original_1033.png_539ff247-3011-4c3a-95d6-d00c76e6c232.png  \n",
            "  inflating: Dataset/train/category 1_original_1040.png_6a9c456f-4c18-4a70-abbd-de00330948f4.png  \n",
            "  inflating: Dataset/train/category 1_original_1040.png_09feef9b-7d51-4155-982c-c4e39d5758c4.png  \n",
            "  inflating: Dataset/train/category 1_original_1040.png_83f1002d-0e92-42d1-8104-95a83e42ab0a.png  \n",
            "  inflating: Dataset/train/category 1_original_1040.png_908f3c74-eed6-4796-a711-06c1008f0445.png  \n",
            "  inflating: Dataset/train/category 1_original_1040.png_46705137-34cb-4a60-bf6d-42262e944e9d.png  \n",
            "  inflating: Dataset/train/category 1_original_1041.png_3a4303ef-8d9d-4052-93be-cd9010f8c932.png  \n",
            "  inflating: Dataset/train/category 1_original_1041.png_26ad3dc1-ce60-4016-b8d7-57eb61c8460e.png  \n",
            "  inflating: Dataset/train/category 1_original_1041.png_0381eee1-d393-482d-a1aa-eb1f5edbd0c0.png  \n",
            "  inflating: Dataset/train/category 1_original_1041.png_811fa32f-dbfd-45d1-aee1-b9f83ab7cb5d.png  \n",
            "  inflating: Dataset/train/category 1_original_1041.png_fa7ef29f-cf78-4eea-bf8c-d990da713c53.png  \n",
            "  inflating: Dataset/train/category 1_original_1042.png_acc66dab-5c1a-4490-a7d1-79900c2f61eb.png  \n",
            "  inflating: Dataset/train/category 1_original_1042.png_e75bb47f-c3d6-49ee-abb7-7f3d13857a37.png  \n",
            "  inflating: Dataset/train/category 1_original_1042.png_e1806a26-6cf1-444d-9c48-ee73e54747f8.png  \n",
            "  inflating: Dataset/train/category 1_original_1042.png_fd8fb574-ef2d-47b4-a311-710e7319880b.png  \n",
            "  inflating: Dataset/train/category 1_original_1043.png_7cf889d4-4d84-404b-9309-c7cf95011c19.png  \n",
            "  inflating: Dataset/train/category 1_original_1043.png_854b2d4d-d44b-492c-b598-626b952ebb97.png  \n",
            "  inflating: Dataset/train/category 1_original_1043.png_a125fd1a-91e3-40c6-a1e0-b4996b62c3c9.png  \n",
            "  inflating: Dataset/train/category 1_original_1043.png_a80526df-a89b-4c25-9e4c-8ba179e49828.png  \n",
            "  inflating: Dataset/train/category 1_original_1043.png_dc7a64fc-7fbc-4fa1-a438-15772f6c4fb2.png  \n",
            "  inflating: Dataset/train/category 1_original_1050.png_3a392001-cb65-4e29-8738-4c19bce1f12f.png  \n",
            "  inflating: Dataset/train/category 1_original_1050.png_5f5015cf-b6c4-492e-8234-0057a6d283e2.png  \n",
            "  inflating: Dataset/train/category 1_original_1050.png_54b5cf6a-e764-4323-9919-15e39a768bf3.png  \n",
            "  inflating: Dataset/train/category 1_original_1050.png_98a1f485-b691-45b4-8dd8-a9e2110aec74.png  \n",
            "  inflating: Dataset/train/category 1_original_1050.png_47749bc0-6e2b-43c9-9aaf-968767b29009.png  \n",
            "  inflating: Dataset/train/category 1_original_1050.png_abf9401c-f4a4-45c5-8768-83f0fb94e845.png  \n",
            "  inflating: Dataset/train/category 1_original_1050.png_ac07dd7a-f43d-4975-86a6-c04ddecd8072.png  \n",
            "  inflating: Dataset/train/category 1_original_1050.png_ad624bbd-92ee-4c1e-97fa-8d3a7e2e6b30.png  \n",
            "  inflating: Dataset/train/category 1_original_1050.png_cd4d0c8c-95d5-43af-9510-3ad62c748be6.png  \n",
            "  inflating: Dataset/train/category 1_original_1050.png_fa4719f4-9e3e-471e-9f48-78883c06d237.png  \n",
            "  inflating: Dataset/labelling.csv   \n",
            "  inflating: Dataset/results.csv     \n",
            "  inflating: Dataset/test/1051.png   \n",
            "  inflating: Dataset/test/C052.png   \n",
            "  inflating: Dataset/test/C053.png   \n",
            "  inflating: Dataset/test/Test_original_6053.png_c34c8352-0830-4853-81ce-3ea5ecf82313.png  \n",
            "  inflating: Dataset/test/4043.png   \n",
            "  inflating: Dataset/test/Test_original_C053.png_84d8e7c9-490f-4579-b9a9-501a8ca02cfe.png  \n",
            "  inflating: Dataset/test/Test_original_1052.png_22a82512-5b1f-4072-a4af-9a8af40653f0.png  \n",
            "  inflating: Dataset/test/Test_original_6052.png_51c87ecf-ede6-4152-960f-4d56ff913d53.png  \n",
            "  inflating: Dataset/test/Test_original_4052.png_a2ba34f8-9e8b-4b2d-ad89-612c261a9654.png  \n",
            "  inflating: Dataset/test/4051.png   \n",
            "  inflating: Dataset/test/Test_original_4051.png_b90a2ba4-87c6-41e6-ad67-0e0d2e83478c.png  \n",
            "  inflating: Dataset/test/Test_original_1051.png_271f7fb1-f0ab-4ca7-9dae-a352fd0ed8b9.png  \n",
            "  inflating: Dataset/test/Test_original_6053.png_16f2063e-9590-4ae5-b7f9-7f23c8cfa654.png  \n",
            "  inflating: Dataset/test/Test_original_4043.png_fffcbc29-3aff-40c0-bdf9-2c12fa6df60b.png  \n",
            "  inflating: Dataset/test/Test_original_4043.png_615f9058-5c5c-4430-9f11-debd66f8a19a.png  \n",
            "  inflating: Dataset/test/Test_original_4052.png_31cd9a66-9edc-4445-b4bc-9b0239b342e0.png  \n",
            "  inflating: Dataset/test/Test_original_4052.png_209d62b3-92ce-4e4d-8006-cf63a40088a4.png  \n",
            "  inflating: Dataset/test/Test_original_1052.png_b95bc311-bae0-48a7-8b9f-d0eddf1ddf2b.png  \n",
            "  inflating: Dataset/test/Test_original_C052.png_5c226e55-09ba-4fd0-bf6b-e0d2b411baa3.png  \n",
            "  inflating: Dataset/test/Test_original_6052.png_25bb57e2-b542-47c3-9abb-a1f7c7179ee6.png  \n",
            "  inflating: Dataset/test/Test_original_C053.png_e7d20702-793e-4207-b174-a8042c05ac3d.png  \n",
            "  inflating: Dataset/test/Test_original_4052.png_78b7cca7-2a16-4f3c-829d-e4937b5f2dc2.png  \n",
            "  inflating: Dataset/test/Test_original_6053.png_445dbbe1-4b09-4d56-aede-ab1695664ead.png  \n",
            "  inflating: Dataset/test/Test_original_6052.png_9950e35a-38c7-4388-b391-ce50bb8ea1a7.png  \n",
            "  inflating: Dataset/test/Test_original_6053.png_62171105-bdaa-4eb5-b5e7-9b0fb7914715.png  \n",
            "  inflating: Dataset/test/4052.png   \n",
            "  inflating: Dataset/test/4050.png   \n",
            "  inflating: Dataset/test/6052.png   \n",
            "  inflating: Dataset/test/1052.png   \n",
            "  inflating: Dataset/test/6053.png   \n"
          ],
          "name": "stdout"
        }
      ]
    },
    {
      "cell_type": "code",
      "metadata": {
        "id": "KoEquHiark0n",
        "colab_type": "code",
        "colab": {
          "base_uri": "https://localhost:8080/",
          "height": 51
        },
        "outputId": "0f543308-c990-4458-810f-025a062ec7ab"
      },
      "source": [
        "#priting the sizes of the train and test Images.\n",
        "import os\n",
        "train_nb = len(os.listdir('/content/Dataset/train'))\n",
        "test_nb = len(os.listdir('/content/Dataset/test'))\n",
        "print(\"Size of the training Data: \",train_nb)\n",
        "print(\"Size of the testing Data: \",test_nb)"
      ],
      "execution_count": 3,
      "outputs": [
        {
          "output_type": "stream",
          "text": [
            "Size of the training Data:  440\n",
            "Size of the testing Data:  30\n"
          ],
          "name": "stdout"
        }
      ]
    },
    {
      "cell_type": "code",
      "metadata": {
        "id": "XDzPBmZGq_lm",
        "colab_type": "code",
        "colab": {
          "base_uri": "https://localhost:8080/",
          "height": 309
        },
        "outputId": "3232dfae-0e0d-4e48-c99d-c290158a99c2"
      },
      "source": [
        "#Importing the images Id's and its categories. \n",
        "#One-Hot Encoding of the target labels --> y(target label). \n",
        "\n",
        "import pandas as pd\n",
        "from keras.utils.np_utils import to_categorical\n",
        "from sklearn.preprocessing import LabelEncoder\n",
        "\n",
        "#creating the LabelEncoder Object. \n",
        "le = LabelEncoder()\n",
        "\n",
        "train = pd.read_csv('/content/Dataset/labelling.csv')\n",
        "y = train['label']\n",
        "\n",
        "print(train.iloc[[0]], train.iloc[[109]], train.iloc[[310]], train.iloc[[420]], sep='\\n')\n",
        "print(\"\\nNumerical labelling: \")\n",
        "y = le.fit_transform(y.values)\n",
        "\n",
        "print('\\nAfter One-hot Encoding of the test images : ')\n",
        "y = to_categorical(y, num_classes=4)\n",
        "print(y[0],y[109],y[310],y[420], sep = '\\n')"
      ],
      "execution_count": 4,
      "outputs": [
        {
          "output_type": "stream",
          "text": [
            "Using TensorFlow backend.\n"
          ],
          "name": "stderr"
        },
        {
          "output_type": "stream",
          "text": [
            "                                                  ID label\n",
            "0  category 1_original_1050.png_3a392001-cb65-4e2...     A\n",
            "                                                    ID label\n",
            "109  category 4_original_C041.png_6dc9e80b-f6f3-437...     B\n",
            "                                                    ID label\n",
            "310  category 2_original_6025.png_ad20bc5e-d157-492...     C\n",
            "                                                    ID label\n",
            "420  category 3_original_4023.png_c527e335-6bc6-482...     D\n",
            "\n",
            "Numerical labelling: \n",
            "\n",
            "After One-hot Encoding of the test images : \n",
            "[1. 0. 0. 0.]\n",
            "[0. 1. 0. 0.]\n",
            "[0. 0. 1. 0.]\n",
            "[0. 0. 0. 1.]\n"
          ],
          "name": "stdout"
        }
      ]
    },
    {
      "cell_type": "markdown",
      "metadata": {
        "id": "B5HfY_NP8PdC",
        "colab_type": "text"
      },
      "source": [
        "# NOTE:\n",
        "Label A is labelled with the numerical value 0\n",
        "Label B is labelled with the numerical value 1\n",
        "Label C is labelled with the numerical value 2\n",
        "Label D is labelled with the numerical value 3"
      ]
    },
    {
      "cell_type": "code",
      "metadata": {
        "id": "CzFm_bTEXNMP",
        "colab_type": "code",
        "colab": {}
      },
      "source": [
        "def augment_data(dataset, dataset_labels, augementation_factor=4, use_random_shear =True ,use_random_rotation=True, use_random_zoom=True):\n",
        "\n",
        "\t'''Used to increase the number of images by varying the rotation and zooming \n",
        "\t\t of the given image.\n",
        "\n",
        "\tArguments:\n",
        "\t\tdataset(float): A numpy array of the images \n",
        "\t\tdataset_labels: A numpy array of the target labels for the images.\n",
        "\t\taugmentation_factor (int): Number to specify how many times variances should\n",
        "\t\tbe applied.  \n",
        "\t\tuse_random_shear(Boolean): Shearing of the image in various angles.\n",
        "\t\tuse_random_rotation(Boolean):Whether to use the rotation factor to increase \n",
        "\t\tthe number of images.\n",
        "\t\tuse_random_zoom(Boolean): Whether to use the zooming factor to increase the \n",
        "\t\tnumber of images.\n",
        "\t\n",
        "\tReturns:\n",
        "\t\tnumpy array of the increased number of images and numpy array of their \n",
        "\t\tlabels.\n",
        "\n",
        "\t'''\n",
        "\n",
        "\n",
        "\taugmented_image = []\n",
        "\taugmented_image_labels = []\n",
        "\n",
        "\tfor num in range (0, dataset.shape[0]):\n",
        "\n",
        "\t\tfor i in range(0, augementation_factor):\n",
        "\t\t\t# original image:\n",
        "\t\t\taugmented_image.append(dataset[num])\n",
        "\t\t\taugmented_image_labels.append(dataset_labels[num])\n",
        "\n",
        "\t\t\tif use_random_rotation:\n",
        "\t\t\t\taugmented_image.append(tf.keras.preprocessing.image.random_rotation(\\\n",
        "\t\t\t\t\t\tdataset[num], 80, row_axis=0, col_axis=1, channel_axis=2))\n",
        "\t\t\t\taugmented_image_labels.append(dataset_labels[num])\n",
        "\t\t\n",
        "\t\t\t\taugmented_image.append(tf.keras.preprocessing.image.random_rotation(\\\n",
        "\t\t\t\t    dataset[num], 10, row_axis=0, col_axis=1, channel_axis=2))\n",
        "\t\t\t\taugmented_image_labels.append(dataset_labels[num])\n",
        "\t\t\n",
        "\t\t\t\t\n",
        "\t\t\t\taugmented_image.append(tf.keras.preprocessing.image.random_rotation(\\\n",
        "\t\t\t\t    dataset[num], 60, row_axis=0, col_axis=1, channel_axis=2))\n",
        "\t\t\t\taugmented_image_labels.append(dataset_labels[num])\n",
        "\n",
        "\t\t\t\taugmented_image.append(tf.keras.preprocessing.image.random_rotation(\n",
        "\t\t\t\t    dataset[num], 70, row_axis=0, col_axis=1, channel_axis=2))\n",
        "\t\t\t\taugmented_image_labels.append(dataset_labels[num])\n",
        "\t\t\n",
        "\t\t\tif use_random_shear:\n",
        "\t\t\t\t\taugmented_image.append(tf.keras.preprocessing.image\n",
        "\t\t\t\t\t                       .random_shear(dataset[num], 0.2, row_axis=0,\n",
        "\t\t\t\t\t\t\t\t\t\t\t\t\t\t\t\t\tcol_axis=1, channel_axis=2))\n",
        "\t\t\t\t\taugmented_image_labels.append(dataset_labels[num])\n",
        "\t\t\t\n",
        "\t\t\t\t\taugmented_image.append(tf.keras.preprocessing.image\n",
        "\t\t\t\t\t\t\t\t\t\t\t\t\t\t\t\t.random_shear(dataset[num], 0.4, row_axis=0, \n",
        "\t\t\t\t\t\t\t\t\t\t\t\t\t\t\t\t\tcol_axis=1, channel_axis=2))\n",
        "\t\t\t\t\taugmented_image_labels.append(dataset_labels[num])\n",
        "\n",
        "\t\t\t\t\taugmented_image.append(tf.keras.preprocessing.image\n",
        "\t\t\t\t\t\t\t\t\t\t\t\t\t\t\t\t.random_shear(dataset[num], 0.6, row_axis=0, \n",
        "\t\t\t\t\t\t\t\t\t\t\t\t\t\t\t\t\tcol_axis=1, channel_axis=2))\n",
        "\t\t\t\t\taugmented_image_labels.append(dataset_labels[num])\n",
        "\n",
        "\t\t\t\n",
        "\t\t\t\n",
        "\t\t\tif use_random_zoom:\n",
        "\t\t\t\taugmented_image.append(tf.keras.preprocessing.image.random_zoom(\\\n",
        "\t\t\t\t     dataset[num], [-0.7, -0.7], row_axis=1, col_axis=2, channel_axis=0,\\\n",
        "\t\t\t\t\t\t fill_mode='nearest',cval=0.0, interpolation_order=1))\n",
        "\t\t\t\taugmented_image_labels.append(dataset_labels[num])\n",
        "\t\t\t\taugmented_image.append(tf.keras.preprocessing.image.random_zoom(\\\n",
        "\t\t\t\t    dataset[num], [-0.6, -0.6], row_axis=1, col_axis=2, channel_axis=0,\\\n",
        "\t\t\t\t\t\tfill_mode='nearest',cval=0.0, interpolation_order=1))\n",
        "\t\t\t\taugmented_image_labels.append(dataset_labels[num])\n",
        "\t\t\n",
        "\t\t\t\taugmented_image.append(tf.keras.preprocessing.image.random_zoom(\\\n",
        "\t\t\t\t     dataset[num], [-0.5, -0.5], row_axis=1, col_axis=2, channel_axis=0,\\\n",
        "\t\t\t\t\t\t fill_mode='nearest',cval=0.0, interpolation_order=1))\n",
        "\t\t\t\taugmented_image_labels.append(dataset_labels[num])\n",
        "\t\t\t\taugmented_image.append(tf.keras.preprocessing.image.random_zoom(\\\n",
        "\t\t\t\t    dataset[num], [-0.4, -0.4], row_axis=1, col_axis=2, channel_axis=0,\\\n",
        "\t\t\t\t\t\tfill_mode='nearest',cval=0.0, interpolation_order=1))\n",
        "\t\t\t\taugmented_image_labels.append(dataset_labels[num])\n",
        "\n",
        "\t\t\t\taugmented_image.append(tf.keras.preprocessing.image.random_zoom(\\\n",
        "\t\t\t\t    dataset[num], [-0.3, -0.3], row_axis=1, col_axis=2, channel_axis=0,\\\n",
        "\t\t\t\t\t\tfill_mode='nearest',cval=0.0, interpolation_order=1))\n",
        "\t\t\t\taugmented_image_labels.append(dataset_labels[num])\n",
        "\n",
        "\t\t\t\taugmented_image.append(tf.keras.preprocessing.image.random_zoom(\\\n",
        "\t\t\t\t     dataset[num], [-0.2, -0.2], row_axis=1,col_axis=2,channel_axis=0,\\\n",
        "\t\t\t\t\t\t fill_mode='nearest',cval=0.0, interpolation_order=1))\n",
        "\t\t\t\taugmented_image_labels.append(dataset_labels[num])\n",
        "\n",
        "\treturn np.array(augmented_image), np.array(augmented_image_labels)"
      ],
      "execution_count": 5,
      "outputs": []
    },
    {
      "cell_type": "code",
      "metadata": {
        "id": "5m71cePW6YOo",
        "colab_type": "code",
        "colab": {}
      },
      "source": [
        "import matplotlib.pyplot as plt\n",
        "\n",
        "\n",
        "\n",
        "plt.style.use('seaborn')\n",
        "def plt_dynamic(x, va, tra, ax):\n",
        "  '''\n",
        "  Used to plot the Validation and Training Accuracy.\n",
        "  \n",
        "  Arguments:\n",
        "    x(list):Number of Epochs.\n",
        "    va(list): Values of Validation Accuracy.\n",
        "    tra(list):Values of Training Accuracy.\n",
        "    ax(object)\n",
        "  \n",
        "  Returns:\n",
        "    plotting of the given Data. \n",
        "  '''\n",
        "  ax.plot(x, va, 'r--', label=\"Validation Accuracy\")\n",
        "  ax.plot(x, tra, 'b*-', label=\"Training Accuracy\")\n",
        "  plt.legend()\n",
        "  plt.show()\n"
      ],
      "execution_count": 6,
      "outputs": []
    },
    {
      "cell_type": "code",
      "metadata": {
        "id": "2Hc8thqT3oGL",
        "colab_type": "code",
        "colab": {
          "base_uri": "https://localhost:8080/",
          "height": 34
        },
        "outputId": "e2f2da4c-dfa3-4daf-880d-468590bc00e4"
      },
      "source": [
        "from keras.preprocessing import image\n",
        "from sklearn.model_selection import train_test_split\n",
        "import numpy as np\n",
        "\n",
        "# Assigning the values to the image width and height.\n",
        "w, h = 32, 32 \n",
        "\n",
        "#getting the location of list of images \n",
        "train_img_list = os.listdir('/content/Dataset/train')\n",
        "\n",
        "#conversion of all the images into numpy  arrays.\n",
        "# We have grayscale images, So we will keep color_mode = 'grayscale'.\n",
        "train_image = []\n",
        "for i in train_img_list:\n",
        "  img = image.load_img('/content/Dataset/train/'+i, target_size=(w,h,1), \n",
        "                       color_mode=\"grayscale\")\n",
        "  img = image.img_to_array(img)\n",
        "  train_image.append(img)\n",
        "X = np.array(train_image)\n",
        "\n",
        "X.shape"
      ],
      "execution_count": 7,
      "outputs": [
        {
          "output_type": "execute_result",
          "data": {
            "text/plain": [
              "(440, 32, 32, 1)"
            ]
          },
          "metadata": {
            "tags": []
          },
          "execution_count": 7
        }
      ]
    },
    {
      "cell_type": "code",
      "metadata": {
        "id": "1sqMSoX-YvfM",
        "colab_type": "code",
        "colab": {
          "base_uri": "https://localhost:8080/",
          "height": 34
        },
        "outputId": "bc85aa9d-1b83-459f-f858-ad6f6147eb99"
      },
      "source": [
        "#Data  augmentation.\n",
        "X, y = augment_data(X,y)\n",
        "print(X.shape)"
      ],
      "execution_count": 8,
      "outputs": [
        {
          "output_type": "stream",
          "text": [
            "(24640, 32, 32, 1)\n"
          ],
          "name": "stdout"
        }
      ]
    },
    {
      "cell_type": "code",
      "metadata": {
        "id": "HQPSJ_vMZHXf",
        "colab_type": "code",
        "colab": {
          "base_uri": "https://localhost:8080/",
          "height": 34
        },
        "outputId": "54fc814d-1a3d-46ea-fa41-477c4c4fd835"
      },
      "source": [
        "#normalizing the Data\n",
        "X /= 255\n",
        "print(X.shape)"
      ],
      "execution_count": 9,
      "outputs": [
        {
          "output_type": "stream",
          "text": [
            "(24640, 32, 32, 1)\n"
          ],
          "name": "stdout"
        }
      ]
    },
    {
      "cell_type": "code",
      "metadata": {
        "id": "IJiokJS_OOtF",
        "colab_type": "code",
        "colab": {
          "base_uri": "https://localhost:8080/",
          "height": 81
        },
        "outputId": "99f61915-8caf-428b-f1f4-c25da0cd4d24"
      },
      "source": [
        "from google.colab.patches import cv2_imshow\n",
        "cv2_imshow(X[100]*255)\n",
        "cv2_imshow(X[1000]*255)\n"
      ],
      "execution_count": 10,
      "outputs": [
        {
          "output_type": "display_data",
          "data": {
            "image/png": "[encoded data removed]",
            "text/plain": [
              "<PIL.Image.Image image mode=RGB size=32x32 at 0x7F20D20B7FD0>"
            ]
          },
          "metadata": {
            "tags": []
          }
        },
        {
          "output_type": "display_data",
          "data": {
            "image/png": "[encoded data removed]",
            "text/plain": [
              "<PIL.Image.Image image mode=RGB size=32x32 at 0x7F20D20B7DA0>"
            ]
          },
          "metadata": {
            "tags": []
          }
        }
      ]
    },
    {
      "cell_type": "code",
      "metadata": {
        "id": "NnJ8uAYBXVsQ",
        "colab_type": "code",
        "colab": {
          "base_uri": "https://localhost:8080/",
          "height": 34
        },
        "outputId": "2b63edca-e2c8-48d7-9680-1997c5ef8514"
      },
      "source": [
        "#splitting the dataset into training and testing Dataset.\n",
        "X_train, X_test, y_train, y_test = train_test_split(X, y, random_state=42, \n",
        "                                                    test_size=0.2)\n",
        "print(X_train.shape, X_test.shape, y_train.shape, y_test.shape, sep = '\\t')"
      ],
      "execution_count": 11,
      "outputs": [
        {
          "output_type": "stream",
          "text": [
            "(19712, 32, 32, 1)\t(4928, 32, 32, 1)\t(19712, 4)\t(4928, 4)\n"
          ],
          "name": "stdout"
        }
      ]
    },
    {
      "cell_type": "code",
      "metadata": {
        "id": "aPmQQeLu9M22",
        "colab_type": "code",
        "colab": {
          "base_uri": "https://localhost:8080/",
          "height": 34
        },
        "outputId": "b97a99ea-7ed4-4b25-f4b8-b0c1e3c1bf68"
      },
      "source": [
        "#getting the list of the test images\n",
        "test_img_list = os.listdir('/content/Dataset/test')\n",
        "len(test_img_list)"
      ],
      "execution_count": 12,
      "outputs": [
        {
          "output_type": "execute_result",
          "data": {
            "text/plain": [
              "30"
            ]
          },
          "metadata": {
            "tags": []
          },
          "execution_count": 12
        }
      ]
    },
    {
      "cell_type": "code",
      "metadata": {
        "id": "ggKaKyfU8_Im",
        "colab_type": "code",
        "colab": {}
      },
      "source": [
        "#conversion of test images into numpy arrays\n",
        "\n",
        "label = open('/content/Dataset/results.csv', 'w')\n",
        "\n",
        "label.write('image_id,predicted_labels\\n')\n",
        "\n",
        "test_image = []\n",
        "for i in test_img_list:\n",
        "  img_id = str(i)\n",
        "  img = image.load_img('/content/Dataset/test/'+img_id, target_size=(w,h,1),\n",
        "                       color_mode='grayscale')\n",
        "  label.write(img_id+'\\n') \n",
        "  img = image.img_to_array(img)\n",
        "  img = img/255\n",
        "  test_image.append(img)\n",
        "test = np.array(test_image)\n",
        "label.close()\n"
      ],
      "execution_count": 13,
      "outputs": []
    },
    {
      "cell_type": "code",
      "metadata": {
        "id": "Ak7Ps139N-b8",
        "colab_type": "code",
        "colab": {
          "base_uri": "https://localhost:8080/",
          "height": 1000
        },
        "outputId": "d2ffb5c4-836c-4dd0-95e6-ae8783ce74db"
      },
      "source": [
        "#Model building and training\n",
        "\n",
        "from keras.models import Sequential\n",
        "from keras.layers import Dense, Dropout, Flatten,BatchNormalization\n",
        "from keras.layers import Conv2D, MaxPooling2D\n",
        "import matplotlib.pyplot as plt\n",
        "import keras\n",
        "\n",
        "Epochs = 250\n",
        "model = Sequential()\n",
        "model.add(Conv2D(32, kernel_size=(3, 3), activation='relu', input_shape=(w,h,1), \n",
        "                 kernel_regularizer= tf.keras.regularizers.l2(0.9),\n",
        "                 kernel_initializer='he_uniform'))\n",
        "model.add(Dropout(0.4))\n",
        "\n",
        "\n",
        "model.add(Conv2D(32, kernel_size=(3, 3), activation='relu', \n",
        "                 kernel_regularizer= tf.keras.regularizers.l2(0.9), \n",
        "                 kernel_initializer='he_uniform'))\n",
        "model.add(BatchNormalization())\n",
        "model.add(Dropout(0.5))\n",
        "\n",
        "\n",
        "model.add(Flatten())\n",
        "\n",
        "\n",
        "model.add(Dense(32, activation='relu', kernel_initializer='he_uniform'))\n",
        "model.add(BatchNormalization())\n",
        "model.add(Dropout(0.4))\n",
        "model.add(Dense(32, activation='relu', kernel_initializer='he_uniform'))\n",
        "\n",
        "model.add(BatchNormalization())\n",
        "model.add(Dropout(0.5))\n",
        "\n",
        "model.add(Dense(4, activation='softmax'))\n",
        "\n",
        "model.compile(loss=keras.losses.categorical_crossentropy, \n",
        "              optimizer=keras.optimizers.Adam(), metrics=['accuracy'])\n",
        "\n",
        "history = model.fit(X_train, y_train, batch_size =200, epochs=Epochs, \n",
        "                    validation_data=(X_test, y_test), verbose = True)\n",
        "\n",
        "score = model.evaluate(X_test, y_test)\n",
        "\n",
        "#prining the Validation loss and Validation accuracy.\n",
        "print(\"Test loss: \", score[0])\n",
        "print(\"Test Accuracy: \", score[1])\n",
        "\n",
        "#plotting the results. \n",
        "fig, ax = plt.subplots(figsize = (10,5))\n",
        "x = list(range(1, Epochs+1))\n",
        "\n",
        "va = history.history['val_accuracy'] \n",
        "tra = history.history['accuracy']\n",
        "plt_dynamic(x, va, tra, ax)\n",
        "plt.show()\n"
      ],
      "execution_count": 14,
      "outputs": [
        {
          "output_type": "stream",
          "text": [
            "Train on 19712 samples, validate on 4928 samples\n",
            "Epoch 1/250\n",
            "19712/19712 [==============================] - 7s 377us/step - loss: 76.6109 - accuracy: 0.2931 - val_loss: 49.0554 - val_accuracy: 0.2833\n",
            "Epoch 2/250\n",
            "19712/19712 [==============================] - 7s 345us/step - loss: 38.8529 - accuracy: 0.3355 - val_loss: 30.9550 - val_accuracy: 0.2620\n",
            "Epoch 3/250\n",
            "19712/19712 [==============================] - 7s 345us/step - loss: 25.7736 - accuracy: 0.3884 - val_loss: 21.2242 - val_accuracy: 0.2380\n",
            "Epoch 4/250\n",
            "19712/19712 [==============================] - 7s 341us/step - loss: 17.5672 - accuracy: 0.4406 - val_loss: 14.5495 - val_accuracy: 0.2474\n",
            "Epoch 5/250\n",
            "19712/19712 [==============================] - 7s 337us/step - loss: 11.9027 - accuracy: 0.4829 - val_loss: 9.9517 - val_accuracy: 0.2490\n",
            "Epoch 6/250\n",
            "19712/19712 [==============================] - 7s 339us/step - loss: 8.0151 - accuracy: 0.5251 - val_loss: 6.6808 - val_accuracy: 0.4450\n",
            "Epoch 7/250\n",
            "19712/19712 [==============================] - 7s 352us/step - loss: 5.4015 - accuracy: 0.5649 - val_loss: 4.4655 - val_accuracy: 0.5820\n",
            "Epoch 8/250\n",
            "19712/19712 [==============================] - 7s 342us/step - loss: 3.6689 - accuracy: 0.5971 - val_loss: 3.1183 - val_accuracy: 0.6031\n",
            "Epoch 9/250\n",
            "19712/19712 [==============================] - 7s 344us/step - loss: 2.5617 - accuracy: 0.6181 - val_loss: 2.2532 - val_accuracy: 0.6136\n",
            "Epoch 10/250\n",
            "19712/19712 [==============================] - 7s 345us/step - loss: 1.8678 - accuracy: 0.6373 - val_loss: 1.5558 - val_accuracy: 0.7084\n",
            "Epoch 11/250\n",
            "19712/19712 [==============================] - 6s 326us/step - loss: 1.4431 - accuracy: 0.6490 - val_loss: 1.3315 - val_accuracy: 0.6790\n",
            "Epoch 12/250\n",
            "19712/19712 [==============================] - 7s 334us/step - loss: 1.1775 - accuracy: 0.6675 - val_loss: 0.9105 - val_accuracy: 0.7727\n",
            "Epoch 13/250\n",
            "19712/19712 [==============================] - 6s 327us/step - loss: 1.0400 - accuracy: 0.6757 - val_loss: 0.8321 - val_accuracy: 0.7707\n",
            "Epoch 14/250\n",
            "19712/19712 [==============================] - 6s 322us/step - loss: 0.9440 - accuracy: 0.6865 - val_loss: 0.8323 - val_accuracy: 0.7453\n",
            "Epoch 15/250\n",
            "19712/19712 [==============================] - 6s 328us/step - loss: 0.9060 - accuracy: 0.6878 - val_loss: 0.6817 - val_accuracy: 0.7993\n",
            "Epoch 16/250\n",
            "19712/19712 [==============================] - 7s 344us/step - loss: 0.8856 - accuracy: 0.6912 - val_loss: 0.6724 - val_accuracy: 0.7936\n",
            "Epoch 17/250\n",
            "19712/19712 [==============================] - 6s 327us/step - loss: 0.8400 - accuracy: 0.7065 - val_loss: 0.6477 - val_accuracy: 0.8072\n",
            "Epoch 18/250\n",
            "19712/19712 [==============================] - 6s 323us/step - loss: 0.8129 - accuracy: 0.7154 - val_loss: 0.6211 - val_accuracy: 0.8019\n",
            "Epoch 19/250\n",
            "19712/19712 [==============================] - 7s 331us/step - loss: 0.8120 - accuracy: 0.7180 - val_loss: 0.5838 - val_accuracy: 0.8220\n",
            "Epoch 20/250\n",
            "19712/19712 [==============================] - 6s 324us/step - loss: 0.7827 - accuracy: 0.7288 - val_loss: 0.6197 - val_accuracy: 0.8056\n",
            "Epoch 21/250\n",
            "19712/19712 [==============================] - 6s 323us/step - loss: 0.7644 - accuracy: 0.7327 - val_loss: 0.6027 - val_accuracy: 0.7983\n",
            "Epoch 22/250\n",
            "19712/19712 [==============================] - 6s 319us/step - loss: 0.7688 - accuracy: 0.7342 - val_loss: 0.5912 - val_accuracy: 0.8113\n",
            "Epoch 23/250\n",
            "19712/19712 [==============================] - 6s 326us/step - loss: 0.7575 - accuracy: 0.7344 - val_loss: 0.5958 - val_accuracy: 0.8180\n",
            "Epoch 24/250\n",
            "19712/19712 [==============================] - 7s 345us/step - loss: 0.7519 - accuracy: 0.7374 - val_loss: 0.5521 - val_accuracy: 0.8190\n",
            "Epoch 25/250\n",
            "19712/19712 [==============================] - 7s 332us/step - loss: 0.7365 - accuracy: 0.7426 - val_loss: 0.5481 - val_accuracy: 0.8182\n",
            "Epoch 26/250\n",
            "19712/19712 [==============================] - 6s 327us/step - loss: 0.7158 - accuracy: 0.7521 - val_loss: 0.5299 - val_accuracy: 0.8247\n",
            "Epoch 27/250\n",
            "19712/19712 [==============================] - 6s 321us/step - loss: 0.7370 - accuracy: 0.7464 - val_loss: 0.5526 - val_accuracy: 0.8281\n",
            "Epoch 28/250\n",
            "19712/19712 [==============================] - 6s 325us/step - loss: 0.7159 - accuracy: 0.7559 - val_loss: 0.5385 - val_accuracy: 0.8346\n",
            "Epoch 29/250\n",
            "19712/19712 [==============================] - 6s 323us/step - loss: 0.7020 - accuracy: 0.7589 - val_loss: 0.5316 - val_accuracy: 0.8320\n",
            "Epoch 30/250\n",
            "19712/19712 [==============================] - 6s 328us/step - loss: 0.6903 - accuracy: 0.7629 - val_loss: 0.5264 - val_accuracy: 0.8295\n",
            "Epoch 31/250\n",
            "19712/19712 [==============================] - 6s 325us/step - loss: 0.7003 - accuracy: 0.7617 - val_loss: 0.5375 - val_accuracy: 0.8283\n",
            "Epoch 32/250\n",
            "19712/19712 [==============================] - 6s 324us/step - loss: 0.6823 - accuracy: 0.7667 - val_loss: 0.5445 - val_accuracy: 0.8283\n",
            "Epoch 33/250\n",
            "19712/19712 [==============================] - 6s 327us/step - loss: 0.6780 - accuracy: 0.7691 - val_loss: 0.5209 - val_accuracy: 0.8356\n",
            "Epoch 34/250\n",
            "19712/19712 [==============================] - 6s 328us/step - loss: 0.6691 - accuracy: 0.7705 - val_loss: 0.4993 - val_accuracy: 0.8401\n",
            "Epoch 35/250\n",
            "19712/19712 [==============================] - 6s 325us/step - loss: 0.6737 - accuracy: 0.7664 - val_loss: 0.4898 - val_accuracy: 0.8417\n",
            "Epoch 36/250\n",
            "19712/19712 [==============================] - 6s 325us/step - loss: 0.6582 - accuracy: 0.7745 - val_loss: 0.5177 - val_accuracy: 0.8375\n",
            "Epoch 37/250\n",
            "19712/19712 [==============================] - 6s 326us/step - loss: 0.6616 - accuracy: 0.7747 - val_loss: 0.5216 - val_accuracy: 0.8269\n",
            "Epoch 38/250\n",
            "19712/19712 [==============================] - 6s 326us/step - loss: 0.6552 - accuracy: 0.7765 - val_loss: 0.4974 - val_accuracy: 0.8369\n",
            "Epoch 39/250\n",
            "19712/19712 [==============================] - 6s 328us/step - loss: 0.6618 - accuracy: 0.7726 - val_loss: 0.5041 - val_accuracy: 0.8336\n",
            "Epoch 40/250\n",
            "19712/19712 [==============================] - 6s 322us/step - loss: 0.6541 - accuracy: 0.7805 - val_loss: 0.4970 - val_accuracy: 0.8431\n",
            "Epoch 41/250\n",
            "19712/19712 [==============================] - 6s 329us/step - loss: 0.6447 - accuracy: 0.7771 - val_loss: 0.5137 - val_accuracy: 0.8356\n",
            "Epoch 42/250\n",
            "19712/19712 [==============================] - 6s 325us/step - loss: 0.6518 - accuracy: 0.7789 - val_loss: 0.4955 - val_accuracy: 0.8362\n",
            "Epoch 43/250\n",
            "19712/19712 [==============================] - 7s 331us/step - loss: 0.6280 - accuracy: 0.7872 - val_loss: 0.4913 - val_accuracy: 0.8425\n",
            "Epoch 44/250\n",
            "19712/19712 [==============================] - 6s 322us/step - loss: 0.6441 - accuracy: 0.7852 - val_loss: 0.4890 - val_accuracy: 0.8429\n",
            "Epoch 45/250\n",
            "19712/19712 [==============================] - 6s 328us/step - loss: 0.6339 - accuracy: 0.7846 - val_loss: 0.4719 - val_accuracy: 0.8468\n",
            "Epoch 46/250\n",
            "19712/19712 [==============================] - 6s 325us/step - loss: 0.6350 - accuracy: 0.7833 - val_loss: 0.4957 - val_accuracy: 0.8397\n",
            "Epoch 47/250\n",
            "19712/19712 [==============================] - 6s 328us/step - loss: 0.6326 - accuracy: 0.7893 - val_loss: 0.4855 - val_accuracy: 0.8413\n",
            "Epoch 48/250\n",
            "19712/19712 [==============================] - 6s 325us/step - loss: 0.6285 - accuracy: 0.7890 - val_loss: 0.4683 - val_accuracy: 0.8569\n",
            "Epoch 49/250\n",
            "19712/19712 [==============================] - 6s 325us/step - loss: 0.6098 - accuracy: 0.7900 - val_loss: 0.4828 - val_accuracy: 0.8472\n",
            "Epoch 50/250\n",
            "19712/19712 [==============================] - 7s 335us/step - loss: 0.6257 - accuracy: 0.7917 - val_loss: 0.4807 - val_accuracy: 0.8509\n",
            "Epoch 51/250\n",
            "19712/19712 [==============================] - 6s 326us/step - loss: 0.6223 - accuracy: 0.7935 - val_loss: 0.4706 - val_accuracy: 0.8421\n",
            "Epoch 52/250\n",
            "19712/19712 [==============================] - 6s 322us/step - loss: 0.6192 - accuracy: 0.7891 - val_loss: 0.4693 - val_accuracy: 0.8456\n",
            "Epoch 53/250\n",
            "19712/19712 [==============================] - 6s 326us/step - loss: 0.6190 - accuracy: 0.7944 - val_loss: 0.4671 - val_accuracy: 0.8492\n",
            "Epoch 54/250\n",
            "19712/19712 [==============================] - 6s 324us/step - loss: 0.6085 - accuracy: 0.7952 - val_loss: 0.4678 - val_accuracy: 0.8488\n",
            "Epoch 55/250\n",
            "19712/19712 [==============================] - 6s 328us/step - loss: 0.6088 - accuracy: 0.7952 - val_loss: 0.4688 - val_accuracy: 0.8433\n",
            "Epoch 56/250\n",
            "19712/19712 [==============================] - 6s 326us/step - loss: 0.6138 - accuracy: 0.7895 - val_loss: 0.4709 - val_accuracy: 0.8529\n",
            "Epoch 57/250\n",
            "19712/19712 [==============================] - 6s 322us/step - loss: 0.5958 - accuracy: 0.7964 - val_loss: 0.4956 - val_accuracy: 0.8425\n",
            "Epoch 58/250\n",
            "19712/19712 [==============================] - 6s 324us/step - loss: 0.6223 - accuracy: 0.7904 - val_loss: 0.5107 - val_accuracy: 0.8393\n",
            "Epoch 59/250\n",
            "19712/19712 [==============================] - 7s 334us/step - loss: 0.5872 - accuracy: 0.8032 - val_loss: 0.4853 - val_accuracy: 0.8407\n",
            "Epoch 60/250\n",
            "19712/19712 [==============================] - 7s 335us/step - loss: 0.5968 - accuracy: 0.8011 - val_loss: 0.5288 - val_accuracy: 0.8231\n",
            "Epoch 61/250\n",
            "19712/19712 [==============================] - 6s 324us/step - loss: 0.6047 - accuracy: 0.7997 - val_loss: 0.4547 - val_accuracy: 0.8527\n",
            "Epoch 62/250\n",
            "19712/19712 [==============================] - 6s 321us/step - loss: 0.5864 - accuracy: 0.8025 - val_loss: 0.4464 - val_accuracy: 0.8557\n",
            "Epoch 63/250\n",
            "19712/19712 [==============================] - 7s 331us/step - loss: 0.5914 - accuracy: 0.8004 - val_loss: 0.4481 - val_accuracy: 0.8573\n",
            "Epoch 64/250\n",
            "19712/19712 [==============================] - 6s 325us/step - loss: 0.5916 - accuracy: 0.7989 - val_loss: 0.4529 - val_accuracy: 0.8565\n",
            "Epoch 65/250\n",
            "19712/19712 [==============================] - 6s 325us/step - loss: 0.6030 - accuracy: 0.8029 - val_loss: 0.4577 - val_accuracy: 0.8502\n",
            "Epoch 66/250\n",
            "19712/19712 [==============================] - 6s 326us/step - loss: 0.5788 - accuracy: 0.8057 - val_loss: 0.4666 - val_accuracy: 0.8486\n",
            "Epoch 67/250\n",
            "19712/19712 [==============================] - 6s 320us/step - loss: 0.5915 - accuracy: 0.8013 - val_loss: 0.4718 - val_accuracy: 0.8458\n",
            "Epoch 68/250\n",
            "19712/19712 [==============================] - 6s 323us/step - loss: 0.5891 - accuracy: 0.8060 - val_loss: 0.4561 - val_accuracy: 0.8498\n",
            "Epoch 69/250\n",
            "19712/19712 [==============================] - 6s 326us/step - loss: 0.5844 - accuracy: 0.8036 - val_loss: 0.4490 - val_accuracy: 0.8575\n",
            "Epoch 70/250\n",
            "19712/19712 [==============================] - 6s 329us/step - loss: 0.5937 - accuracy: 0.8053 - val_loss: 0.4511 - val_accuracy: 0.8612\n",
            "Epoch 71/250\n",
            "19712/19712 [==============================] - 6s 328us/step - loss: 0.5758 - accuracy: 0.8030 - val_loss: 0.4725 - val_accuracy: 0.8533\n",
            "Epoch 72/250\n",
            "19712/19712 [==============================] - 7s 330us/step - loss: 0.5757 - accuracy: 0.8052 - val_loss: 0.4617 - val_accuracy: 0.8531\n",
            "Epoch 73/250\n",
            "19712/19712 [==============================] - 7s 341us/step - loss: 0.5721 - accuracy: 0.8105 - val_loss: 0.4475 - val_accuracy: 0.8569\n",
            "Epoch 74/250\n",
            "19712/19712 [==============================] - 6s 322us/step - loss: 0.5826 - accuracy: 0.8075 - val_loss: 0.4503 - val_accuracy: 0.8616\n",
            "Epoch 75/250\n",
            "19712/19712 [==============================] - 6s 322us/step - loss: 0.5644 - accuracy: 0.8096 - val_loss: 0.4538 - val_accuracy: 0.8561\n",
            "Epoch 76/250\n",
            "19712/19712 [==============================] - 6s 326us/step - loss: 0.5735 - accuracy: 0.8096 - val_loss: 0.4390 - val_accuracy: 0.8634\n",
            "Epoch 77/250\n",
            "19712/19712 [==============================] - 6s 325us/step - loss: 0.5902 - accuracy: 0.8079 - val_loss: 0.4814 - val_accuracy: 0.8468\n",
            "Epoch 78/250\n",
            "19712/19712 [==============================] - 7s 335us/step - loss: 0.5743 - accuracy: 0.8083 - val_loss: 0.4608 - val_accuracy: 0.8517\n",
            "Epoch 79/250\n",
            "19712/19712 [==============================] - 7s 332us/step - loss: 0.5687 - accuracy: 0.8115 - val_loss: 0.4581 - val_accuracy: 0.8604\n",
            "Epoch 80/250\n",
            "19712/19712 [==============================] - 6s 322us/step - loss: 0.5703 - accuracy: 0.8100 - val_loss: 0.4415 - val_accuracy: 0.8628\n",
            "Epoch 81/250\n",
            "19712/19712 [==============================] - 6s 319us/step - loss: 0.5745 - accuracy: 0.8085 - val_loss: 0.4526 - val_accuracy: 0.8502\n",
            "Epoch 82/250\n",
            "19712/19712 [==============================] - 6s 321us/step - loss: 0.5652 - accuracy: 0.8139 - val_loss: 0.4423 - val_accuracy: 0.8600\n",
            "Epoch 83/250\n",
            "19712/19712 [==============================] - 6s 320us/step - loss: 0.5711 - accuracy: 0.8101 - val_loss: 0.4610 - val_accuracy: 0.8586\n",
            "Epoch 84/250\n",
            "19712/19712 [==============================] - 6s 320us/step - loss: 0.5626 - accuracy: 0.8134 - val_loss: 0.4547 - val_accuracy: 0.8537\n",
            "Epoch 85/250\n",
            "19712/19712 [==============================] - 6s 323us/step - loss: 0.5667 - accuracy: 0.8143 - val_loss: 0.4640 - val_accuracy: 0.8523\n",
            "Epoch 86/250\n",
            "19712/19712 [==============================] - 6s 326us/step - loss: 0.5781 - accuracy: 0.8083 - val_loss: 0.4633 - val_accuracy: 0.8573\n",
            "Epoch 87/250\n",
            "19712/19712 [==============================] - 6s 326us/step - loss: 0.5609 - accuracy: 0.8146 - val_loss: 0.4593 - val_accuracy: 0.8553\n",
            "Epoch 88/250\n",
            "19712/19712 [==============================] - 6s 324us/step - loss: 0.5646 - accuracy: 0.8106 - val_loss: 0.4457 - val_accuracy: 0.8598\n",
            "Epoch 89/250\n",
            "19712/19712 [==============================] - 6s 324us/step - loss: 0.5440 - accuracy: 0.8185 - val_loss: 0.4465 - val_accuracy: 0.8606\n",
            "Epoch 90/250\n",
            "19712/19712 [==============================] - 6s 321us/step - loss: 0.5764 - accuracy: 0.8081 - val_loss: 0.4615 - val_accuracy: 0.8553\n",
            "Epoch 91/250\n",
            "19712/19712 [==============================] - 6s 327us/step - loss: 0.5571 - accuracy: 0.8171 - val_loss: 0.4397 - val_accuracy: 0.8584\n",
            "Epoch 92/250\n",
            "19712/19712 [==============================] - 6s 328us/step - loss: 0.5500 - accuracy: 0.8182 - val_loss: 0.4378 - val_accuracy: 0.8602\n",
            "Epoch 93/250\n",
            "19712/19712 [==============================] - 7s 340us/step - loss: 0.5601 - accuracy: 0.8134 - val_loss: 0.4698 - val_accuracy: 0.8509\n",
            "Epoch 94/250\n",
            "19712/19712 [==============================] - 6s 327us/step - loss: 0.5559 - accuracy: 0.8202 - val_loss: 0.4305 - val_accuracy: 0.8588\n",
            "Epoch 95/250\n",
            "19712/19712 [==============================] - 7s 330us/step - loss: 0.5526 - accuracy: 0.8169 - val_loss: 0.4767 - val_accuracy: 0.8478\n",
            "Epoch 96/250\n",
            "19712/19712 [==============================] - 6s 321us/step - loss: 0.5600 - accuracy: 0.8166 - val_loss: 0.4332 - val_accuracy: 0.8640\n",
            "Epoch 97/250\n",
            "19712/19712 [==============================] - 6s 326us/step - loss: 0.5471 - accuracy: 0.8192 - val_loss: 0.4398 - val_accuracy: 0.8578\n",
            "Epoch 98/250\n",
            "19712/19712 [==============================] - 6s 328us/step - loss: 0.5390 - accuracy: 0.8203 - val_loss: 0.4690 - val_accuracy: 0.8531\n",
            "Epoch 99/250\n",
            "19712/19712 [==============================] - 7s 339us/step - loss: 0.5557 - accuracy: 0.8176 - val_loss: 0.4330 - val_accuracy: 0.8667\n",
            "Epoch 100/250\n",
            "19712/19712 [==============================] - 6s 327us/step - loss: 0.5659 - accuracy: 0.8131 - val_loss: 0.4524 - val_accuracy: 0.8575\n",
            "Epoch 101/250\n",
            "19712/19712 [==============================] - 6s 325us/step - loss: 0.5461 - accuracy: 0.8167 - val_loss: 0.4618 - val_accuracy: 0.8531\n",
            "Epoch 102/250\n",
            "19712/19712 [==============================] - 7s 332us/step - loss: 0.5480 - accuracy: 0.8179 - val_loss: 0.4541 - val_accuracy: 0.8567\n",
            "Epoch 103/250\n",
            "19712/19712 [==============================] - 7s 330us/step - loss: 0.5366 - accuracy: 0.8218 - val_loss: 0.4419 - val_accuracy: 0.8588\n",
            "Epoch 104/250\n",
            "19712/19712 [==============================] - 6s 325us/step - loss: 0.5531 - accuracy: 0.8197 - val_loss: 0.6223 - val_accuracy: 0.8139\n",
            "Epoch 105/250\n",
            "19712/19712 [==============================] - 6s 321us/step - loss: 0.5399 - accuracy: 0.8231 - val_loss: 0.4625 - val_accuracy: 0.8563\n",
            "Epoch 106/250\n",
            "19712/19712 [==============================] - 6s 328us/step - loss: 0.5406 - accuracy: 0.8253 - val_loss: 0.4450 - val_accuracy: 0.8612\n",
            "Epoch 107/250\n",
            "19712/19712 [==============================] - 6s 328us/step - loss: 0.5494 - accuracy: 0.8223 - val_loss: 0.4829 - val_accuracy: 0.8456\n",
            "Epoch 108/250\n",
            "19712/19712 [==============================] - 6s 327us/step - loss: 0.5540 - accuracy: 0.8147 - val_loss: 0.4939 - val_accuracy: 0.8513\n",
            "Epoch 109/250\n",
            "19712/19712 [==============================] - 6s 328us/step - loss: 0.5463 - accuracy: 0.8211 - val_loss: 0.4926 - val_accuracy: 0.8504\n",
            "Epoch 110/250\n",
            "19712/19712 [==============================] - 6s 327us/step - loss: 0.5391 - accuracy: 0.8210 - val_loss: 0.4735 - val_accuracy: 0.8452\n",
            "Epoch 111/250\n",
            "19712/19712 [==============================] - 6s 327us/step - loss: 0.5667 - accuracy: 0.8166 - val_loss: 0.4414 - val_accuracy: 0.8622\n",
            "Epoch 112/250\n",
            "19712/19712 [==============================] - 6s 324us/step - loss: 0.5367 - accuracy: 0.8234 - val_loss: 0.4437 - val_accuracy: 0.8632\n",
            "Epoch 113/250\n",
            "19712/19712 [==============================] - 6s 326us/step - loss: 0.5422 - accuracy: 0.8232 - val_loss: 0.4441 - val_accuracy: 0.8600\n",
            "Epoch 114/250\n",
            "19712/19712 [==============================] - 6s 324us/step - loss: 0.5443 - accuracy: 0.8214 - val_loss: 0.5427 - val_accuracy: 0.8291\n",
            "Epoch 115/250\n",
            "19712/19712 [==============================] - 6s 325us/step - loss: 0.5361 - accuracy: 0.8236 - val_loss: 0.5611 - val_accuracy: 0.8214\n",
            "Epoch 116/250\n",
            "19712/19712 [==============================] - 6s 324us/step - loss: 0.5373 - accuracy: 0.8235 - val_loss: 0.4230 - val_accuracy: 0.8671\n",
            "Epoch 117/250\n",
            "19712/19712 [==============================] - 6s 322us/step - loss: 0.5403 - accuracy: 0.8222 - val_loss: 0.4727 - val_accuracy: 0.8496\n",
            "Epoch 118/250\n",
            "19712/19712 [==============================] - 7s 331us/step - loss: 0.5237 - accuracy: 0.8257 - val_loss: 0.5520 - val_accuracy: 0.8373\n",
            "Epoch 119/250\n",
            "19712/19712 [==============================] - 6s 325us/step - loss: 0.5459 - accuracy: 0.8205 - val_loss: 0.4879 - val_accuracy: 0.8458\n",
            "Epoch 120/250\n",
            "19712/19712 [==============================] - 7s 334us/step - loss: 0.5363 - accuracy: 0.8219 - val_loss: 0.4327 - val_accuracy: 0.8640\n",
            "Epoch 121/250\n",
            "19712/19712 [==============================] - 7s 340us/step - loss: 0.5321 - accuracy: 0.8277 - val_loss: 0.5087 - val_accuracy: 0.8364\n",
            "Epoch 122/250\n",
            "19712/19712 [==============================] - 6s 327us/step - loss: 0.5338 - accuracy: 0.8247 - val_loss: 0.4502 - val_accuracy: 0.8594\n",
            "Epoch 123/250\n",
            "19712/19712 [==============================] - 6s 328us/step - loss: 0.5427 - accuracy: 0.8222 - val_loss: 0.4341 - val_accuracy: 0.8606\n",
            "Epoch 124/250\n",
            "19712/19712 [==============================] - 6s 321us/step - loss: 0.5345 - accuracy: 0.8263 - val_loss: 0.4865 - val_accuracy: 0.8486\n",
            "Epoch 125/250\n",
            "19712/19712 [==============================] - 6s 315us/step - loss: 0.5381 - accuracy: 0.8245 - val_loss: 0.4462 - val_accuracy: 0.8561\n",
            "Epoch 126/250\n",
            "19712/19712 [==============================] - 6s 323us/step - loss: 0.5289 - accuracy: 0.8244 - val_loss: 0.7304 - val_accuracy: 0.7750\n",
            "Epoch 127/250\n",
            "19712/19712 [==============================] - 6s 325us/step - loss: 0.5317 - accuracy: 0.8201 - val_loss: 0.5547 - val_accuracy: 0.8348\n",
            "Epoch 128/250\n",
            "19712/19712 [==============================] - 6s 325us/step - loss: 0.5339 - accuracy: 0.8240 - val_loss: 0.6242 - val_accuracy: 0.8093\n",
            "Epoch 129/250\n",
            "19712/19712 [==============================] - 7s 331us/step - loss: 0.5349 - accuracy: 0.8232 - val_loss: 0.4324 - val_accuracy: 0.8642\n",
            "Epoch 130/250\n",
            "19712/19712 [==============================] - 6s 322us/step - loss: 0.5354 - accuracy: 0.8256 - val_loss: 0.4353 - val_accuracy: 0.8616\n",
            "Epoch 131/250\n",
            "19712/19712 [==============================] - 6s 320us/step - loss: 0.5207 - accuracy: 0.8284 - val_loss: 0.4456 - val_accuracy: 0.8598\n",
            "Epoch 132/250\n",
            "19712/19712 [==============================] - 6s 323us/step - loss: 0.5362 - accuracy: 0.8230 - val_loss: 0.6380 - val_accuracy: 0.7928\n",
            "Epoch 133/250\n",
            "19712/19712 [==============================] - 6s 324us/step - loss: 0.5392 - accuracy: 0.8266 - val_loss: 0.4442 - val_accuracy: 0.8657\n",
            "Epoch 134/250\n",
            "19712/19712 [==============================] - 6s 324us/step - loss: 0.5247 - accuracy: 0.8321 - val_loss: 0.5135 - val_accuracy: 0.8389\n",
            "Epoch 135/250\n",
            "19712/19712 [==============================] - 6s 324us/step - loss: 0.5325 - accuracy: 0.8253 - val_loss: 0.5737 - val_accuracy: 0.8119\n",
            "Epoch 136/250\n",
            "19712/19712 [==============================] - 6s 324us/step - loss: 0.5328 - accuracy: 0.8274 - val_loss: 0.4971 - val_accuracy: 0.8448\n",
            "Epoch 137/250\n",
            "19712/19712 [==============================] - 6s 326us/step - loss: 0.5271 - accuracy: 0.8281 - val_loss: 0.4774 - val_accuracy: 0.8438\n",
            "Epoch 138/250\n",
            "19712/19712 [==============================] - 6s 327us/step - loss: 0.5332 - accuracy: 0.8277 - val_loss: 0.4384 - val_accuracy: 0.8716\n",
            "Epoch 139/250\n",
            "19712/19712 [==============================] - 6s 320us/step - loss: 0.5341 - accuracy: 0.8242 - val_loss: 0.4363 - val_accuracy: 0.8624\n",
            "Epoch 140/250\n",
            "19712/19712 [==============================] - 6s 329us/step - loss: 0.5255 - accuracy: 0.8271 - val_loss: 0.4184 - val_accuracy: 0.8703\n",
            "Epoch 141/250\n",
            "19712/19712 [==============================] - 6s 327us/step - loss: 0.5172 - accuracy: 0.8305 - val_loss: 0.5478 - val_accuracy: 0.8369\n",
            "Epoch 142/250\n",
            "19712/19712 [==============================] - 6s 324us/step - loss: 0.5236 - accuracy: 0.8302 - val_loss: 0.4221 - val_accuracy: 0.8726\n",
            "Epoch 143/250\n",
            "19712/19712 [==============================] - 6s 326us/step - loss: 0.5274 - accuracy: 0.8251 - val_loss: 0.4250 - val_accuracy: 0.8653\n",
            "Epoch 144/250\n",
            "19712/19712 [==============================] - 6s 325us/step - loss: 0.5275 - accuracy: 0.8293 - val_loss: 0.5522 - val_accuracy: 0.8302\n",
            "Epoch 145/250\n",
            "19712/19712 [==============================] - 6s 327us/step - loss: 0.5303 - accuracy: 0.8255 - val_loss: 1.8466 - val_accuracy: 0.6169\n",
            "Epoch 146/250\n",
            "19712/19712 [==============================] - 6s 323us/step - loss: 0.5288 - accuracy: 0.8280 - val_loss: 1.1755 - val_accuracy: 0.6694\n",
            "Epoch 147/250\n",
            "19712/19712 [==============================] - 6s 322us/step - loss: 0.5285 - accuracy: 0.8289 - val_loss: 0.5477 - val_accuracy: 0.8326\n",
            "Epoch 148/250\n",
            "19712/19712 [==============================] - 6s 318us/step - loss: 0.5204 - accuracy: 0.8331 - val_loss: 0.4490 - val_accuracy: 0.8563\n",
            "Epoch 149/250\n",
            "19712/19712 [==============================] - 6s 322us/step - loss: 0.5192 - accuracy: 0.8306 - val_loss: 0.4778 - val_accuracy: 0.8452\n",
            "Epoch 150/250\n",
            "19712/19712 [==============================] - 6s 320us/step - loss: 0.5183 - accuracy: 0.8290 - val_loss: 0.5580 - val_accuracy: 0.8190\n",
            "Epoch 151/250\n",
            "19712/19712 [==============================] - 7s 330us/step - loss: 0.5318 - accuracy: 0.8279 - val_loss: 0.4606 - val_accuracy: 0.8632\n",
            "Epoch 152/250\n",
            "19712/19712 [==============================] - 6s 327us/step - loss: 0.5206 - accuracy: 0.8291 - val_loss: 0.6393 - val_accuracy: 0.8131\n",
            "Epoch 153/250\n",
            "19712/19712 [==============================] - 6s 326us/step - loss: 0.5235 - accuracy: 0.8314 - val_loss: 0.4265 - val_accuracy: 0.8644\n",
            "Epoch 154/250\n",
            "19712/19712 [==============================] - 6s 325us/step - loss: 0.5152 - accuracy: 0.8326 - val_loss: 0.4365 - val_accuracy: 0.8614\n",
            "Epoch 155/250\n",
            "19712/19712 [==============================] - 6s 321us/step - loss: 0.5222 - accuracy: 0.8268 - val_loss: 0.4337 - val_accuracy: 0.8580\n",
            "Epoch 156/250\n",
            "19712/19712 [==============================] - 6s 319us/step - loss: 0.5372 - accuracy: 0.8272 - val_loss: 0.5401 - val_accuracy: 0.8279\n",
            "Epoch 157/250\n",
            "19712/19712 [==============================] - 6s 321us/step - loss: 0.5216 - accuracy: 0.8327 - val_loss: 0.4925 - val_accuracy: 0.8523\n",
            "Epoch 158/250\n",
            "19712/19712 [==============================] - 6s 321us/step - loss: 0.5147 - accuracy: 0.8342 - val_loss: 0.6523 - val_accuracy: 0.8084\n",
            "Epoch 159/250\n",
            "19712/19712 [==============================] - 6s 317us/step - loss: 0.5272 - accuracy: 0.8318 - val_loss: 0.4461 - val_accuracy: 0.8673\n",
            "Epoch 160/250\n",
            "19712/19712 [==============================] - 6s 321us/step - loss: 0.5224 - accuracy: 0.8281 - val_loss: 0.4398 - val_accuracy: 0.8711\n",
            "Epoch 161/250\n",
            "19712/19712 [==============================] - 6s 327us/step - loss: 0.5305 - accuracy: 0.8280 - val_loss: 0.4223 - val_accuracy: 0.8673\n",
            "Epoch 162/250\n",
            "19712/19712 [==============================] - 7s 330us/step - loss: 0.5165 - accuracy: 0.8304 - val_loss: 0.6259 - val_accuracy: 0.8001\n",
            "Epoch 163/250\n",
            "19712/19712 [==============================] - 6s 329us/step - loss: 0.5165 - accuracy: 0.8357 - val_loss: 0.4449 - val_accuracy: 0.8598\n",
            "Epoch 164/250\n",
            "19712/19712 [==============================] - 6s 324us/step - loss: 0.5173 - accuracy: 0.8301 - val_loss: 0.4335 - val_accuracy: 0.8647\n",
            "Epoch 165/250\n",
            "19712/19712 [==============================] - 6s 322us/step - loss: 0.5165 - accuracy: 0.8335 - val_loss: 0.4149 - val_accuracy: 0.8647\n",
            "Epoch 166/250\n",
            "19712/19712 [==============================] - 6s 325us/step - loss: 0.5116 - accuracy: 0.8330 - val_loss: 0.5224 - val_accuracy: 0.8484\n",
            "Epoch 167/250\n",
            "19712/19712 [==============================] - 6s 325us/step - loss: 0.5251 - accuracy: 0.8301 - val_loss: 0.7869 - val_accuracy: 0.7587\n",
            "Epoch 168/250\n",
            "19712/19712 [==============================] - 6s 323us/step - loss: 0.5042 - accuracy: 0.8363 - val_loss: 0.6680 - val_accuracy: 0.8074\n",
            "Epoch 169/250\n",
            "19712/19712 [==============================] - 7s 341us/step - loss: 0.5110 - accuracy: 0.8309 - val_loss: 0.4265 - val_accuracy: 0.8663\n",
            "Epoch 170/250\n",
            "19712/19712 [==============================] - 7s 339us/step - loss: 0.5131 - accuracy: 0.8323 - val_loss: 0.4746 - val_accuracy: 0.8456\n",
            "Epoch 171/250\n",
            "19712/19712 [==============================] - 7s 333us/step - loss: 0.5113 - accuracy: 0.8363 - val_loss: 0.4191 - val_accuracy: 0.8746\n",
            "Epoch 172/250\n",
            "19712/19712 [==============================] - 6s 327us/step - loss: 0.5136 - accuracy: 0.8351 - val_loss: 0.6170 - val_accuracy: 0.8103\n",
            "Epoch 173/250\n",
            "19712/19712 [==============================] - 6s 325us/step - loss: 0.5201 - accuracy: 0.8340 - val_loss: 0.4973 - val_accuracy: 0.8462\n",
            "Epoch 174/250\n",
            "19712/19712 [==============================] - 6s 326us/step - loss: 0.4976 - accuracy: 0.8349 - val_loss: 0.4392 - val_accuracy: 0.8657\n",
            "Epoch 175/250\n",
            "19712/19712 [==============================] - 6s 325us/step - loss: 0.5130 - accuracy: 0.8326 - val_loss: 0.4617 - val_accuracy: 0.8622\n",
            "Epoch 176/250\n",
            "19712/19712 [==============================] - 6s 323us/step - loss: 0.5083 - accuracy: 0.8322 - val_loss: 0.7008 - val_accuracy: 0.7959\n",
            "Epoch 177/250\n",
            "19712/19712 [==============================] - 6s 324us/step - loss: 0.5066 - accuracy: 0.8379 - val_loss: 0.4325 - val_accuracy: 0.8632\n",
            "Epoch 178/250\n",
            "19712/19712 [==============================] - 6s 325us/step - loss: 0.5038 - accuracy: 0.8331 - val_loss: 0.4312 - val_accuracy: 0.8638\n",
            "Epoch 179/250\n",
            "19712/19712 [==============================] - 6s 329us/step - loss: 0.5210 - accuracy: 0.8321 - val_loss: 0.6121 - val_accuracy: 0.8186\n",
            "Epoch 180/250\n",
            "19712/19712 [==============================] - 6s 317us/step - loss: 0.5060 - accuracy: 0.8370 - val_loss: 0.4468 - val_accuracy: 0.8586\n",
            "Epoch 181/250\n",
            "19712/19712 [==============================] - 6s 317us/step - loss: 0.5255 - accuracy: 0.8294 - val_loss: 0.4373 - val_accuracy: 0.8687\n",
            "Epoch 182/250\n",
            "19712/19712 [==============================] - 6s 320us/step - loss: 0.5075 - accuracy: 0.8345 - val_loss: 0.4751 - val_accuracy: 0.8525\n",
            "Epoch 183/250\n",
            "19712/19712 [==============================] - 6s 326us/step - loss: 0.5181 - accuracy: 0.8332 - val_loss: 0.4427 - val_accuracy: 0.8685\n",
            "Epoch 184/250\n",
            "19712/19712 [==============================] - 6s 326us/step - loss: 0.5225 - accuracy: 0.8354 - val_loss: 0.4520 - val_accuracy: 0.8596\n",
            "Epoch 185/250\n",
            "19712/19712 [==============================] - 6s 322us/step - loss: 0.5017 - accuracy: 0.8396 - val_loss: 1.2204 - val_accuracy: 0.7001\n",
            "Epoch 186/250\n",
            "19712/19712 [==============================] - 6s 327us/step - loss: 0.5055 - accuracy: 0.8363 - val_loss: 0.7231 - val_accuracy: 0.7569\n",
            "Epoch 187/250\n",
            "19712/19712 [==============================] - 6s 323us/step - loss: 0.5177 - accuracy: 0.8339 - val_loss: 0.4350 - val_accuracy: 0.8642\n",
            "Epoch 188/250\n",
            "19712/19712 [==============================] - 6s 324us/step - loss: 0.4986 - accuracy: 0.8384 - val_loss: 0.4395 - val_accuracy: 0.8632\n",
            "Epoch 189/250\n",
            "19712/19712 [==============================] - 6s 329us/step - loss: 0.5239 - accuracy: 0.8334 - val_loss: 0.4176 - val_accuracy: 0.8736\n",
            "Epoch 190/250\n",
            "19712/19712 [==============================] - 7s 330us/step - loss: 0.5026 - accuracy: 0.8347 - val_loss: 0.4545 - val_accuracy: 0.8602\n",
            "Epoch 191/250\n",
            "19712/19712 [==============================] - 6s 326us/step - loss: 0.5145 - accuracy: 0.8330 - val_loss: 0.4723 - val_accuracy: 0.8543\n",
            "Epoch 192/250\n",
            "19712/19712 [==============================] - 6s 322us/step - loss: 0.5182 - accuracy: 0.8348 - val_loss: 0.4441 - val_accuracy: 0.8614\n",
            "Epoch 193/250\n",
            "19712/19712 [==============================] - 7s 330us/step - loss: 0.5171 - accuracy: 0.8337 - val_loss: 0.5676 - val_accuracy: 0.8302\n",
            "Epoch 194/250\n",
            "19712/19712 [==============================] - 7s 331us/step - loss: 0.5188 - accuracy: 0.8312 - val_loss: 0.5303 - val_accuracy: 0.8395\n",
            "Epoch 195/250\n",
            "19712/19712 [==============================] - 6s 316us/step - loss: 0.4976 - accuracy: 0.8380 - val_loss: 0.6808 - val_accuracy: 0.8036\n",
            "Epoch 196/250\n",
            "19712/19712 [==============================] - 6s 319us/step - loss: 0.4972 - accuracy: 0.8390 - val_loss: 0.4252 - val_accuracy: 0.8693\n",
            "Epoch 197/250\n",
            "19712/19712 [==============================] - 6s 320us/step - loss: 0.5125 - accuracy: 0.8347 - val_loss: 0.4344 - val_accuracy: 0.8644\n",
            "Epoch 198/250\n",
            "19712/19712 [==============================] - 6s 322us/step - loss: 0.5016 - accuracy: 0.8373 - val_loss: 0.4148 - val_accuracy: 0.8722\n",
            "Epoch 199/250\n",
            "19712/19712 [==============================] - 6s 329us/step - loss: 0.5222 - accuracy: 0.8310 - val_loss: 0.4300 - val_accuracy: 0.8701\n",
            "Epoch 200/250\n",
            "19712/19712 [==============================] - 6s 324us/step - loss: 0.5043 - accuracy: 0.8388 - val_loss: 0.4264 - val_accuracy: 0.8657\n",
            "Epoch 201/250\n",
            "19712/19712 [==============================] - 6s 325us/step - loss: 0.4956 - accuracy: 0.8406 - val_loss: 0.4393 - val_accuracy: 0.8634\n",
            "Epoch 202/250\n",
            "19712/19712 [==============================] - 6s 326us/step - loss: 0.4994 - accuracy: 0.8401 - val_loss: 0.5086 - val_accuracy: 0.8340\n",
            "Epoch 203/250\n",
            "19712/19712 [==============================] - 6s 326us/step - loss: 0.4975 - accuracy: 0.8383 - val_loss: 0.4478 - val_accuracy: 0.8622\n",
            "Epoch 204/250\n",
            "19712/19712 [==============================] - 6s 322us/step - loss: 0.4972 - accuracy: 0.8380 - val_loss: 0.4641 - val_accuracy: 0.8561\n",
            "Epoch 205/250\n",
            "19712/19712 [==============================] - 6s 321us/step - loss: 0.5146 - accuracy: 0.8345 - val_loss: 0.4738 - val_accuracy: 0.8525\n",
            "Epoch 206/250\n",
            "19712/19712 [==============================] - 6s 320us/step - loss: 0.5091 - accuracy: 0.8356 - val_loss: 0.5466 - val_accuracy: 0.8214\n",
            "Epoch 207/250\n",
            "19712/19712 [==============================] - 6s 327us/step - loss: 0.5066 - accuracy: 0.8359 - val_loss: 0.4225 - val_accuracy: 0.8699\n",
            "Epoch 208/250\n",
            "19712/19712 [==============================] - 6s 327us/step - loss: 0.5081 - accuracy: 0.8360 - val_loss: 0.7112 - val_accuracy: 0.7979\n",
            "Epoch 209/250\n",
            "19712/19712 [==============================] - 6s 323us/step - loss: 0.5058 - accuracy: 0.8369 - val_loss: 0.4233 - val_accuracy: 0.8697\n",
            "Epoch 210/250\n",
            "19712/19712 [==============================] - 6s 322us/step - loss: 0.4886 - accuracy: 0.8415 - val_loss: 0.4187 - val_accuracy: 0.8683\n",
            "Epoch 211/250\n",
            "19712/19712 [==============================] - 6s 329us/step - loss: 0.5138 - accuracy: 0.8346 - val_loss: 0.4482 - val_accuracy: 0.8687\n",
            "Epoch 212/250\n",
            "19712/19712 [==============================] - 6s 325us/step - loss: 0.5069 - accuracy: 0.8374 - val_loss: 0.5524 - val_accuracy: 0.8360\n",
            "Epoch 213/250\n",
            "19712/19712 [==============================] - 7s 330us/step - loss: 0.5012 - accuracy: 0.8386 - val_loss: 0.4661 - val_accuracy: 0.8616\n",
            "Epoch 214/250\n",
            "19712/19712 [==============================] - 6s 330us/step - loss: 0.4985 - accuracy: 0.8390 - val_loss: 0.4333 - val_accuracy: 0.8638\n",
            "Epoch 215/250\n",
            "19712/19712 [==============================] - 6s 323us/step - loss: 0.5029 - accuracy: 0.8390 - val_loss: 0.5297 - val_accuracy: 0.8257\n",
            "Epoch 216/250\n",
            "19712/19712 [==============================] - 6s 329us/step - loss: 0.5097 - accuracy: 0.8371 - val_loss: 0.4793 - val_accuracy: 0.8557\n",
            "Epoch 217/250\n",
            "19712/19712 [==============================] - 7s 334us/step - loss: 0.4913 - accuracy: 0.8414 - val_loss: 0.4841 - val_accuracy: 0.8452\n",
            "Epoch 218/250\n",
            "19712/19712 [==============================] - 7s 342us/step - loss: 0.4983 - accuracy: 0.8397 - val_loss: 0.4294 - val_accuracy: 0.8636\n",
            "Epoch 219/250\n",
            "19712/19712 [==============================] - 6s 323us/step - loss: 0.5011 - accuracy: 0.8359 - val_loss: 0.4162 - val_accuracy: 0.8709\n",
            "Epoch 220/250\n",
            "19712/19712 [==============================] - 6s 320us/step - loss: 0.5090 - accuracy: 0.8371 - val_loss: 0.4247 - val_accuracy: 0.8677\n",
            "Epoch 221/250\n",
            "19712/19712 [==============================] - 6s 324us/step - loss: 0.4781 - accuracy: 0.8451 - val_loss: 0.4209 - val_accuracy: 0.8647\n",
            "Epoch 222/250\n",
            "19712/19712 [==============================] - 6s 324us/step - loss: 0.4986 - accuracy: 0.8401 - val_loss: 0.4290 - val_accuracy: 0.8699\n",
            "Epoch 223/250\n",
            "19712/19712 [==============================] - 6s 327us/step - loss: 0.5095 - accuracy: 0.8326 - val_loss: 0.4474 - val_accuracy: 0.8602\n",
            "Epoch 224/250\n",
            "19712/19712 [==============================] - 6s 326us/step - loss: 0.4927 - accuracy: 0.8363 - val_loss: 0.5477 - val_accuracy: 0.8222\n",
            "Epoch 225/250\n",
            "19712/19712 [==============================] - 6s 324us/step - loss: 0.5028 - accuracy: 0.8379 - val_loss: 0.4225 - val_accuracy: 0.8726\n",
            "Epoch 226/250\n",
            "19712/19712 [==============================] - 6s 327us/step - loss: 0.4955 - accuracy: 0.8424 - val_loss: 0.4147 - val_accuracy: 0.8711\n",
            "Epoch 227/250\n",
            "19712/19712 [==============================] - 6s 329us/step - loss: 0.5081 - accuracy: 0.8385 - val_loss: 0.4736 - val_accuracy: 0.8614\n",
            "Epoch 228/250\n",
            "19712/19712 [==============================] - 6s 326us/step - loss: 0.5016 - accuracy: 0.8402 - val_loss: 0.4261 - val_accuracy: 0.8651\n",
            "Epoch 229/250\n",
            "19712/19712 [==============================] - 7s 331us/step - loss: 0.4980 - accuracy: 0.8382 - val_loss: 0.4507 - val_accuracy: 0.8575\n",
            "Epoch 230/250\n",
            "19712/19712 [==============================] - 6s 323us/step - loss: 0.4921 - accuracy: 0.8437 - val_loss: 0.4286 - val_accuracy: 0.8693\n",
            "Epoch 231/250\n",
            "19712/19712 [==============================] - 6s 327us/step - loss: 0.5006 - accuracy: 0.8386 - val_loss: 0.4742 - val_accuracy: 0.8488\n",
            "Epoch 232/250\n",
            "19712/19712 [==============================] - 6s 325us/step - loss: 0.5091 - accuracy: 0.8359 - val_loss: 0.4693 - val_accuracy: 0.8573\n",
            "Epoch 233/250\n",
            "19712/19712 [==============================] - 7s 330us/step - loss: 0.4935 - accuracy: 0.8417 - val_loss: 0.5714 - val_accuracy: 0.8306\n",
            "Epoch 234/250\n",
            "19712/19712 [==============================] - 6s 326us/step - loss: 0.4999 - accuracy: 0.8373 - val_loss: 0.4258 - val_accuracy: 0.8709\n",
            "Epoch 235/250\n",
            "19712/19712 [==============================] - 6s 326us/step - loss: 0.4949 - accuracy: 0.8393 - val_loss: 0.4252 - val_accuracy: 0.8701\n",
            "Epoch 236/250\n",
            "19712/19712 [==============================] - 6s 328us/step - loss: 0.4865 - accuracy: 0.8448 - val_loss: 0.4302 - val_accuracy: 0.8640\n",
            "Epoch 237/250\n",
            "19712/19712 [==============================] - 7s 332us/step - loss: 0.4873 - accuracy: 0.8466 - val_loss: 0.5984 - val_accuracy: 0.8330\n",
            "Epoch 238/250\n",
            "19712/19712 [==============================] - 6s 327us/step - loss: 0.4829 - accuracy: 0.8416 - val_loss: 0.4173 - val_accuracy: 0.8695\n",
            "Epoch 239/250\n",
            "19712/19712 [==============================] - 6s 327us/step - loss: 0.5045 - accuracy: 0.8397 - val_loss: 0.4489 - val_accuracy: 0.8628\n",
            "Epoch 240/250\n",
            "19712/19712 [==============================] - 6s 325us/step - loss: 0.5116 - accuracy: 0.8386 - val_loss: 0.4202 - val_accuracy: 0.8722\n",
            "Epoch 241/250\n",
            "19712/19712 [==============================] - 7s 334us/step - loss: 0.4929 - accuracy: 0.8396 - val_loss: 0.4220 - val_accuracy: 0.8699\n",
            "Epoch 242/250\n",
            "19712/19712 [==============================] - 7s 333us/step - loss: 0.4960 - accuracy: 0.8385 - val_loss: 0.4283 - val_accuracy: 0.8736\n",
            "Epoch 243/250\n",
            "19712/19712 [==============================] - 6s 327us/step - loss: 0.4915 - accuracy: 0.8408 - val_loss: 0.4135 - val_accuracy: 0.8701\n",
            "Epoch 244/250\n",
            "19712/19712 [==============================] - 6s 325us/step - loss: 0.5041 - accuracy: 0.8366 - val_loss: 0.4149 - val_accuracy: 0.8728\n",
            "Epoch 245/250\n",
            "19712/19712 [==============================] - 6s 322us/step - loss: 0.4771 - accuracy: 0.8468 - val_loss: 0.4373 - val_accuracy: 0.8667\n",
            "Epoch 246/250\n",
            "19712/19712 [==============================] - 6s 328us/step - loss: 0.4993 - accuracy: 0.8423 - val_loss: 0.6129 - val_accuracy: 0.7922\n",
            "Epoch 247/250\n",
            "19712/19712 [==============================] - 7s 330us/step - loss: 0.5039 - accuracy: 0.8405 - val_loss: 0.4664 - val_accuracy: 0.8529\n",
            "Epoch 248/250\n",
            "19712/19712 [==============================] - 7s 332us/step - loss: 0.5034 - accuracy: 0.8392 - val_loss: 0.4391 - val_accuracy: 0.8683\n",
            "Epoch 249/250\n",
            "19712/19712 [==============================] - 7s 332us/step - loss: 0.4959 - accuracy: 0.8398 - val_loss: 0.4159 - val_accuracy: 0.8724\n",
            "Epoch 250/250\n",
            "19712/19712 [==============================] - 6s 326us/step - loss: 0.4808 - accuracy: 0.8480 - val_loss: 0.4214 - val_accuracy: 0.8713\n",
            "4928/4928 [==============================] - 1s 287us/step\n",
            "Test loss:  0.42140843796652633\n",
            "Test Accuracy:  0.8713474273681641\n"
          ],
          "name": "stdout"
        },
        {
          "output_type": "display_data",
          "data": {
            "image/png": "[encoded data removed]",
            "text/plain": [
              "<Figure size 720x360 with 1 Axes>"
            ]
          },
          "metadata": {
            "tags": []
          }
        }
      ]
    },
    {
      "cell_type": "code",
      "metadata": {
        "id": "gLs5CPp7ZUHT",
        "colab_type": "code",
        "colab": {}
      },
      "source": [
        ""
      ],
      "execution_count": 14,
      "outputs": []
    },
    {
      "cell_type": "markdown",
      "metadata": {
        "id": "Rc-VpuToXO0v",
        "colab_type": "text"
      },
      "source": [
        "#observations :\n",
        "1. We obtained the good model whose accuracy is 87%.\n",
        "2. Model is not overfitting which is shown in the above plotting of the results. "
      ]
    },
    {
      "cell_type": "code",
      "metadata": {
        "id": "xf9mLrTIbS44",
        "colab_type": "code",
        "colab": {}
      },
      "source": [
        "#prediction of the output.\n",
        "prediction = list(model.predict_classes(test))\n"
      ],
      "execution_count": 15,
      "outputs": []
    },
    {
      "cell_type": "code",
      "metadata": {
        "id": "rgeXi2NSY9xM",
        "colab_type": "code",
        "colab": {}
      },
      "source": [
        "# creating submission file\n",
        "sample = pd.read_csv('/content/Dataset/results.csv')\n",
        "\n",
        "sample['predicted_labels'] = prediction\n",
        "sample.to_csv('predictions.csv', header=True, index=False)\n"
      ],
      "execution_count": 16,
      "outputs": []
    }
  ]
}