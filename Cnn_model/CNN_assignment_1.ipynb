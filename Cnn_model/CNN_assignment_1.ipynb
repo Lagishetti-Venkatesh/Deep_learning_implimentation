{
  "nbformat": 4,
  "nbformat_minor": 0,
  "metadata": {
    "colab": {
      "name": "CNN_assignment_1.ipynb",
      "provenance": [],
      "collapsed_sections": [],
      "toc_visible": true
    },
    "kernelspec": {
      "name": "python3",
      "display_name": "Python 3"
    },
    "accelerator": "TPU"
  },
  "cells": [
    {
      "cell_type": "code",
      "metadata": {
        "id": "RMHTzY8yp9QB",
        "colab_type": "code",
        "colab": {
          "base_uri": "https://localhost:8080/",
          "height": 738
        },
        "outputId": "30ef8d59-4dd2-40d4-ff85-0ba3b23cfdc9"
      },
      "source": [
        "%tensorflow_version 2.x\n",
        "import tensorflow as tf\n",
        "print(\"Tensorflow version \" + tf.__version__)\n",
        "\n",
        "try:\n",
        "  tpu = tf.distribute.cluster_resolver.TPUClusterResolver()  # TPU detection\n",
        "  print('Running on TPU ', tpu.cluster_spec().as_dict()['worker'])\n",
        "except ValueError:\n",
        "  raise BaseException('ERROR: Not connected to a TPU runtime; please see the previous cell in this notebook for instructions!')\n",
        "tf.config.experimental_connect_to_cluster(tpu)\n",
        "tf.tpu.experimental.initialize_tpu_system(tpu)\n",
        "tpu_strategy = tf.distribute.experimental.TPUStrategy(tpu)\n"
      ],
      "execution_count": 1,
      "outputs": [
        {
          "output_type": "stream",
          "text": [
            "Tensorflow version 2.2.0\n",
            "Running on TPU  ['10.98.94.10:8470']\n",
            "INFO:tensorflow:Initializing the TPU system: grpc://10.98.94.10:8470\n"
          ],
          "name": "stdout"
        },
        {
          "output_type": "stream",
          "text": [
            "INFO:tensorflow:Initializing the TPU system: grpc://10.98.94.10:8470\n"
          ],
          "name": "stderr"
        },
        {
          "output_type": "stream",
          "text": [
            "INFO:tensorflow:Clearing out eager caches\n"
          ],
          "name": "stdout"
        },
        {
          "output_type": "stream",
          "text": [
            "INFO:tensorflow:Clearing out eager caches\n"
          ],
          "name": "stderr"
        },
        {
          "output_type": "stream",
          "text": [
            "INFO:tensorflow:Finished initializing TPU system.\n"
          ],
          "name": "stdout"
        },
        {
          "output_type": "stream",
          "text": [
            "INFO:tensorflow:Finished initializing TPU system.\n"
          ],
          "name": "stderr"
        },
        {
          "output_type": "stream",
          "text": [
            "INFO:tensorflow:Found TPU system:\n"
          ],
          "name": "stdout"
        },
        {
          "output_type": "stream",
          "text": [
            "INFO:tensorflow:Found TPU system:\n"
          ],
          "name": "stderr"
        },
        {
          "output_type": "stream",
          "text": [
            "INFO:tensorflow:*** Num TPU Cores: 8\n"
          ],
          "name": "stdout"
        },
        {
          "output_type": "stream",
          "text": [
            "INFO:tensorflow:*** Num TPU Cores: 8\n"
          ],
          "name": "stderr"
        },
        {
          "output_type": "stream",
          "text": [
            "INFO:tensorflow:*** Num TPU Workers: 1\n"
          ],
          "name": "stdout"
        },
        {
          "output_type": "stream",
          "text": [
            "INFO:tensorflow:*** Num TPU Workers: 1\n"
          ],
          "name": "stderr"
        },
        {
          "output_type": "stream",
          "text": [
            "INFO:tensorflow:*** Num TPU Cores Per Worker: 8\n"
          ],
          "name": "stdout"
        },
        {
          "output_type": "stream",
          "text": [
            "INFO:tensorflow:*** Num TPU Cores Per Worker: 8\n"
          ],
          "name": "stderr"
        },
        {
          "output_type": "stream",
          "text": [
            "INFO:tensorflow:*** Available Device: _DeviceAttributes(/job:localhost/replica:0/task:0/device:CPU:0, CPU, 0, 0)\n"
          ],
          "name": "stdout"
        },
        {
          "output_type": "stream",
          "text": [
            "INFO:tensorflow:*** Available Device: _DeviceAttributes(/job:localhost/replica:0/task:0/device:CPU:0, CPU, 0, 0)\n"
          ],
          "name": "stderr"
        },
        {
          "output_type": "stream",
          "text": [
            "INFO:tensorflow:*** Available Device: _DeviceAttributes(/job:localhost/replica:0/task:0/device:XLA_CPU:0, XLA_CPU, 0, 0)\n"
          ],
          "name": "stdout"
        },
        {
          "output_type": "stream",
          "text": [
            "INFO:tensorflow:*** Available Device: _DeviceAttributes(/job:localhost/replica:0/task:0/device:XLA_CPU:0, XLA_CPU, 0, 0)\n"
          ],
          "name": "stderr"
        },
        {
          "output_type": "stream",
          "text": [
            "INFO:tensorflow:*** Available Device: _DeviceAttributes(/job:worker/replica:0/task:0/device:CPU:0, CPU, 0, 0)\n"
          ],
          "name": "stdout"
        },
        {
          "output_type": "stream",
          "text": [
            "INFO:tensorflow:*** Available Device: _DeviceAttributes(/job:worker/replica:0/task:0/device:CPU:0, CPU, 0, 0)\n"
          ],
          "name": "stderr"
        },
        {
          "output_type": "stream",
          "text": [
            "INFO:tensorflow:*** Available Device: _DeviceAttributes(/job:worker/replica:0/task:0/device:TPU:0, TPU, 0, 0)\n"
          ],
          "name": "stdout"
        },
        {
          "output_type": "stream",
          "text": [
            "INFO:tensorflow:*** Available Device: _DeviceAttributes(/job:worker/replica:0/task:0/device:TPU:0, TPU, 0, 0)\n"
          ],
          "name": "stderr"
        },
        {
          "output_type": "stream",
          "text": [
            "INFO:tensorflow:*** Available Device: _DeviceAttributes(/job:worker/replica:0/task:0/device:TPU:1, TPU, 0, 0)\n"
          ],
          "name": "stdout"
        },
        {
          "output_type": "stream",
          "text": [
            "INFO:tensorflow:*** Available Device: _DeviceAttributes(/job:worker/replica:0/task:0/device:TPU:1, TPU, 0, 0)\n"
          ],
          "name": "stderr"
        },
        {
          "output_type": "stream",
          "text": [
            "INFO:tensorflow:*** Available Device: _DeviceAttributes(/job:worker/replica:0/task:0/device:TPU:2, TPU, 0, 0)\n"
          ],
          "name": "stdout"
        },
        {
          "output_type": "stream",
          "text": [
            "INFO:tensorflow:*** Available Device: _DeviceAttributes(/job:worker/replica:0/task:0/device:TPU:2, TPU, 0, 0)\n"
          ],
          "name": "stderr"
        },
        {
          "output_type": "stream",
          "text": [
            "INFO:tensorflow:*** Available Device: _DeviceAttributes(/job:worker/replica:0/task:0/device:TPU:3, TPU, 0, 0)\n"
          ],
          "name": "stdout"
        },
        {
          "output_type": "stream",
          "text": [
            "INFO:tensorflow:*** Available Device: _DeviceAttributes(/job:worker/replica:0/task:0/device:TPU:3, TPU, 0, 0)\n"
          ],
          "name": "stderr"
        },
        {
          "output_type": "stream",
          "text": [
            "INFO:tensorflow:*** Available Device: _DeviceAttributes(/job:worker/replica:0/task:0/device:TPU:4, TPU, 0, 0)\n"
          ],
          "name": "stdout"
        },
        {
          "output_type": "stream",
          "text": [
            "INFO:tensorflow:*** Available Device: _DeviceAttributes(/job:worker/replica:0/task:0/device:TPU:4, TPU, 0, 0)\n"
          ],
          "name": "stderr"
        },
        {
          "output_type": "stream",
          "text": [
            "INFO:tensorflow:*** Available Device: _DeviceAttributes(/job:worker/replica:0/task:0/device:TPU:5, TPU, 0, 0)\n"
          ],
          "name": "stdout"
        },
        {
          "output_type": "stream",
          "text": [
            "INFO:tensorflow:*** Available Device: _DeviceAttributes(/job:worker/replica:0/task:0/device:TPU:5, TPU, 0, 0)\n"
          ],
          "name": "stderr"
        },
        {
          "output_type": "stream",
          "text": [
            "INFO:tensorflow:*** Available Device: _DeviceAttributes(/job:worker/replica:0/task:0/device:TPU:6, TPU, 0, 0)\n"
          ],
          "name": "stdout"
        },
        {
          "output_type": "stream",
          "text": [
            "INFO:tensorflow:*** Available Device: _DeviceAttributes(/job:worker/replica:0/task:0/device:TPU:6, TPU, 0, 0)\n"
          ],
          "name": "stderr"
        },
        {
          "output_type": "stream",
          "text": [
            "INFO:tensorflow:*** Available Device: _DeviceAttributes(/job:worker/replica:0/task:0/device:TPU:7, TPU, 0, 0)\n"
          ],
          "name": "stdout"
        },
        {
          "output_type": "stream",
          "text": [
            "INFO:tensorflow:*** Available Device: _DeviceAttributes(/job:worker/replica:0/task:0/device:TPU:7, TPU, 0, 0)\n"
          ],
          "name": "stderr"
        },
        {
          "output_type": "stream",
          "text": [
            "INFO:tensorflow:*** Available Device: _DeviceAttributes(/job:worker/replica:0/task:0/device:TPU_SYSTEM:0, TPU_SYSTEM, 0, 0)\n"
          ],
          "name": "stdout"
        },
        {
          "output_type": "stream",
          "text": [
            "INFO:tensorflow:*** Available Device: _DeviceAttributes(/job:worker/replica:0/task:0/device:TPU_SYSTEM:0, TPU_SYSTEM, 0, 0)\n"
          ],
          "name": "stderr"
        },
        {
          "output_type": "stream",
          "text": [
            "INFO:tensorflow:*** Available Device: _DeviceAttributes(/job:worker/replica:0/task:0/device:XLA_CPU:0, XLA_CPU, 0, 0)\n"
          ],
          "name": "stdout"
        },
        {
          "output_type": "stream",
          "text": [
            "INFO:tensorflow:*** Available Device: _DeviceAttributes(/job:worker/replica:0/task:0/device:XLA_CPU:0, XLA_CPU, 0, 0)\n"
          ],
          "name": "stderr"
        }
      ]
    },
    {
      "cell_type": "code",
      "metadata": {
        "id": "OjCQaDeqqwl9",
        "colab_type": "code",
        "colab": {
          "base_uri": "https://localhost:8080/",
          "height": 1000
        },
        "outputId": "f2907f81-d6e8-4d17-ce91-3c7a8c7d143a"
      },
      
    {
      "cell_type": "code",
      "metadata": {
        "id": "KoEquHiark0n",
        "colab_type": "code",
        "colab": {
          "base_uri": "https://localhost:8080/",
          "height": 51
        },
        "outputId": "0f543308-c990-4458-810f-025a062ec7ab"
      },
      "source": [
        "#priting the sizes of the train and test Images.\n",
        "import os\n",
        "train_nb = len(os.listdir('/content/Dataset/train'))\n",
        "test_nb = len(os.listdir('/content/Dataset/test'))\n",
        "print(\"Size of the training Data: \",train_nb)\n",
        "print(\"Size of the testing Data: \",test_nb)"
      ],
      "execution_count": 3,
      "outputs": [
        {
          "output_type": "stream",
          "text": [
            "Size of the training Data:  440\n",
            "Size of the testing Data:  30\n"
          ],
          "name": "stdout"
        }
      ]
    },
    {
      "cell_type": "code",
      "metadata": {
        "id": "XDzPBmZGq_lm",
        "colab_type": "code",
        "colab": {
          "base_uri": "https://localhost:8080/",
          "height": 309
        },
        "outputId": "3232dfae-0e0d-4e48-c99d-c290158a99c2"
      },
      "source": [
        "#Importing the images Id's and its categories. \n",
        "#One-Hot Encoding of the target labels --> y(target label). \n",
        "\n",
        "import pandas as pd\n",
        "from keras.utils.np_utils import to_categorical\n",
        "from sklearn.preprocessing import LabelEncoder\n",
        "\n",
        "#creating the LabelEncoder Object. \n",
        "le = LabelEncoder()\n",
        "\n",
        "train = pd.read_csv('/content/Dataset/labelling.csv')\n",
        "y = train['label']\n",
        "\n",
        "print(train.iloc[[0]], train.iloc[[109]], train.iloc[[310]], train.iloc[[420]], sep='\\n')\n",
        "print(\"\\nNumerical labelling: \")\n",
        "y = le.fit_transform(y.values)\n",
        "\n",
        "print('\\nAfter One-hot Encoding of the test images : ')\n",
        "y = to_categorical(y, num_classes=4)\n",
        "print(y[0],y[109],y[310],y[420], sep = '\\n')"
      ],
      "execution_count": 4,
      "outputs": [
        {
          "output_type": "stream",
          "text": [
            "Using TensorFlow backend.\n"
          ],
          "name": "stderr"
        },
        {
          "output_type": "stream",
          "text": [
            "                                                  ID label\n",
            "0  category 1_original_1050.png_3a392001-cb65-4e2...     A\n",
            "                                                    ID label\n",
            "109  category 4_original_C041.png_6dc9e80b-f6f3-437...     B\n",
            "                                                    ID label\n",
            "310  category 2_original_6025.png_ad20bc5e-d157-492...     C\n",
            "                                                    ID label\n",
            "420  category 3_original_4023.png_c527e335-6bc6-482...     D\n",
            "\n",
            "Numerical labelling: \n",
            "\n",
            "After One-hot Encoding of the test images : \n",
            "[1. 0. 0. 0.]\n",
            "[0. 1. 0. 0.]\n",
            "[0. 0. 1. 0.]\n",
            "[0. 0. 0. 1.]\n"
          ],
          "name": "stdout"
        }
      ]
    },
    {
      "cell_type": "markdown",
      "metadata": {
        "id": "B5HfY_NP8PdC",
        "colab_type": "text"
      },
      "source": [
        "# NOTE:\n",
        "Label A is labelled with the numerical value 0\n",
        "Label B is labelled with the numerical value 1\n",
        "Label C is labelled with the numerical value 2\n",
        "Label D is labelled with the numerical value 3"
      ]
    },
    {
      "cell_type": "code",
      "metadata": {
        "id": "CzFm_bTEXNMP",
        "colab_type": "code",
        "colab": {}
      },
      "source": [
        "def augment_data(dataset, dataset_labels, augementation_factor=4, use_random_shear =True ,use_random_rotation=True, use_random_zoom=True):\n",
        "\n",
        "\t'''Used to increase the number of images by varying the rotation and zooming \n",
        "\t\t of the given image.\n",
        "\n",
        "\tArguments:\n",
        "\t\tdataset(float): A numpy array of the images \n",
        "\t\tdataset_labels: A numpy array of the target labels for the images.\n",
        "\t\taugmentation_factor (int): Number to specify how many times variances should\n",
        "\t\tbe applied.  \n",
        "\t\tuse_random_shear(Boolean): Shearing of the image in various angles.\n",
        "\t\tuse_random_rotation(Boolean):Whether to use the rotation factor to increase \n",
        "\t\tthe number of images.\n",
        "\t\tuse_random_zoom(Boolean): Whether to use the zooming factor to increase the \n",
        "\t\tnumber of images.\n",
        "\t\n",
        "\tReturns:\n",
        "\t\tnumpy array of the increased number of images and numpy array of their \n",
        "\t\tlabels.\n",
        "\n",
        "\t'''\n",
        "\n",
        "\n",
        "\taugmented_image = []\n",
        "\taugmented_image_labels = []\n",
        "\n",
        "\tfor num in range (0, dataset.shape[0]):\n",
        "\n",
        "\t\tfor i in range(0, augementation_factor):\n",
        "\t\t\t# original image:\n",
        "\t\t\taugmented_image.append(dataset[num])\n",
        "\t\t\taugmented_image_labels.append(dataset_labels[num])\n",
        "\n",
        "\t\t\tif use_random_rotation:\n",
        "\t\t\t\taugmented_image.append(tf.keras.preprocessing.image.random_rotation(\\\n",
        "\t\t\t\t\t\tdataset[num], 80, row_axis=0, col_axis=1, channel_axis=2))\n",
        "\t\t\t\taugmented_image_labels.append(dataset_labels[num])\n",
        "\t\t\n",
        "\t\t\t\taugmented_image.append(tf.keras.preprocessing.image.random_rotation(\\\n",
        "\t\t\t\t    dataset[num], 10, row_axis=0, col_axis=1, channel_axis=2))\n",
        "\t\t\t\taugmented_image_labels.append(dataset_labels[num])\n",
        "\t\t\n",
        "\t\t\t\t\n",
        "\t\t\t\taugmented_image.append(tf.keras.preprocessing.image.random_rotation(\\\n",
        "\t\t\t\t    dataset[num], 60, row_axis=0, col_axis=1, channel_axis=2))\n",
        "\t\t\t\taugmented_image_labels.append(dataset_labels[num])\n",
        "\n",
        "\t\t\t\taugmented_image.append(tf.keras.preprocessing.image.random_rotation(\n",
        "\t\t\t\t    dataset[num], 70, row_axis=0, col_axis=1, channel_axis=2))\n",
        "\t\t\t\taugmented_image_labels.append(dataset_labels[num])\n",
        "\t\t\n",
        "\t\t\tif use_random_shear:\n",
        "\t\t\t\t\taugmented_image.append(tf.keras.preprocessing.image\n",
        "\t\t\t\t\t                       .random_shear(dataset[num], 0.2, row_axis=0,\n",
        "\t\t\t\t\t\t\t\t\t\t\t\t\t\t\t\t\tcol_axis=1, channel_axis=2))\n",
        "\t\t\t\t\taugmented_image_labels.append(dataset_labels[num])\n",
        "\t\t\t\n",
        "\t\t\t\t\taugmented_image.append(tf.keras.preprocessing.image\n",
        "\t\t\t\t\t\t\t\t\t\t\t\t\t\t\t\t.random_shear(dataset[num], 0.4, row_axis=0, \n",
        "\t\t\t\t\t\t\t\t\t\t\t\t\t\t\t\t\tcol_axis=1, channel_axis=2))\n",
        "\t\t\t\t\taugmented_image_labels.append(dataset_labels[num])\n",
        "\n",
        "\t\t\t\t\taugmented_image.append(tf.keras.preprocessing.image\n",
        "\t\t\t\t\t\t\t\t\t\t\t\t\t\t\t\t.random_shear(dataset[num], 0.6, row_axis=0, \n",
        "\t\t\t\t\t\t\t\t\t\t\t\t\t\t\t\t\tcol_axis=1, channel_axis=2))\n",
        "\t\t\t\t\taugmented_image_labels.append(dataset_labels[num])\n",
        "\n",
        "\t\t\t\n",
        "\t\t\t\n",
        "\t\t\tif use_random_zoom:\n",
        "\t\t\t\taugmented_image.append(tf.keras.preprocessing.image.random_zoom(\\\n",
        "\t\t\t\t     dataset[num], [-0.7, -0.7], row_axis=1, col_axis=2, channel_axis=0,\\\n",
        "\t\t\t\t\t\t fill_mode='nearest',cval=0.0, interpolation_order=1))\n",
        "\t\t\t\taugmented_image_labels.append(dataset_labels[num])\n",
        "\t\t\t\taugmented_image.append(tf.keras.preprocessing.image.random_zoom(\\\n",
        "\t\t\t\t    dataset[num], [-0.6, -0.6], row_axis=1, col_axis=2, channel_axis=0,\\\n",
        "\t\t\t\t\t\tfill_mode='nearest',cval=0.0, interpolation_order=1))\n",
        "\t\t\t\taugmented_image_labels.append(dataset_labels[num])\n",
        "\t\t\n",
        "\t\t\t\taugmented_image.append(tf.keras.preprocessing.image.random_zoom(\\\n",
        "\t\t\t\t     dataset[num], [-0.5, -0.5], row_axis=1, col_axis=2, channel_axis=0,\\\n",
        "\t\t\t\t\t\t fill_mode='nearest',cval=0.0, interpolation_order=1))\n",
        "\t\t\t\taugmented_image_labels.append(dataset_labels[num])\n",
        "\t\t\t\taugmented_image.append(tf.keras.preprocessing.image.random_zoom(\\\n",
        "\t\t\t\t    dataset[num], [-0.4, -0.4], row_axis=1, col_axis=2, channel_axis=0,\\\n",
        "\t\t\t\t\t\tfill_mode='nearest',cval=0.0, interpolation_order=1))\n",
        "\t\t\t\taugmented_image_labels.append(dataset_labels[num])\n",
        "\n",
        "\t\t\t\taugmented_image.append(tf.keras.preprocessing.image.random_zoom(\\\n",
        "\t\t\t\t    dataset[num], [-0.3, -0.3], row_axis=1, col_axis=2, channel_axis=0,\\\n",
        "\t\t\t\t\t\tfill_mode='nearest',cval=0.0, interpolation_order=1))\n",
        "\t\t\t\taugmented_image_labels.append(dataset_labels[num])\n",
        "\n",
        "\t\t\t\taugmented_image.append(tf.keras.preprocessing.image.random_zoom(\\\n",
        "\t\t\t\t     dataset[num], [-0.2, -0.2], row_axis=1,col_axis=2,channel_axis=0,\\\n",
        "\t\t\t\t\t\t fill_mode='nearest',cval=0.0, interpolation_order=1))\n",
        "\t\t\t\taugmented_image_labels.append(dataset_labels[num])\n",
        "\n",
        "\treturn np.array(augmented_image), np.array(augmented_image_labels)"
      ],
      "execution_count": 5,
      "outputs": []
    },
    {
      "cell_type": "code",
      "metadata": {
        "id": "5m71cePW6YOo",
        "colab_type": "code",
        "colab": {}
      },
      "source": [
        "import matplotlib.pyplot as plt\n",
        "\n",
        "\n",
        "\n",
        "plt.style.use('seaborn')\n",
        "def plt_dynamic(x, va, tra, ax):\n",
        "  '''\n",
        "  Used to plot the Validation and Training Accuracy.\n",
        "  \n",
        "  Arguments:\n",
        "    x(list):Number of Epochs.\n",
        "    va(list): Values of Validation Accuracy.\n",
        "    tra(list):Values of Training Accuracy.\n",
        "    ax(object)\n",
        "  \n",
        "  Returns:\n",
        "    plotting of the given Data. \n",
        "  '''\n",
        "  ax.plot(x, va, 'r--', label=\"Validation Accuracy\")\n",
        "  ax.plot(x, tra, 'b*-', label=\"Training Accuracy\")\n",
        "  plt.legend()\n",
        "  plt.show()\n"
      ],
      "execution_count": 6,
      "outputs": []
    },
    {
      "cell_type": "code",
      "metadata": {
        "id": "2Hc8thqT3oGL",
        "colab_type": "code",
        "colab": {
          "base_uri": "https://localhost:8080/",
          "height": 34
        },
        "outputId": "e2f2da4c-dfa3-4daf-880d-468590bc00e4"
      },
      "source": [
        "from keras.preprocessing import image\n",
        "from sklearn.model_selection import train_test_split\n",
        "import numpy as np\n",
        "\n",
        "# Assigning the values to the image width and height.\n",
        "w, h = 32, 32 \n",
        "\n",
        "#getting the location of list of images \n",
        "train_img_list = os.listdir('/content/Dataset/train')\n",
        "\n",
        "#conversion of all the images into numpy  arrays.\n",
        "# We have grayscale images, So we will keep color_mode = 'grayscale'.\n",
        "train_image = []\n",
        "for i in train_img_list:\n",
        "  img = image.load_img('/content/Dataset/train/'+i, target_size=(w,h,1), \n",
        "                       color_mode=\"grayscale\")\n",
        "  img = image.img_to_array(img)\n",
        "  train_image.append(img)\n",
        "X = np.array(train_image)\n",
        "\n",
        "X.shape"
      ],
      "execution_count": 7,
      "outputs": [
        {
          "output_type": "execute_result",
          "data": {
            "text/plain": [
              "(440, 32, 32, 1)"
            ]
          },
          "metadata": {
            "tags": []
          },
          "execution_count": 7
        }
      ]
    },
    {
      "cell_type": "code",
      "metadata": {
        "id": "1sqMSoX-YvfM",
        "colab_type": "code",
        "colab": {
          "base_uri": "https://localhost:8080/",
          "height": 34
        },
        "outputId": "bc85aa9d-1b83-459f-f858-ad6f6147eb99"
      },
      "source": [
        "#Data  augmentation.\n",
        "X, y = augment_data(X,y)\n",
        "print(X.shape)"
      ],
      "execution_count": 8,
      "outputs": [
        {
          "output_type": "stream",
          "text": [
            "(24640, 32, 32, 1)\n"
          ],
          "name": "stdout"
        }
      ]
    },
    {
      "cell_type": "code",
      "metadata": {
        "id": "HQPSJ_vMZHXf",
        "colab_type": "code",
        "colab": {
          "base_uri": "https://localhost:8080/",
          "height": 34
        },
        "outputId": "54fc814d-1a3d-46ea-fa41-477c4c4fd835"
      },
      "source": [
        "#normalizing the Data\n",
        "X /= 255\n",
        "print(X.shape)"
      ],
      "execution_count": 9,
      "outputs": [
        {
          "output_type": "stream",
          "text": [
            "(24640, 32, 32, 1)\n"
          ],
          "name": "stdout"
        }
      ]
    },
    {
      "cell_type": "code",
      "metadata": {
        "id": "IJiokJS_OOtF",
        "colab_type": "code",
        "colab": {
          "base_uri": "https://localhost:8080/",
          "height": 81
        },
        "outputId": "99f61915-8caf-428b-f1f4-c25da0cd4d24"
      },
      "source": [
        "from google.colab.patches import cv2_imshow\n",
        "cv2_imshow(X[100]*255)\n",
        "cv2_imshow(X[1000]*255)\n"
      ],
      "execution_count": 10,
      "outputs": [
        {
          "output_type": "display_data",
          "data": {
            "image/png": "iVBORw0KGgoAAAANSUhEUgAAACAAAAAgCAIAAAD8GO2jAAADdElEQVR4nM2WTUgyXRTHj5PFpJhFUGaYfWKLYiiQwqZF7mSICgKLaNOiRd/7qE2LFpkUBOLSTdswN0FQaWGrwTCxpCGsbKJVIVT04dxnceM6T07v+9IHvP/VnXPP+f/umblzuYCUVF5eDgCiKOLHiooKyFF9fX1BQUFuHAAWFhbu7+9xLSgCWltbKYpKJBL40WKxyOs1Go3RaDw7O3M6nVqtNhdgNBrj8fg7QBTFx8fHD4D19XWz2ezxePBCotFoU1MTqd/Z2Xl+fsaZ7e3tik3s7+/jBGpwcJDneTKxtbXldrtPT08zmcza2loikQCA5uZm/NKw7HZ7MBjE46KiIkVAOp3GA3UwGLy7uwMAnucFQVheXuZ5XpIkAEilUqIo4jydTqdYb7PZYrEYSSOan5+nadputwMALC4uHhwcdHV15S7E5/PhTqPRqMPhIHG3200+48jIiGITXq8XIaQ4lVVLS4vf70cIvb6+jo+Py6dWVlYwYHp6WrHW5XIhhCh5iKKotrY2q9VKIpFIJBaLAYBardbr9fJk8pYaGxtNJlMuwOPxsCybBdTW1g4MDMzOzvb29ioa6fV6lUpF4hcXF1dXVwDAcVxPT08u4Pz8/PDwMPs8MTGBW97e3u7s7CTxqqoq3Gw6nXa5XHKLvr6+k5MThJDX680FYGU7ICvt6OhwOp0kfnl5GYlEAECn0xkMBnnxxsbG2NjY5ubm8fHxZwA1GQmCEA6HbTZbYWFhZWWlPImwc3f97u7u3t4eRVHwibIT4XB4bm5O0ej6+joejysCAAAhlMlkPgP8JavVij9DKpWampoicZqmu7u7JUmS//NfUXV1dSwWwwx8SBDV1dUlk8mSkpJvAWiaHh4exoCbmxv5VFlZ2e3t7bfcsbRaLQa8vLysrq6SuEqlqqmp+QEAALy9vZFzW61W/3vBP0phe7lcrqenJzz+7DT+71IpRpPJpN/vTyQSPp/v4eHhmwwFTU5Omkwm+cnzP5bBYNBoNL8IQAj19/f/nj8FAA0NDaWlpb9FwPt9ZmbmN8xHR0ff/wOLxWI2m38cUFxc/N6BJElLS0s/685xnCAI2atjIBBgGOan3FmWjUQiH++moVCIZdnvuzMMEwqFJElSuPweHR1xHPdl67y8PIZhAoEAMVS4XQuCMDQ09DVAfn6+w+GQu/0B1utBSRwj7KoAAAAASUVORK5CYII=\n",
            "text/plain": [
              "<PIL.Image.Image image mode=RGB size=32x32 at 0x7F20D20B7FD0>"
            ]
          },
          "metadata": {
            "tags": []
          }
        },
        {
          "output_type": "display_data",
          "data": {
            "image/png": "iVBORw0KGgoAAAANSUhEUgAAACAAAAAgCAIAAAD8GO2jAAACbUlEQVR4nO1Wu67iMBD1K86D5NJQISFqCn6Qlq+gR/wPn0CBaFCAvEQetrcYaa5JnLsUS3GlPdXEGc/xnPFMQo0x5JNgH43+n+AdCPsBCp7nOaWUMUYptQ3bJoQIIcCu6xpW3DAWtNaXy2Xo43meEIJzjoHsiFLKIAi01sYFYke/3W6EkCRJ4jgmhIRhODwEeCql2rZtmgZpwjB0crwQYDitdRRFuFLXddM0bdsqpXr767pGDicBxUYzxjDGsBL2iud5eAhkRYBcZVmGYTgshuMWZVnWW2nbtm3bruuG0W2JnKV2EEyn0zzPu67rcYyF/hkOgiRJ5vP54XCwF6WUPcp3MSzy4/HIsiyKorIsF4uF7ayUwkpyzrXWq9UKXo3dIkeRAVrryWQCxPZ1BFBKjTFCCDstrbWjDMMMCCFxHNvrnue9I0YURXEc9/JwZ5BlWW9U+L4/phUcAgwgsPN4mUUAKDLuAaOnBqVUiP7e8/k8jOYgyLLMGFNVVW/ASSl/1sf9Ytiiz+cTbOgdz/Ng2OEWcOacCyEwUTxcrwbfBNfrFZy22y0QaK2Xy+XxeLTfokRIhgSbzWZ4U78JYMPX15fWGvsAErInmo2maSBiEASEkLqu/06AWqVpyjmHnfbBjTWue/o4G01AGdI0JYQwxnDSSSmVUnmeY/U453CRsPjuqr6CAg94r9fr0+mEOVVVhX5CiLF55/s+tPpoJ6M++/3+fr/DLCqKoic3fHBsHYQQ2OS73W50FhljZrOZsRrS2aVog0qMMaUURC/LUkppf7RfJBrmVBRFkiRjsg6JpZRjPxYOgn+L3/9n93GCP+lxUOI7pWtWAAAAAElFTkSuQmCC\n",
            "text/plain": [
              "<PIL.Image.Image image mode=RGB size=32x32 at 0x7F20D20B7DA0>"
            ]
          },
          "metadata": {
            "tags": []
          }
        }
      ]
    },
    {
      "cell_type": "code",
      "metadata": {
        "id": "NnJ8uAYBXVsQ",
        "colab_type": "code",
        "colab": {
          "base_uri": "https://localhost:8080/",
          "height": 34
        },
        "outputId": "2b63edca-e2c8-48d7-9680-1997c5ef8514"
      },
      "source": [
        "#splitting the dataset into training and testing Dataset.\n",
        "X_train, X_test, y_train, y_test = train_test_split(X, y, random_state=42, \n",
        "                                                    test_size=0.2)\n",
        "print(X_train.shape, X_test.shape, y_train.shape, y_test.shape, sep = '\\t')"
      ],
      "execution_count": 11,
      "outputs": [
        {
          "output_type": "stream",
          "text": [
            "(19712, 32, 32, 1)\t(4928, 32, 32, 1)\t(19712, 4)\t(4928, 4)\n"
          ],
          "name": "stdout"
        }
      ]
    },
    {
      "cell_type": "code",
      "metadata": {
        "id": "aPmQQeLu9M22",
        "colab_type": "code",
        "colab": {
          "base_uri": "https://localhost:8080/",
          "height": 34
        },
        "outputId": "b97a99ea-7ed4-4b25-f4b8-b0c1e3c1bf68"
      },
      "source": [
        "#getting the list of the test images\n",
        "test_img_list = os.listdir('/content/Dataset/test')\n",
        "len(test_img_list)"
      ],
      "execution_count": 12,
      "outputs": [
        {
          "output_type": "execute_result",
          "data": {
            "text/plain": [
              "30"
            ]
          },
          "metadata": {
            "tags": []
          },
          "execution_count": 12
        }
      ]
    },
    {
      "cell_type": "code",
      "metadata": {
        "id": "ggKaKyfU8_Im",
        "colab_type": "code",
        "colab": {}
      },
      "source": [
        "#conversion of test images into numpy arrays\n",
        "\n",
        "label = open('/content/Dataset/results.csv', 'w')\n",
        "\n",
        "label.write('image_id,predicted_labels\\n')\n",
        "\n",
        "test_image = []\n",
        "for i in test_img_list:\n",
        "  img_id = str(i)\n",
        "  img = image.load_img('/content/Dataset/test/'+img_id, target_size=(w,h,1),\n",
        "                       color_mode='grayscale')\n",
        "  label.write(img_id+'\\n') \n",
        "  img = image.img_to_array(img)\n",
        "  img = img/255\n",
        "  test_image.append(img)\n",
        "test = np.array(test_image)\n",
        "label.close()\n"
      ],
      "execution_count": 13,
      "outputs": []
    },
    {
      "cell_type": "code",
      "metadata": {
        "id": "Ak7Ps139N-b8",
        "colab_type": "code",
        "colab": {
          "base_uri": "https://localhost:8080/",
          "height": 1000
        },
        "outputId": "d2ffb5c4-836c-4dd0-95e6-ae8783ce74db"
      },
      "source": [
        "#Model building and training\n",
        "\n",
        "from keras.models import Sequential\n",
        "from keras.layers import Dense, Dropout, Flatten,BatchNormalization\n",
        "from keras.layers import Conv2D, MaxPooling2D\n",
        "import matplotlib.pyplot as plt\n",
        "import keras\n",
        "\n",
        "Epochs = 250\n",
        "model = Sequential()\n",
        "model.add(Conv2D(32, kernel_size=(3, 3), activation='relu', input_shape=(w,h,1), \n",
        "                 kernel_regularizer= tf.keras.regularizers.l2(0.9),\n",
        "                 kernel_initializer='he_uniform'))\n",
        "model.add(Dropout(0.4))\n",
        "\n",
        "\n",
        "model.add(Conv2D(32, kernel_size=(3, 3), activation='relu', \n",
        "                 kernel_regularizer= tf.keras.regularizers.l2(0.9), \n",
        "                 kernel_initializer='he_uniform'))\n",
        "model.add(BatchNormalization())\n",
        "model.add(Dropout(0.5))\n",
        "\n",
        "\n",
        "model.add(Flatten())\n",
        "\n",
        "\n",
        "model.add(Dense(32, activation='relu', kernel_initializer='he_uniform'))\n",
        "model.add(BatchNormalization())\n",
        "model.add(Dropout(0.4))\n",
        "model.add(Dense(32, activation='relu', kernel_initializer='he_uniform'))\n",
        "\n",
        "model.add(BatchNormalization())\n",
        "model.add(Dropout(0.5))\n",
        "\n",
        "model.add(Dense(4, activation='softmax'))\n",
        "\n",
        "model.compile(loss=keras.losses.categorical_crossentropy, \n",
        "              optimizer=keras.optimizers.Adam(), metrics=['accuracy'])\n",
        "\n",
        "history = model.fit(X_train, y_train, batch_size =200, epochs=Epochs, \n",
        "                    validation_data=(X_test, y_test), verbose = True)\n",
        "\n",
        "score = model.evaluate(X_test, y_test)\n",
        "\n",
        "#prining the Validation loss and Validation accuracy.\n",
        "print(\"Test loss: \", score[0])\n",
        "print(\"Test Accuracy: \", score[1])\n",
        "\n",
        "#plotting the results. \n",
        "fig, ax = plt.subplots(figsize = (10,5))\n",
        "x = list(range(1, Epochs+1))\n",
        "\n",
        "va = history.history['val_accuracy'] \n",
        "tra = history.history['accuracy']\n",
        "plt_dynamic(x, va, tra, ax)\n",
        "plt.show()\n"
      ],
      "execution_count": 14,
      "outputs": [
        {
          "output_type": "stream",
          "text": [
            "Train on 19712 samples, validate on 4928 samples\n",
            "Epoch 1/250\n",
            "19712/19712 [==============================] - 7s 377us/step - loss: 76.6109 - accuracy: 0.2931 - val_loss: 49.0554 - val_accuracy: 0.2833\n",
            "Epoch 2/250\n",
            "19712/19712 [==============================] - 7s 345us/step - loss: 38.8529 - accuracy: 0.3355 - val_loss: 30.9550 - val_accuracy: 0.2620\n",
            "Epoch 3/250\n",
            "19712/19712 [==============================] - 7s 345us/step - loss: 25.7736 - accuracy: 0.3884 - val_loss: 21.2242 - val_accuracy: 0.2380\n",
            "Epoch 4/250\n",
            "19712/19712 [==============================] - 7s 341us/step - loss: 17.5672 - accuracy: 0.4406 - val_loss: 14.5495 - val_accuracy: 0.2474\n",
            "Epoch 5/250\n",
            "19712/19712 [==============================] - 7s 337us/step - loss: 11.9027 - accuracy: 0.4829 - val_loss: 9.9517 - val_accuracy: 0.2490\n",
            "Epoch 6/250\n",
            "19712/19712 [==============================] - 7s 339us/step - loss: 8.0151 - accuracy: 0.5251 - val_loss: 6.6808 - val_accuracy: 0.4450\n",
            "Epoch 7/250\n",
            "19712/19712 [==============================] - 7s 352us/step - loss: 5.4015 - accuracy: 0.5649 - val_loss: 4.4655 - val_accuracy: 0.5820\n",
            "Epoch 8/250\n",
            "19712/19712 [==============================] - 7s 342us/step - loss: 3.6689 - accuracy: 0.5971 - val_loss: 3.1183 - val_accuracy: 0.6031\n",
            "Epoch 9/250\n",
            "19712/19712 [==============================] - 7s 344us/step - loss: 2.5617 - accuracy: 0.6181 - val_loss: 2.2532 - val_accuracy: 0.6136\n",
            "Epoch 10/250\n",
            "19712/19712 [==============================] - 7s 345us/step - loss: 1.8678 - accuracy: 0.6373 - val_loss: 1.5558 - val_accuracy: 0.7084\n",
            "Epoch 11/250\n",
            "19712/19712 [==============================] - 6s 326us/step - loss: 1.4431 - accuracy: 0.6490 - val_loss: 1.3315 - val_accuracy: 0.6790\n",
            "Epoch 12/250\n",
            "19712/19712 [==============================] - 7s 334us/step - loss: 1.1775 - accuracy: 0.6675 - val_loss: 0.9105 - val_accuracy: 0.7727\n",
            "Epoch 13/250\n",
            "19712/19712 [==============================] - 6s 327us/step - loss: 1.0400 - accuracy: 0.6757 - val_loss: 0.8321 - val_accuracy: 0.7707\n",
            "Epoch 14/250\n",
            "19712/19712 [==============================] - 6s 322us/step - loss: 0.9440 - accuracy: 0.6865 - val_loss: 0.8323 - val_accuracy: 0.7453\n",
            "Epoch 15/250\n",
            "19712/19712 [==============================] - 6s 328us/step - loss: 0.9060 - accuracy: 0.6878 - val_loss: 0.6817 - val_accuracy: 0.7993\n",
            "Epoch 16/250\n",
            "19712/19712 [==============================] - 7s 344us/step - loss: 0.8856 - accuracy: 0.6912 - val_loss: 0.6724 - val_accuracy: 0.7936\n",
            "Epoch 17/250\n",
            "19712/19712 [==============================] - 6s 327us/step - loss: 0.8400 - accuracy: 0.7065 - val_loss: 0.6477 - val_accuracy: 0.8072\n",
            "Epoch 18/250\n",
            "19712/19712 [==============================] - 6s 323us/step - loss: 0.8129 - accuracy: 0.7154 - val_loss: 0.6211 - val_accuracy: 0.8019\n",
            "Epoch 19/250\n",
            "19712/19712 [==============================] - 7s 331us/step - loss: 0.8120 - accuracy: 0.7180 - val_loss: 0.5838 - val_accuracy: 0.8220\n",
            "Epoch 20/250\n",
            "19712/19712 [==============================] - 6s 324us/step - loss: 0.7827 - accuracy: 0.7288 - val_loss: 0.6197 - val_accuracy: 0.8056\n",
            "Epoch 21/250\n",
            "19712/19712 [==============================] - 6s 323us/step - loss: 0.7644 - accuracy: 0.7327 - val_loss: 0.6027 - val_accuracy: 0.7983\n",
            "Epoch 22/250\n",
            "19712/19712 [==============================] - 6s 319us/step - loss: 0.7688 - accuracy: 0.7342 - val_loss: 0.5912 - val_accuracy: 0.8113\n",
            "Epoch 23/250\n",
            "19712/19712 [==============================] - 6s 326us/step - loss: 0.7575 - accuracy: 0.7344 - val_loss: 0.5958 - val_accuracy: 0.8180\n",
            "Epoch 24/250\n",
            "19712/19712 [==============================] - 7s 345us/step - loss: 0.7519 - accuracy: 0.7374 - val_loss: 0.5521 - val_accuracy: 0.8190\n",
            "Epoch 25/250\n",
            "19712/19712 [==============================] - 7s 332us/step - loss: 0.7365 - accuracy: 0.7426 - val_loss: 0.5481 - val_accuracy: 0.8182\n",
            "Epoch 26/250\n",
            "19712/19712 [==============================] - 6s 327us/step - loss: 0.7158 - accuracy: 0.7521 - val_loss: 0.5299 - val_accuracy: 0.8247\n",
            "Epoch 27/250\n",
            "19712/19712 [==============================] - 6s 321us/step - loss: 0.7370 - accuracy: 0.7464 - val_loss: 0.5526 - val_accuracy: 0.8281\n",
            "Epoch 28/250\n",
            "19712/19712 [==============================] - 6s 325us/step - loss: 0.7159 - accuracy: 0.7559 - val_loss: 0.5385 - val_accuracy: 0.8346\n",
            "Epoch 29/250\n",
            "19712/19712 [==============================] - 6s 323us/step - loss: 0.7020 - accuracy: 0.7589 - val_loss: 0.5316 - val_accuracy: 0.8320\n",
            "Epoch 30/250\n",
            "19712/19712 [==============================] - 6s 328us/step - loss: 0.6903 - accuracy: 0.7629 - val_loss: 0.5264 - val_accuracy: 0.8295\n",
            "Epoch 31/250\n",
            "19712/19712 [==============================] - 6s 325us/step - loss: 0.7003 - accuracy: 0.7617 - val_loss: 0.5375 - val_accuracy: 0.8283\n",
            "Epoch 32/250\n",
            "19712/19712 [==============================] - 6s 324us/step - loss: 0.6823 - accuracy: 0.7667 - val_loss: 0.5445 - val_accuracy: 0.8283\n",
            "Epoch 33/250\n",
            "19712/19712 [==============================] - 6s 327us/step - loss: 0.6780 - accuracy: 0.7691 - val_loss: 0.5209 - val_accuracy: 0.8356\n",
            "Epoch 34/250\n",
            "19712/19712 [==============================] - 6s 328us/step - loss: 0.6691 - accuracy: 0.7705 - val_loss: 0.4993 - val_accuracy: 0.8401\n",
            "Epoch 35/250\n",
            "19712/19712 [==============================] - 6s 325us/step - loss: 0.6737 - accuracy: 0.7664 - val_loss: 0.4898 - val_accuracy: 0.8417\n",
            "Epoch 36/250\n",
            "19712/19712 [==============================] - 6s 325us/step - loss: 0.6582 - accuracy: 0.7745 - val_loss: 0.5177 - val_accuracy: 0.8375\n",
            "Epoch 37/250\n",
            "19712/19712 [==============================] - 6s 326us/step - loss: 0.6616 - accuracy: 0.7747 - val_loss: 0.5216 - val_accuracy: 0.8269\n",
            "Epoch 38/250\n",
            "19712/19712 [==============================] - 6s 326us/step - loss: 0.6552 - accuracy: 0.7765 - val_loss: 0.4974 - val_accuracy: 0.8369\n",
            "Epoch 39/250\n",
            "19712/19712 [==============================] - 6s 328us/step - loss: 0.6618 - accuracy: 0.7726 - val_loss: 0.5041 - val_accuracy: 0.8336\n",
            "Epoch 40/250\n",
            "19712/19712 [==============================] - 6s 322us/step - loss: 0.6541 - accuracy: 0.7805 - val_loss: 0.4970 - val_accuracy: 0.8431\n",
            "Epoch 41/250\n",
            "19712/19712 [==============================] - 6s 329us/step - loss: 0.6447 - accuracy: 0.7771 - val_loss: 0.5137 - val_accuracy: 0.8356\n",
            "Epoch 42/250\n",
            "19712/19712 [==============================] - 6s 325us/step - loss: 0.6518 - accuracy: 0.7789 - val_loss: 0.4955 - val_accuracy: 0.8362\n",
            "Epoch 43/250\n",
            "19712/19712 [==============================] - 7s 331us/step - loss: 0.6280 - accuracy: 0.7872 - val_loss: 0.4913 - val_accuracy: 0.8425\n",
            "Epoch 44/250\n",
            "19712/19712 [==============================] - 6s 322us/step - loss: 0.6441 - accuracy: 0.7852 - val_loss: 0.4890 - val_accuracy: 0.8429\n",
            "Epoch 45/250\n",
            "19712/19712 [==============================] - 6s 328us/step - loss: 0.6339 - accuracy: 0.7846 - val_loss: 0.4719 - val_accuracy: 0.8468\n",
            "Epoch 46/250\n",
            "19712/19712 [==============================] - 6s 325us/step - loss: 0.6350 - accuracy: 0.7833 - val_loss: 0.4957 - val_accuracy: 0.8397\n",
            "Epoch 47/250\n",
            "19712/19712 [==============================] - 6s 328us/step - loss: 0.6326 - accuracy: 0.7893 - val_loss: 0.4855 - val_accuracy: 0.8413\n",
            "Epoch 48/250\n",
            "19712/19712 [==============================] - 6s 325us/step - loss: 0.6285 - accuracy: 0.7890 - val_loss: 0.4683 - val_accuracy: 0.8569\n",
            "Epoch 49/250\n",
            "19712/19712 [==============================] - 6s 325us/step - loss: 0.6098 - accuracy: 0.7900 - val_loss: 0.4828 - val_accuracy: 0.8472\n",
            "Epoch 50/250\n",
            "19712/19712 [==============================] - 7s 335us/step - loss: 0.6257 - accuracy: 0.7917 - val_loss: 0.4807 - val_accuracy: 0.8509\n",
            "Epoch 51/250\n",
            "19712/19712 [==============================] - 6s 326us/step - loss: 0.6223 - accuracy: 0.7935 - val_loss: 0.4706 - val_accuracy: 0.8421\n",
            "Epoch 52/250\n",
            "19712/19712 [==============================] - 6s 322us/step - loss: 0.6192 - accuracy: 0.7891 - val_loss: 0.4693 - val_accuracy: 0.8456\n",
            "Epoch 53/250\n",
            "19712/19712 [==============================] - 6s 326us/step - loss: 0.6190 - accuracy: 0.7944 - val_loss: 0.4671 - val_accuracy: 0.8492\n",
            "Epoch 54/250\n",
            "19712/19712 [==============================] - 6s 324us/step - loss: 0.6085 - accuracy: 0.7952 - val_loss: 0.4678 - val_accuracy: 0.8488\n",
            "Epoch 55/250\n",
            "19712/19712 [==============================] - 6s 328us/step - loss: 0.6088 - accuracy: 0.7952 - val_loss: 0.4688 - val_accuracy: 0.8433\n",
            "Epoch 56/250\n",
            "19712/19712 [==============================] - 6s 326us/step - loss: 0.6138 - accuracy: 0.7895 - val_loss: 0.4709 - val_accuracy: 0.8529\n",
            "Epoch 57/250\n",
            "19712/19712 [==============================] - 6s 322us/step - loss: 0.5958 - accuracy: 0.7964 - val_loss: 0.4956 - val_accuracy: 0.8425\n",
            "Epoch 58/250\n",
            "19712/19712 [==============================] - 6s 324us/step - loss: 0.6223 - accuracy: 0.7904 - val_loss: 0.5107 - val_accuracy: 0.8393\n",
            "Epoch 59/250\n",
            "19712/19712 [==============================] - 7s 334us/step - loss: 0.5872 - accuracy: 0.8032 - val_loss: 0.4853 - val_accuracy: 0.8407\n",
            "Epoch 60/250\n",
            "19712/19712 [==============================] - 7s 335us/step - loss: 0.5968 - accuracy: 0.8011 - val_loss: 0.5288 - val_accuracy: 0.8231\n",
            "Epoch 61/250\n",
            "19712/19712 [==============================] - 6s 324us/step - loss: 0.6047 - accuracy: 0.7997 - val_loss: 0.4547 - val_accuracy: 0.8527\n",
            "Epoch 62/250\n",
            "19712/19712 [==============================] - 6s 321us/step - loss: 0.5864 - accuracy: 0.8025 - val_loss: 0.4464 - val_accuracy: 0.8557\n",
            "Epoch 63/250\n",
            "19712/19712 [==============================] - 7s 331us/step - loss: 0.5914 - accuracy: 0.8004 - val_loss: 0.4481 - val_accuracy: 0.8573\n",
            "Epoch 64/250\n",
            "19712/19712 [==============================] - 6s 325us/step - loss: 0.5916 - accuracy: 0.7989 - val_loss: 0.4529 - val_accuracy: 0.8565\n",
            "Epoch 65/250\n",
            "19712/19712 [==============================] - 6s 325us/step - loss: 0.6030 - accuracy: 0.8029 - val_loss: 0.4577 - val_accuracy: 0.8502\n",
            "Epoch 66/250\n",
            "19712/19712 [==============================] - 6s 326us/step - loss: 0.5788 - accuracy: 0.8057 - val_loss: 0.4666 - val_accuracy: 0.8486\n",
            "Epoch 67/250\n",
            "19712/19712 [==============================] - 6s 320us/step - loss: 0.5915 - accuracy: 0.8013 - val_loss: 0.4718 - val_accuracy: 0.8458\n",
            "Epoch 68/250\n",
            "19712/19712 [==============================] - 6s 323us/step - loss: 0.5891 - accuracy: 0.8060 - val_loss: 0.4561 - val_accuracy: 0.8498\n",
            "Epoch 69/250\n",
            "19712/19712 [==============================] - 6s 326us/step - loss: 0.5844 - accuracy: 0.8036 - val_loss: 0.4490 - val_accuracy: 0.8575\n",
            "Epoch 70/250\n",
            "19712/19712 [==============================] - 6s 329us/step - loss: 0.5937 - accuracy: 0.8053 - val_loss: 0.4511 - val_accuracy: 0.8612\n",
            "Epoch 71/250\n",
            "19712/19712 [==============================] - 6s 328us/step - loss: 0.5758 - accuracy: 0.8030 - val_loss: 0.4725 - val_accuracy: 0.8533\n",
            "Epoch 72/250\n",
            "19712/19712 [==============================] - 7s 330us/step - loss: 0.5757 - accuracy: 0.8052 - val_loss: 0.4617 - val_accuracy: 0.8531\n",
            "Epoch 73/250\n",
            "19712/19712 [==============================] - 7s 341us/step - loss: 0.5721 - accuracy: 0.8105 - val_loss: 0.4475 - val_accuracy: 0.8569\n",
            "Epoch 74/250\n",
            "19712/19712 [==============================] - 6s 322us/step - loss: 0.5826 - accuracy: 0.8075 - val_loss: 0.4503 - val_accuracy: 0.8616\n",
            "Epoch 75/250\n",
            "19712/19712 [==============================] - 6s 322us/step - loss: 0.5644 - accuracy: 0.8096 - val_loss: 0.4538 - val_accuracy: 0.8561\n",
            "Epoch 76/250\n",
            "19712/19712 [==============================] - 6s 326us/step - loss: 0.5735 - accuracy: 0.8096 - val_loss: 0.4390 - val_accuracy: 0.8634\n",
            "Epoch 77/250\n",
            "19712/19712 [==============================] - 6s 325us/step - loss: 0.5902 - accuracy: 0.8079 - val_loss: 0.4814 - val_accuracy: 0.8468\n",
            "Epoch 78/250\n",
            "19712/19712 [==============================] - 7s 335us/step - loss: 0.5743 - accuracy: 0.8083 - val_loss: 0.4608 - val_accuracy: 0.8517\n",
            "Epoch 79/250\n",
            "19712/19712 [==============================] - 7s 332us/step - loss: 0.5687 - accuracy: 0.8115 - val_loss: 0.4581 - val_accuracy: 0.8604\n",
            "Epoch 80/250\n",
            "19712/19712 [==============================] - 6s 322us/step - loss: 0.5703 - accuracy: 0.8100 - val_loss: 0.4415 - val_accuracy: 0.8628\n",
            "Epoch 81/250\n",
            "19712/19712 [==============================] - 6s 319us/step - loss: 0.5745 - accuracy: 0.8085 - val_loss: 0.4526 - val_accuracy: 0.8502\n",
            "Epoch 82/250\n",
            "19712/19712 [==============================] - 6s 321us/step - loss: 0.5652 - accuracy: 0.8139 - val_loss: 0.4423 - val_accuracy: 0.8600\n",
            "Epoch 83/250\n",
            "19712/19712 [==============================] - 6s 320us/step - loss: 0.5711 - accuracy: 0.8101 - val_loss: 0.4610 - val_accuracy: 0.8586\n",
            "Epoch 84/250\n",
            "19712/19712 [==============================] - 6s 320us/step - loss: 0.5626 - accuracy: 0.8134 - val_loss: 0.4547 - val_accuracy: 0.8537\n",
            "Epoch 85/250\n",
            "19712/19712 [==============================] - 6s 323us/step - loss: 0.5667 - accuracy: 0.8143 - val_loss: 0.4640 - val_accuracy: 0.8523\n",
            "Epoch 86/250\n",
            "19712/19712 [==============================] - 6s 326us/step - loss: 0.5781 - accuracy: 0.8083 - val_loss: 0.4633 - val_accuracy: 0.8573\n",
            "Epoch 87/250\n",
            "19712/19712 [==============================] - 6s 326us/step - loss: 0.5609 - accuracy: 0.8146 - val_loss: 0.4593 - val_accuracy: 0.8553\n",
            "Epoch 88/250\n",
            "19712/19712 [==============================] - 6s 324us/step - loss: 0.5646 - accuracy: 0.8106 - val_loss: 0.4457 - val_accuracy: 0.8598\n",
            "Epoch 89/250\n",
            "19712/19712 [==============================] - 6s 324us/step - loss: 0.5440 - accuracy: 0.8185 - val_loss: 0.4465 - val_accuracy: 0.8606\n",
            "Epoch 90/250\n",
            "19712/19712 [==============================] - 6s 321us/step - loss: 0.5764 - accuracy: 0.8081 - val_loss: 0.4615 - val_accuracy: 0.8553\n",
            "Epoch 91/250\n",
            "19712/19712 [==============================] - 6s 327us/step - loss: 0.5571 - accuracy: 0.8171 - val_loss: 0.4397 - val_accuracy: 0.8584\n",
            "Epoch 92/250\n",
            "19712/19712 [==============================] - 6s 328us/step - loss: 0.5500 - accuracy: 0.8182 - val_loss: 0.4378 - val_accuracy: 0.8602\n",
            "Epoch 93/250\n",
            "19712/19712 [==============================] - 7s 340us/step - loss: 0.5601 - accuracy: 0.8134 - val_loss: 0.4698 - val_accuracy: 0.8509\n",
            "Epoch 94/250\n",
            "19712/19712 [==============================] - 6s 327us/step - loss: 0.5559 - accuracy: 0.8202 - val_loss: 0.4305 - val_accuracy: 0.8588\n",
            "Epoch 95/250\n",
            "19712/19712 [==============================] - 7s 330us/step - loss: 0.5526 - accuracy: 0.8169 - val_loss: 0.4767 - val_accuracy: 0.8478\n",
            "Epoch 96/250\n",
            "19712/19712 [==============================] - 6s 321us/step - loss: 0.5600 - accuracy: 0.8166 - val_loss: 0.4332 - val_accuracy: 0.8640\n",
            "Epoch 97/250\n",
            "19712/19712 [==============================] - 6s 326us/step - loss: 0.5471 - accuracy: 0.8192 - val_loss: 0.4398 - val_accuracy: 0.8578\n",
            "Epoch 98/250\n",
            "19712/19712 [==============================] - 6s 328us/step - loss: 0.5390 - accuracy: 0.8203 - val_loss: 0.4690 - val_accuracy: 0.8531\n",
            "Epoch 99/250\n",
            "19712/19712 [==============================] - 7s 339us/step - loss: 0.5557 - accuracy: 0.8176 - val_loss: 0.4330 - val_accuracy: 0.8667\n",
            "Epoch 100/250\n",
            "19712/19712 [==============================] - 6s 327us/step - loss: 0.5659 - accuracy: 0.8131 - val_loss: 0.4524 - val_accuracy: 0.8575\n",
            "Epoch 101/250\n",
            "19712/19712 [==============================] - 6s 325us/step - loss: 0.5461 - accuracy: 0.8167 - val_loss: 0.4618 - val_accuracy: 0.8531\n",
            "Epoch 102/250\n",
            "19712/19712 [==============================] - 7s 332us/step - loss: 0.5480 - accuracy: 0.8179 - val_loss: 0.4541 - val_accuracy: 0.8567\n",
            "Epoch 103/250\n",
            "19712/19712 [==============================] - 7s 330us/step - loss: 0.5366 - accuracy: 0.8218 - val_loss: 0.4419 - val_accuracy: 0.8588\n",
            "Epoch 104/250\n",
            "19712/19712 [==============================] - 6s 325us/step - loss: 0.5531 - accuracy: 0.8197 - val_loss: 0.6223 - val_accuracy: 0.8139\n",
            "Epoch 105/250\n",
            "19712/19712 [==============================] - 6s 321us/step - loss: 0.5399 - accuracy: 0.8231 - val_loss: 0.4625 - val_accuracy: 0.8563\n",
            "Epoch 106/250\n",
            "19712/19712 [==============================] - 6s 328us/step - loss: 0.5406 - accuracy: 0.8253 - val_loss: 0.4450 - val_accuracy: 0.8612\n",
            "Epoch 107/250\n",
            "19712/19712 [==============================] - 6s 328us/step - loss: 0.5494 - accuracy: 0.8223 - val_loss: 0.4829 - val_accuracy: 0.8456\n",
            "Epoch 108/250\n",
            "19712/19712 [==============================] - 6s 327us/step - loss: 0.5540 - accuracy: 0.8147 - val_loss: 0.4939 - val_accuracy: 0.8513\n",
            "Epoch 109/250\n",
            "19712/19712 [==============================] - 6s 328us/step - loss: 0.5463 - accuracy: 0.8211 - val_loss: 0.4926 - val_accuracy: 0.8504\n",
            "Epoch 110/250\n",
            "19712/19712 [==============================] - 6s 327us/step - loss: 0.5391 - accuracy: 0.8210 - val_loss: 0.4735 - val_accuracy: 0.8452\n",
            "Epoch 111/250\n",
            "19712/19712 [==============================] - 6s 327us/step - loss: 0.5667 - accuracy: 0.8166 - val_loss: 0.4414 - val_accuracy: 0.8622\n",
            "Epoch 112/250\n",
            "19712/19712 [==============================] - 6s 324us/step - loss: 0.5367 - accuracy: 0.8234 - val_loss: 0.4437 - val_accuracy: 0.8632\n",
            "Epoch 113/250\n",
            "19712/19712 [==============================] - 6s 326us/step - loss: 0.5422 - accuracy: 0.8232 - val_loss: 0.4441 - val_accuracy: 0.8600\n",
            "Epoch 114/250\n",
            "19712/19712 [==============================] - 6s 324us/step - loss: 0.5443 - accuracy: 0.8214 - val_loss: 0.5427 - val_accuracy: 0.8291\n",
            "Epoch 115/250\n",
            "19712/19712 [==============================] - 6s 325us/step - loss: 0.5361 - accuracy: 0.8236 - val_loss: 0.5611 - val_accuracy: 0.8214\n",
            "Epoch 116/250\n",
            "19712/19712 [==============================] - 6s 324us/step - loss: 0.5373 - accuracy: 0.8235 - val_loss: 0.4230 - val_accuracy: 0.8671\n",
            "Epoch 117/250\n",
            "19712/19712 [==============================] - 6s 322us/step - loss: 0.5403 - accuracy: 0.8222 - val_loss: 0.4727 - val_accuracy: 0.8496\n",
            "Epoch 118/250\n",
            "19712/19712 [==============================] - 7s 331us/step - loss: 0.5237 - accuracy: 0.8257 - val_loss: 0.5520 - val_accuracy: 0.8373\n",
            "Epoch 119/250\n",
            "19712/19712 [==============================] - 6s 325us/step - loss: 0.5459 - accuracy: 0.8205 - val_loss: 0.4879 - val_accuracy: 0.8458\n",
            "Epoch 120/250\n",
            "19712/19712 [==============================] - 7s 334us/step - loss: 0.5363 - accuracy: 0.8219 - val_loss: 0.4327 - val_accuracy: 0.8640\n",
            "Epoch 121/250\n",
            "19712/19712 [==============================] - 7s 340us/step - loss: 0.5321 - accuracy: 0.8277 - val_loss: 0.5087 - val_accuracy: 0.8364\n",
            "Epoch 122/250\n",
            "19712/19712 [==============================] - 6s 327us/step - loss: 0.5338 - accuracy: 0.8247 - val_loss: 0.4502 - val_accuracy: 0.8594\n",
            "Epoch 123/250\n",
            "19712/19712 [==============================] - 6s 328us/step - loss: 0.5427 - accuracy: 0.8222 - val_loss: 0.4341 - val_accuracy: 0.8606\n",
            "Epoch 124/250\n",
            "19712/19712 [==============================] - 6s 321us/step - loss: 0.5345 - accuracy: 0.8263 - val_loss: 0.4865 - val_accuracy: 0.8486\n",
            "Epoch 125/250\n",
            "19712/19712 [==============================] - 6s 315us/step - loss: 0.5381 - accuracy: 0.8245 - val_loss: 0.4462 - val_accuracy: 0.8561\n",
            "Epoch 126/250\n",
            "19712/19712 [==============================] - 6s 323us/step - loss: 0.5289 - accuracy: 0.8244 - val_loss: 0.7304 - val_accuracy: 0.7750\n",
            "Epoch 127/250\n",
            "19712/19712 [==============================] - 6s 325us/step - loss: 0.5317 - accuracy: 0.8201 - val_loss: 0.5547 - val_accuracy: 0.8348\n",
            "Epoch 128/250\n",
            "19712/19712 [==============================] - 6s 325us/step - loss: 0.5339 - accuracy: 0.8240 - val_loss: 0.6242 - val_accuracy: 0.8093\n",
            "Epoch 129/250\n",
            "19712/19712 [==============================] - 7s 331us/step - loss: 0.5349 - accuracy: 0.8232 - val_loss: 0.4324 - val_accuracy: 0.8642\n",
            "Epoch 130/250\n",
            "19712/19712 [==============================] - 6s 322us/step - loss: 0.5354 - accuracy: 0.8256 - val_loss: 0.4353 - val_accuracy: 0.8616\n",
            "Epoch 131/250\n",
            "19712/19712 [==============================] - 6s 320us/step - loss: 0.5207 - accuracy: 0.8284 - val_loss: 0.4456 - val_accuracy: 0.8598\n",
            "Epoch 132/250\n",
            "19712/19712 [==============================] - 6s 323us/step - loss: 0.5362 - accuracy: 0.8230 - val_loss: 0.6380 - val_accuracy: 0.7928\n",
            "Epoch 133/250\n",
            "19712/19712 [==============================] - 6s 324us/step - loss: 0.5392 - accuracy: 0.8266 - val_loss: 0.4442 - val_accuracy: 0.8657\n",
            "Epoch 134/250\n",
            "19712/19712 [==============================] - 6s 324us/step - loss: 0.5247 - accuracy: 0.8321 - val_loss: 0.5135 - val_accuracy: 0.8389\n",
            "Epoch 135/250\n",
            "19712/19712 [==============================] - 6s 324us/step - loss: 0.5325 - accuracy: 0.8253 - val_loss: 0.5737 - val_accuracy: 0.8119\n",
            "Epoch 136/250\n",
            "19712/19712 [==============================] - 6s 324us/step - loss: 0.5328 - accuracy: 0.8274 - val_loss: 0.4971 - val_accuracy: 0.8448\n",
            "Epoch 137/250\n",
            "19712/19712 [==============================] - 6s 326us/step - loss: 0.5271 - accuracy: 0.8281 - val_loss: 0.4774 - val_accuracy: 0.8438\n",
            "Epoch 138/250\n",
            "19712/19712 [==============================] - 6s 327us/step - loss: 0.5332 - accuracy: 0.8277 - val_loss: 0.4384 - val_accuracy: 0.8716\n",
            "Epoch 139/250\n",
            "19712/19712 [==============================] - 6s 320us/step - loss: 0.5341 - accuracy: 0.8242 - val_loss: 0.4363 - val_accuracy: 0.8624\n",
            "Epoch 140/250\n",
            "19712/19712 [==============================] - 6s 329us/step - loss: 0.5255 - accuracy: 0.8271 - val_loss: 0.4184 - val_accuracy: 0.8703\n",
            "Epoch 141/250\n",
            "19712/19712 [==============================] - 6s 327us/step - loss: 0.5172 - accuracy: 0.8305 - val_loss: 0.5478 - val_accuracy: 0.8369\n",
            "Epoch 142/250\n",
            "19712/19712 [==============================] - 6s 324us/step - loss: 0.5236 - accuracy: 0.8302 - val_loss: 0.4221 - val_accuracy: 0.8726\n",
            "Epoch 143/250\n",
            "19712/19712 [==============================] - 6s 326us/step - loss: 0.5274 - accuracy: 0.8251 - val_loss: 0.4250 - val_accuracy: 0.8653\n",
            "Epoch 144/250\n",
            "19712/19712 [==============================] - 6s 325us/step - loss: 0.5275 - accuracy: 0.8293 - val_loss: 0.5522 - val_accuracy: 0.8302\n",
            "Epoch 145/250\n",
            "19712/19712 [==============================] - 6s 327us/step - loss: 0.5303 - accuracy: 0.8255 - val_loss: 1.8466 - val_accuracy: 0.6169\n",
            "Epoch 146/250\n",
            "19712/19712 [==============================] - 6s 323us/step - loss: 0.5288 - accuracy: 0.8280 - val_loss: 1.1755 - val_accuracy: 0.6694\n",
            "Epoch 147/250\n",
            "19712/19712 [==============================] - 6s 322us/step - loss: 0.5285 - accuracy: 0.8289 - val_loss: 0.5477 - val_accuracy: 0.8326\n",
            "Epoch 148/250\n",
            "19712/19712 [==============================] - 6s 318us/step - loss: 0.5204 - accuracy: 0.8331 - val_loss: 0.4490 - val_accuracy: 0.8563\n",
            "Epoch 149/250\n",
            "19712/19712 [==============================] - 6s 322us/step - loss: 0.5192 - accuracy: 0.8306 - val_loss: 0.4778 - val_accuracy: 0.8452\n",
            "Epoch 150/250\n",
            "19712/19712 [==============================] - 6s 320us/step - loss: 0.5183 - accuracy: 0.8290 - val_loss: 0.5580 - val_accuracy: 0.8190\n",
            "Epoch 151/250\n",
            "19712/19712 [==============================] - 7s 330us/step - loss: 0.5318 - accuracy: 0.8279 - val_loss: 0.4606 - val_accuracy: 0.8632\n",
            "Epoch 152/250\n",
            "19712/19712 [==============================] - 6s 327us/step - loss: 0.5206 - accuracy: 0.8291 - val_loss: 0.6393 - val_accuracy: 0.8131\n",
            "Epoch 153/250\n",
            "19712/19712 [==============================] - 6s 326us/step - loss: 0.5235 - accuracy: 0.8314 - val_loss: 0.4265 - val_accuracy: 0.8644\n",
            "Epoch 154/250\n",
            "19712/19712 [==============================] - 6s 325us/step - loss: 0.5152 - accuracy: 0.8326 - val_loss: 0.4365 - val_accuracy: 0.8614\n",
            "Epoch 155/250\n",
            "19712/19712 [==============================] - 6s 321us/step - loss: 0.5222 - accuracy: 0.8268 - val_loss: 0.4337 - val_accuracy: 0.8580\n",
            "Epoch 156/250\n",
            "19712/19712 [==============================] - 6s 319us/step - loss: 0.5372 - accuracy: 0.8272 - val_loss: 0.5401 - val_accuracy: 0.8279\n",
            "Epoch 157/250\n",
            "19712/19712 [==============================] - 6s 321us/step - loss: 0.5216 - accuracy: 0.8327 - val_loss: 0.4925 - val_accuracy: 0.8523\n",
            "Epoch 158/250\n",
            "19712/19712 [==============================] - 6s 321us/step - loss: 0.5147 - accuracy: 0.8342 - val_loss: 0.6523 - val_accuracy: 0.8084\n",
            "Epoch 159/250\n",
            "19712/19712 [==============================] - 6s 317us/step - loss: 0.5272 - accuracy: 0.8318 - val_loss: 0.4461 - val_accuracy: 0.8673\n",
            "Epoch 160/250\n",
            "19712/19712 [==============================] - 6s 321us/step - loss: 0.5224 - accuracy: 0.8281 - val_loss: 0.4398 - val_accuracy: 0.8711\n",
            "Epoch 161/250\n",
            "19712/19712 [==============================] - 6s 327us/step - loss: 0.5305 - accuracy: 0.8280 - val_loss: 0.4223 - val_accuracy: 0.8673\n",
            "Epoch 162/250\n",
            "19712/19712 [==============================] - 7s 330us/step - loss: 0.5165 - accuracy: 0.8304 - val_loss: 0.6259 - val_accuracy: 0.8001\n",
            "Epoch 163/250\n",
            "19712/19712 [==============================] - 6s 329us/step - loss: 0.5165 - accuracy: 0.8357 - val_loss: 0.4449 - val_accuracy: 0.8598\n",
            "Epoch 164/250\n",
            "19712/19712 [==============================] - 6s 324us/step - loss: 0.5173 - accuracy: 0.8301 - val_loss: 0.4335 - val_accuracy: 0.8647\n",
            "Epoch 165/250\n",
            "19712/19712 [==============================] - 6s 322us/step - loss: 0.5165 - accuracy: 0.8335 - val_loss: 0.4149 - val_accuracy: 0.8647\n",
            "Epoch 166/250\n",
            "19712/19712 [==============================] - 6s 325us/step - loss: 0.5116 - accuracy: 0.8330 - val_loss: 0.5224 - val_accuracy: 0.8484\n",
            "Epoch 167/250\n",
            "19712/19712 [==============================] - 6s 325us/step - loss: 0.5251 - accuracy: 0.8301 - val_loss: 0.7869 - val_accuracy: 0.7587\n",
            "Epoch 168/250\n",
            "19712/19712 [==============================] - 6s 323us/step - loss: 0.5042 - accuracy: 0.8363 - val_loss: 0.6680 - val_accuracy: 0.8074\n",
            "Epoch 169/250\n",
            "19712/19712 [==============================] - 7s 341us/step - loss: 0.5110 - accuracy: 0.8309 - val_loss: 0.4265 - val_accuracy: 0.8663\n",
            "Epoch 170/250\n",
            "19712/19712 [==============================] - 7s 339us/step - loss: 0.5131 - accuracy: 0.8323 - val_loss: 0.4746 - val_accuracy: 0.8456\n",
            "Epoch 171/250\n",
            "19712/19712 [==============================] - 7s 333us/step - loss: 0.5113 - accuracy: 0.8363 - val_loss: 0.4191 - val_accuracy: 0.8746\n",
            "Epoch 172/250\n",
            "19712/19712 [==============================] - 6s 327us/step - loss: 0.5136 - accuracy: 0.8351 - val_loss: 0.6170 - val_accuracy: 0.8103\n",
            "Epoch 173/250\n",
            "19712/19712 [==============================] - 6s 325us/step - loss: 0.5201 - accuracy: 0.8340 - val_loss: 0.4973 - val_accuracy: 0.8462\n",
            "Epoch 174/250\n",
            "19712/19712 [==============================] - 6s 326us/step - loss: 0.4976 - accuracy: 0.8349 - val_loss: 0.4392 - val_accuracy: 0.8657\n",
            "Epoch 175/250\n",
            "19712/19712 [==============================] - 6s 325us/step - loss: 0.5130 - accuracy: 0.8326 - val_loss: 0.4617 - val_accuracy: 0.8622\n",
            "Epoch 176/250\n",
            "19712/19712 [==============================] - 6s 323us/step - loss: 0.5083 - accuracy: 0.8322 - val_loss: 0.7008 - val_accuracy: 0.7959\n",
            "Epoch 177/250\n",
            "19712/19712 [==============================] - 6s 324us/step - loss: 0.5066 - accuracy: 0.8379 - val_loss: 0.4325 - val_accuracy: 0.8632\n",
            "Epoch 178/250\n",
            "19712/19712 [==============================] - 6s 325us/step - loss: 0.5038 - accuracy: 0.8331 - val_loss: 0.4312 - val_accuracy: 0.8638\n",
            "Epoch 179/250\n",
            "19712/19712 [==============================] - 6s 329us/step - loss: 0.5210 - accuracy: 0.8321 - val_loss: 0.6121 - val_accuracy: 0.8186\n",
            "Epoch 180/250\n",
            "19712/19712 [==============================] - 6s 317us/step - loss: 0.5060 - accuracy: 0.8370 - val_loss: 0.4468 - val_accuracy: 0.8586\n",
            "Epoch 181/250\n",
            "19712/19712 [==============================] - 6s 317us/step - loss: 0.5255 - accuracy: 0.8294 - val_loss: 0.4373 - val_accuracy: 0.8687\n",
            "Epoch 182/250\n",
            "19712/19712 [==============================] - 6s 320us/step - loss: 0.5075 - accuracy: 0.8345 - val_loss: 0.4751 - val_accuracy: 0.8525\n",
            "Epoch 183/250\n",
            "19712/19712 [==============================] - 6s 326us/step - loss: 0.5181 - accuracy: 0.8332 - val_loss: 0.4427 - val_accuracy: 0.8685\n",
            "Epoch 184/250\n",
            "19712/19712 [==============================] - 6s 326us/step - loss: 0.5225 - accuracy: 0.8354 - val_loss: 0.4520 - val_accuracy: 0.8596\n",
            "Epoch 185/250\n",
            "19712/19712 [==============================] - 6s 322us/step - loss: 0.5017 - accuracy: 0.8396 - val_loss: 1.2204 - val_accuracy: 0.7001\n",
            "Epoch 186/250\n",
            "19712/19712 [==============================] - 6s 327us/step - loss: 0.5055 - accuracy: 0.8363 - val_loss: 0.7231 - val_accuracy: 0.7569\n",
            "Epoch 187/250\n",
            "19712/19712 [==============================] - 6s 323us/step - loss: 0.5177 - accuracy: 0.8339 - val_loss: 0.4350 - val_accuracy: 0.8642\n",
            "Epoch 188/250\n",
            "19712/19712 [==============================] - 6s 324us/step - loss: 0.4986 - accuracy: 0.8384 - val_loss: 0.4395 - val_accuracy: 0.8632\n",
            "Epoch 189/250\n",
            "19712/19712 [==============================] - 6s 329us/step - loss: 0.5239 - accuracy: 0.8334 - val_loss: 0.4176 - val_accuracy: 0.8736\n",
            "Epoch 190/250\n",
            "19712/19712 [==============================] - 7s 330us/step - loss: 0.5026 - accuracy: 0.8347 - val_loss: 0.4545 - val_accuracy: 0.8602\n",
            "Epoch 191/250\n",
            "19712/19712 [==============================] - 6s 326us/step - loss: 0.5145 - accuracy: 0.8330 - val_loss: 0.4723 - val_accuracy: 0.8543\n",
            "Epoch 192/250\n",
            "19712/19712 [==============================] - 6s 322us/step - loss: 0.5182 - accuracy: 0.8348 - val_loss: 0.4441 - val_accuracy: 0.8614\n",
            "Epoch 193/250\n",
            "19712/19712 [==============================] - 7s 330us/step - loss: 0.5171 - accuracy: 0.8337 - val_loss: 0.5676 - val_accuracy: 0.8302\n",
            "Epoch 194/250\n",
            "19712/19712 [==============================] - 7s 331us/step - loss: 0.5188 - accuracy: 0.8312 - val_loss: 0.5303 - val_accuracy: 0.8395\n",
            "Epoch 195/250\n",
            "19712/19712 [==============================] - 6s 316us/step - loss: 0.4976 - accuracy: 0.8380 - val_loss: 0.6808 - val_accuracy: 0.8036\n",
            "Epoch 196/250\n",
            "19712/19712 [==============================] - 6s 319us/step - loss: 0.4972 - accuracy: 0.8390 - val_loss: 0.4252 - val_accuracy: 0.8693\n",
            "Epoch 197/250\n",
            "19712/19712 [==============================] - 6s 320us/step - loss: 0.5125 - accuracy: 0.8347 - val_loss: 0.4344 - val_accuracy: 0.8644\n",
            "Epoch 198/250\n",
            "19712/19712 [==============================] - 6s 322us/step - loss: 0.5016 - accuracy: 0.8373 - val_loss: 0.4148 - val_accuracy: 0.8722\n",
            "Epoch 199/250\n",
            "19712/19712 [==============================] - 6s 329us/step - loss: 0.5222 - accuracy: 0.8310 - val_loss: 0.4300 - val_accuracy: 0.8701\n",
            "Epoch 200/250\n",
            "19712/19712 [==============================] - 6s 324us/step - loss: 0.5043 - accuracy: 0.8388 - val_loss: 0.4264 - val_accuracy: 0.8657\n",
            "Epoch 201/250\n",
            "19712/19712 [==============================] - 6s 325us/step - loss: 0.4956 - accuracy: 0.8406 - val_loss: 0.4393 - val_accuracy: 0.8634\n",
            "Epoch 202/250\n",
            "19712/19712 [==============================] - 6s 326us/step - loss: 0.4994 - accuracy: 0.8401 - val_loss: 0.5086 - val_accuracy: 0.8340\n",
            "Epoch 203/250\n",
            "19712/19712 [==============================] - 6s 326us/step - loss: 0.4975 - accuracy: 0.8383 - val_loss: 0.4478 - val_accuracy: 0.8622\n",
            "Epoch 204/250\n",
            "19712/19712 [==============================] - 6s 322us/step - loss: 0.4972 - accuracy: 0.8380 - val_loss: 0.4641 - val_accuracy: 0.8561\n",
            "Epoch 205/250\n",
            "19712/19712 [==============================] - 6s 321us/step - loss: 0.5146 - accuracy: 0.8345 - val_loss: 0.4738 - val_accuracy: 0.8525\n",
            "Epoch 206/250\n",
            "19712/19712 [==============================] - 6s 320us/step - loss: 0.5091 - accuracy: 0.8356 - val_loss: 0.5466 - val_accuracy: 0.8214\n",
            "Epoch 207/250\n",
            "19712/19712 [==============================] - 6s 327us/step - loss: 0.5066 - accuracy: 0.8359 - val_loss: 0.4225 - val_accuracy: 0.8699\n",
            "Epoch 208/250\n",
            "19712/19712 [==============================] - 6s 327us/step - loss: 0.5081 - accuracy: 0.8360 - val_loss: 0.7112 - val_accuracy: 0.7979\n",
            "Epoch 209/250\n",
            "19712/19712 [==============================] - 6s 323us/step - loss: 0.5058 - accuracy: 0.8369 - val_loss: 0.4233 - val_accuracy: 0.8697\n",
            "Epoch 210/250\n",
            "19712/19712 [==============================] - 6s 322us/step - loss: 0.4886 - accuracy: 0.8415 - val_loss: 0.4187 - val_accuracy: 0.8683\n",
            "Epoch 211/250\n",
            "19712/19712 [==============================] - 6s 329us/step - loss: 0.5138 - accuracy: 0.8346 - val_loss: 0.4482 - val_accuracy: 0.8687\n",
            "Epoch 212/250\n",
            "19712/19712 [==============================] - 6s 325us/step - loss: 0.5069 - accuracy: 0.8374 - val_loss: 0.5524 - val_accuracy: 0.8360\n",
            "Epoch 213/250\n",
            "19712/19712 [==============================] - 7s 330us/step - loss: 0.5012 - accuracy: 0.8386 - val_loss: 0.4661 - val_accuracy: 0.8616\n",
            "Epoch 214/250\n",
            "19712/19712 [==============================] - 6s 330us/step - loss: 0.4985 - accuracy: 0.8390 - val_loss: 0.4333 - val_accuracy: 0.8638\n",
            "Epoch 215/250\n",
            "19712/19712 [==============================] - 6s 323us/step - loss: 0.5029 - accuracy: 0.8390 - val_loss: 0.5297 - val_accuracy: 0.8257\n",
            "Epoch 216/250\n",
            "19712/19712 [==============================] - 6s 329us/step - loss: 0.5097 - accuracy: 0.8371 - val_loss: 0.4793 - val_accuracy: 0.8557\n",
            "Epoch 217/250\n",
            "19712/19712 [==============================] - 7s 334us/step - loss: 0.4913 - accuracy: 0.8414 - val_loss: 0.4841 - val_accuracy: 0.8452\n",
            "Epoch 218/250\n",
            "19712/19712 [==============================] - 7s 342us/step - loss: 0.4983 - accuracy: 0.8397 - val_loss: 0.4294 - val_accuracy: 0.8636\n",
            "Epoch 219/250\n",
            "19712/19712 [==============================] - 6s 323us/step - loss: 0.5011 - accuracy: 0.8359 - val_loss: 0.4162 - val_accuracy: 0.8709\n",
            "Epoch 220/250\n",
            "19712/19712 [==============================] - 6s 320us/step - loss: 0.5090 - accuracy: 0.8371 - val_loss: 0.4247 - val_accuracy: 0.8677\n",
            "Epoch 221/250\n",
            "19712/19712 [==============================] - 6s 324us/step - loss: 0.4781 - accuracy: 0.8451 - val_loss: 0.4209 - val_accuracy: 0.8647\n",
            "Epoch 222/250\n",
            "19712/19712 [==============================] - 6s 324us/step - loss: 0.4986 - accuracy: 0.8401 - val_loss: 0.4290 - val_accuracy: 0.8699\n",
            "Epoch 223/250\n",
            "19712/19712 [==============================] - 6s 327us/step - loss: 0.5095 - accuracy: 0.8326 - val_loss: 0.4474 - val_accuracy: 0.8602\n",
            "Epoch 224/250\n",
            "19712/19712 [==============================] - 6s 326us/step - loss: 0.4927 - accuracy: 0.8363 - val_loss: 0.5477 - val_accuracy: 0.8222\n",
            "Epoch 225/250\n",
            "19712/19712 [==============================] - 6s 324us/step - loss: 0.5028 - accuracy: 0.8379 - val_loss: 0.4225 - val_accuracy: 0.8726\n",
            "Epoch 226/250\n",
            "19712/19712 [==============================] - 6s 327us/step - loss: 0.4955 - accuracy: 0.8424 - val_loss: 0.4147 - val_accuracy: 0.8711\n",
            "Epoch 227/250\n",
            "19712/19712 [==============================] - 6s 329us/step - loss: 0.5081 - accuracy: 0.8385 - val_loss: 0.4736 - val_accuracy: 0.8614\n",
            "Epoch 228/250\n",
            "19712/19712 [==============================] - 6s 326us/step - loss: 0.5016 - accuracy: 0.8402 - val_loss: 0.4261 - val_accuracy: 0.8651\n",
            "Epoch 229/250\n",
            "19712/19712 [==============================] - 7s 331us/step - loss: 0.4980 - accuracy: 0.8382 - val_loss: 0.4507 - val_accuracy: 0.8575\n",
            "Epoch 230/250\n",
            "19712/19712 [==============================] - 6s 323us/step - loss: 0.4921 - accuracy: 0.8437 - val_loss: 0.4286 - val_accuracy: 0.8693\n",
            "Epoch 231/250\n",
            "19712/19712 [==============================] - 6s 327us/step - loss: 0.5006 - accuracy: 0.8386 - val_loss: 0.4742 - val_accuracy: 0.8488\n",
            "Epoch 232/250\n",
            "19712/19712 [==============================] - 6s 325us/step - loss: 0.5091 - accuracy: 0.8359 - val_loss: 0.4693 - val_accuracy: 0.8573\n",
            "Epoch 233/250\n",
            "19712/19712 [==============================] - 7s 330us/step - loss: 0.4935 - accuracy: 0.8417 - val_loss: 0.5714 - val_accuracy: 0.8306\n",
            "Epoch 234/250\n",
            "19712/19712 [==============================] - 6s 326us/step - loss: 0.4999 - accuracy: 0.8373 - val_loss: 0.4258 - val_accuracy: 0.8709\n",
            "Epoch 235/250\n",
            "19712/19712 [==============================] - 6s 326us/step - loss: 0.4949 - accuracy: 0.8393 - val_loss: 0.4252 - val_accuracy: 0.8701\n",
            "Epoch 236/250\n",
            "19712/19712 [==============================] - 6s 328us/step - loss: 0.4865 - accuracy: 0.8448 - val_loss: 0.4302 - val_accuracy: 0.8640\n",
            "Epoch 237/250\n",
            "19712/19712 [==============================] - 7s 332us/step - loss: 0.4873 - accuracy: 0.8466 - val_loss: 0.5984 - val_accuracy: 0.8330\n",
            "Epoch 238/250\n",
            "19712/19712 [==============================] - 6s 327us/step - loss: 0.4829 - accuracy: 0.8416 - val_loss: 0.4173 - val_accuracy: 0.8695\n",
            "Epoch 239/250\n",
            "19712/19712 [==============================] - 6s 327us/step - loss: 0.5045 - accuracy: 0.8397 - val_loss: 0.4489 - val_accuracy: 0.8628\n",
            "Epoch 240/250\n",
            "19712/19712 [==============================] - 6s 325us/step - loss: 0.5116 - accuracy: 0.8386 - val_loss: 0.4202 - val_accuracy: 0.8722\n",
            "Epoch 241/250\n",
            "19712/19712 [==============================] - 7s 334us/step - loss: 0.4929 - accuracy: 0.8396 - val_loss: 0.4220 - val_accuracy: 0.8699\n",
            "Epoch 242/250\n",
            "19712/19712 [==============================] - 7s 333us/step - loss: 0.4960 - accuracy: 0.8385 - val_loss: 0.4283 - val_accuracy: 0.8736\n",
            "Epoch 243/250\n",
            "19712/19712 [==============================] - 6s 327us/step - loss: 0.4915 - accuracy: 0.8408 - val_loss: 0.4135 - val_accuracy: 0.8701\n",
            "Epoch 244/250\n",
            "19712/19712 [==============================] - 6s 325us/step - loss: 0.5041 - accuracy: 0.8366 - val_loss: 0.4149 - val_accuracy: 0.8728\n",
            "Epoch 245/250\n",
            "19712/19712 [==============================] - 6s 322us/step - loss: 0.4771 - accuracy: 0.8468 - val_loss: 0.4373 - val_accuracy: 0.8667\n",
            "Epoch 246/250\n",
            "19712/19712 [==============================] - 6s 328us/step - loss: 0.4993 - accuracy: 0.8423 - val_loss: 0.6129 - val_accuracy: 0.7922\n",
            "Epoch 247/250\n",
            "19712/19712 [==============================] - 7s 330us/step - loss: 0.5039 - accuracy: 0.8405 - val_loss: 0.4664 - val_accuracy: 0.8529\n",
            "Epoch 248/250\n",
            "19712/19712 [==============================] - 7s 332us/step - loss: 0.5034 - accuracy: 0.8392 - val_loss: 0.4391 - val_accuracy: 0.8683\n",
            "Epoch 249/250\n",
            "19712/19712 [==============================] - 7s 332us/step - loss: 0.4959 - accuracy: 0.8398 - val_loss: 0.4159 - val_accuracy: 0.8724\n",
            "Epoch 250/250\n",
            "19712/19712 [==============================] - 6s 326us/step - loss: 0.4808 - accuracy: 0.8480 - val_loss: 0.4214 - val_accuracy: 0.8713\n",
            "4928/4928 [==============================] - 1s 287us/step\n",
            "Test loss:  0.42140843796652633\n",
            "Test Accuracy:  0.8713474273681641\n"
          ],
          "name": "stdout"
        },
        {
          "output_type": "display_data",
          "data": {
            "image/png": "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\n",
            "text/plain": [
              "<Figure size 720x360 with 1 Axes>"
            ]
          },
          "metadata": {
            "tags": []
          }
        }
      ]
    },
    {
      "cell_type": "code",
      "metadata": {
        "id": "gLs5CPp7ZUHT",
        "colab_type": "code",
        "colab": {}
      },
      "source": [
        ""
      ],
      "execution_count": 14,
      "outputs": []
    },
    {
      "cell_type": "markdown",
      "metadata": {
        "id": "Rc-VpuToXO0v",
        "colab_type": "text"
      },
      "source": [
        "#observations :\n",
        "1. We obtained the good model whose accuracy is 87%.\n",
        "2. Model is not overfitting which is shown in the above plotting of the results. "
      ]
    },
    {
      "cell_type": "code",
      "metadata": {
        "id": "xf9mLrTIbS44",
        "colab_type": "code",
        "colab": {}
      },
      "source": [
        "#prediction of the output.\n",
        "prediction = list(model.predict_classes(test))\n"
      ],
      "execution_count": 15,
      "outputs": []
    },
    {
      "cell_type": "code",
      "metadata": {
        "id": "rgeXi2NSY9xM",
        "colab_type": "code",
        "colab": {}
      },
      "source": [
        "# creating submission file\n",
        "sample = pd.read_csv('/content/Dataset/results.csv')\n",
        "\n",
        "sample['predicted_labels'] = prediction\n",
        "sample.to_csv('predictions.csv', header=True, index=False)\n"
      ],
      "execution_count": 16,
      "outputs": []
    }
  ]
}
